{
  "cells": [
    {
      "cell_type": "markdown",
      "source": [
        "## 뉴스 기사 CSV 병합하기\n",
        "* 용량이 커 Jupyer notebook에서 작업하였습니다.\n",
        ""
      ],
      "metadata": {
        "id": "nWBi-DaC_P9D"
      },
      "id": "nWBi-DaC_P9D"
    },
    {
      "cell_type": "code",
      "execution_count": null,
      "id": "067e85f9-ca36-4ca1-bc6b-7a64d165bc66",
      "metadata": {
        "id": "067e85f9-ca36-4ca1-bc6b-7a64d165bc66",
        "outputId": "ce8801ea-e070-4046-e98d-9598f578c75e"
      },
      "outputs": [
        {
          "name": "stdout",
          "output_type": "stream",
          "text": [
            "/Users/sopung/Desktop/hankyung_crawler\n"
          ]
        },
        {
          "data": {
            "text/plain": [
              "['hankyung_news',\n",
              " 'csv병합.ipynb',\n",
              " '.DS_Store',\n",
              " 'mk.csv',\n",
              " 'han.csv',\n",
              " 'processed_call_rate.csv',\n",
              " '.ipynb_checkpoints',\n",
              " 'edaily.csv',\n",
              " 'hankyung_crawler']"
            ]
          },
          "execution_count": 8,
          "metadata": {},
          "output_type": "execute_result"
        }
      ],
      "source": [
        "# 현재 작업 디렉토리 확인\n",
        "import os\n",
        "print(os.getcwd())\n",
        "\n",
        "# 현재 작업 디렉토리에 파일이 있는지 확인\n",
        "os.listdir()"
      ]
    },
    {
      "cell_type": "markdown",
      "source": [
        "## 뉴스 기사 데이터, 콜금리 변동 데이터 로드"
      ],
      "metadata": {
        "id": "JDfuz3pO_ZlY"
      },
      "id": "JDfuz3pO_ZlY"
    },
    {
      "cell_type": "code",
      "execution_count": null,
      "id": "01f67806-4d8b-4076-a4f7-2405d39dff97",
      "metadata": {
        "id": "01f67806-4d8b-4076-a4f7-2405d39dff97"
      },
      "outputs": [],
      "source": [
        "import pandas as pd\n",
        "\n",
        "# CSV 파일 불러오기\n",
        "df_han = pd.read_csv('/Users/sopung/Desktop/hankyung_crawler/han.csv')\n",
        "df_edaily = pd.read_csv('/Users/sopung/Desktop/hankyung_crawler/edaily.csv')\n",
        "df_mk = pd.read_csv('/Users/sopung/Desktop/hankyung_crawler/mk.csv')\n",
        "df_call_rate = pd.read_csv('/Users/sopung/Desktop/hankyung_crawler/processed_call_rate.csv')  # processed_call_rate.csv 불러오기\n"
      ]
    },
    {
      "cell_type": "code",
      "execution_count": null,
      "id": "eccc5d15-8acc-4871-9aba-ede5d82e9f28",
      "metadata": {
        "id": "eccc5d15-8acc-4871-9aba-ede5d82e9f28",
        "outputId": "5d64201f-bfaf-49b9-90cc-8dc6fff888d7"
      },
      "outputs": [
        {
          "data": {
            "text/html": [
              "<div>\n",
              "<style scoped>\n",
              "    .dataframe tbody tr th:only-of-type {\n",
              "        vertical-align: middle;\n",
              "    }\n",
              "\n",
              "    .dataframe tbody tr th {\n",
              "        vertical-align: top;\n",
              "    }\n",
              "\n",
              "    .dataframe thead th {\n",
              "        text-align: right;\n",
              "    }\n",
              "</style>\n",
              "<table border=\"1\" class=\"dataframe\">\n",
              "  <thead>\n",
              "    <tr style=\"text-align: right;\">\n",
              "      <th></th>\n",
              "      <th>date</th>\n",
              "      <th>url</th>\n",
              "      <th>content</th>\n",
              "    </tr>\n",
              "  </thead>\n",
              "  <tbody>\n",
              "    <tr>\n",
              "      <th>0</th>\n",
              "      <td>2005.03.10</td>\n",
              "      <td>https://www.hankyung.com/article/2005030994811</td>\n",
              "      <td>산업단지 안에 5백평 미만의 작은 공장을 지을 수 있게 된다.\\n\\n최홍건 중소기업...</td>\n",
              "    </tr>\n",
              "    <tr>\n",
              "      <th>1</th>\n",
              "      <td>2005.03.10</td>\n",
              "      <td>https://www.hankyung.com/article/2005030998281</td>\n",
              "      <td>채권시장은 9일 만기별로 금리 등락이 엇갈렸다.\\n\\n지표금리인 3년짜리 국고채 수...</td>\n",
              "    </tr>\n",
              "    <tr>\n",
              "      <th>2</th>\n",
              "      <td>2005.03.10</td>\n",
              "      <td>https://www.hankyung.com/article/2005030997551</td>\n",
              "      <td>&lt; 윤재현 세종증권 리서치센터장 &gt;\\n\\n원자재가격 상승에 대한 우려의 목소리가 커...</td>\n",
              "    </tr>\n",
              "    <tr>\n",
              "      <th>3</th>\n",
              "      <td>2005.03.10</td>\n",
              "      <td>https://www.hankyung.com/article/2005030981866</td>\n",
              "      <td>피데스증권은 원자재 시장에서 투기 수요가 이탈하는 과정에서 증시와 환율시장에 미치는...</td>\n",
              "    </tr>\n",
              "    <tr>\n",
              "      <th>4</th>\n",
              "      <td>2005.03.10</td>\n",
              "      <td>https://www.hankyung.com/article/2005030994021</td>\n",
              "      <td>'헤지펀드와 투자은행의 죽음의 키스?' \\n\\n최근 대형 투자은행들의 헤지펀드에 대...</td>\n",
              "    </tr>\n",
              "    <tr>\n",
              "      <th>...</th>\n",
              "      <td>...</td>\n",
              "      <td>...</td>\n",
              "      <td>...</td>\n",
              "    </tr>\n",
              "    <tr>\n",
              "      <th>104433</th>\n",
              "      <td>2024.07.11</td>\n",
              "      <td>https://www.hankyung.com/article/2024052400166</td>\n",
              "      <td>사진=AFP\\n                    \\n                ...</td>\n",
              "    </tr>\n",
              "    <tr>\n",
              "      <th>104434</th>\n",
              "      <td>2024.07.11</td>\n",
              "      <td>https://www.hankyung.com/article/202405240081i</td>\n",
              "      <td>AI(인공지능) 반도체 대표주자 엔비디아 주가가 23일(현지시간) 9.32% 올랐다...</td>\n",
              "    </tr>\n",
              "    <tr>\n",
              "      <th>104435</th>\n",
              "      <td>2024.07.11</td>\n",
              "      <td>https://www.hankyung.com/article/202405249989i</td>\n",
              "      <td>영상 모듈 닫기\\n                            \\n      ...</td>\n",
              "    </tr>\n",
              "    <tr>\n",
              "      <th>104436</th>\n",
              "      <td>2024.07.11</td>\n",
              "      <td>https://www.hankyung.com/article/2024052401596</td>\n",
              "      <td>젠슨 황 엔비디아 최고경영자(CEO)가 지난달 18일(현지시간) 미국 캘리포니아주 ...</td>\n",
              "    </tr>\n",
              "    <tr>\n",
              "      <th>104437</th>\n",
              "      <td>2024.07.11</td>\n",
              "      <td>https://www.hankyung.com/article/2024052499537</td>\n",
              "      <td>◆ 고금리 장기화 우려에…다우지수, 1년 2개월 만에 최대 낙폭인공지능(AI) 칩 ...</td>\n",
              "    </tr>\n",
              "  </tbody>\n",
              "</table>\n",
              "<p>104438 rows × 3 columns</p>\n",
              "</div>"
            ],
            "text/plain": [
              "              date                                             url  \\\n",
              "0       2005.03.10  https://www.hankyung.com/article/2005030994811   \n",
              "1       2005.03.10  https://www.hankyung.com/article/2005030998281   \n",
              "2       2005.03.10  https://www.hankyung.com/article/2005030997551   \n",
              "3       2005.03.10  https://www.hankyung.com/article/2005030981866   \n",
              "4       2005.03.10  https://www.hankyung.com/article/2005030994021   \n",
              "...            ...                                             ...   \n",
              "104433  2024.07.11  https://www.hankyung.com/article/2024052400166   \n",
              "104434  2024.07.11  https://www.hankyung.com/article/202405240081i   \n",
              "104435  2024.07.11  https://www.hankyung.com/article/202405249989i   \n",
              "104436  2024.07.11  https://www.hankyung.com/article/2024052401596   \n",
              "104437  2024.07.11  https://www.hankyung.com/article/2024052499537   \n",
              "\n",
              "                                                  content  \n",
              "0       산업단지 안에 5백평 미만의 작은 공장을 지을 수 있게 된다.\\n\\n최홍건 중소기업...  \n",
              "1       채권시장은 9일 만기별로 금리 등락이 엇갈렸다.\\n\\n지표금리인 3년짜리 국고채 수...  \n",
              "2       < 윤재현 세종증권 리서치센터장 >\\n\\n원자재가격 상승에 대한 우려의 목소리가 커...  \n",
              "3       피데스증권은 원자재 시장에서 투기 수요가 이탈하는 과정에서 증시와 환율시장에 미치는...  \n",
              "4       '헤지펀드와 투자은행의 죽음의 키스?' \\n\\n최근 대형 투자은행들의 헤지펀드에 대...  \n",
              "...                                                   ...  \n",
              "104433  사진=AFP\\n                    \\n                ...  \n",
              "104434  AI(인공지능) 반도체 대표주자 엔비디아 주가가 23일(현지시간) 9.32% 올랐다...  \n",
              "104435  영상 모듈 닫기\\n                            \\n      ...  \n",
              "104436  젠슨 황 엔비디아 최고경영자(CEO)가 지난달 18일(현지시간) 미국 캘리포니아주 ...  \n",
              "104437  ◆ 고금리 장기화 우려에…다우지수, 1년 2개월 만에 최대 낙폭인공지능(AI) 칩 ...  \n",
              "\n",
              "[104438 rows x 3 columns]"
            ]
          },
          "execution_count": 11,
          "metadata": {},
          "output_type": "execute_result"
        }
      ],
      "source": [
        "# df_han에는 url이 있기때문에 drop해야합니다\n",
        "df_han"
      ]
    },
    {
      "cell_type": "code",
      "execution_count": null,
      "id": "d20d18fd-44d0-4adf-a464-e60c91339922",
      "metadata": {
        "id": "d20d18fd-44d0-4adf-a464-e60c91339922",
        "outputId": "b0df9a58-2f70-494a-99c6-2ac382e1ffb5"
      },
      "outputs": [
        {
          "data": {
            "text/html": [
              "<div>\n",
              "<style scoped>\n",
              "    .dataframe tbody tr th:only-of-type {\n",
              "        vertical-align: middle;\n",
              "    }\n",
              "\n",
              "    .dataframe tbody tr th {\n",
              "        vertical-align: top;\n",
              "    }\n",
              "\n",
              "    .dataframe thead th {\n",
              "        text-align: right;\n",
              "    }\n",
              "</style>\n",
              "<table border=\"1\" class=\"dataframe\">\n",
              "  <thead>\n",
              "    <tr style=\"text-align: right;\">\n",
              "      <th></th>\n",
              "      <th>date</th>\n",
              "      <th>content</th>\n",
              "    </tr>\n",
              "  </thead>\n",
              "  <tbody>\n",
              "    <tr>\n",
              "      <th>0</th>\n",
              "      <td>20050215</td>\n",
              "      <td>[edaily 최현석기자] 재정경제부는 14일 국채발행 규모를 제한해 저금리 기조 ...</td>\n",
              "    </tr>\n",
              "    <tr>\n",
              "      <th>1</th>\n",
              "      <td>20050310</td>\n",
              "      <td>[edaily 최현석기자] 환율이 사흘연속 하락하며 세자리에 바짝 다가섰다.\\r\\n...</td>\n",
              "    </tr>\n",
              "    <tr>\n",
              "      <th>2</th>\n",
              "      <td>20050310</td>\n",
              "      <td>[edaily 권소현기자] 종합주가지수가 1000포인트를 들락날락 하면서 네자리수를...</td>\n",
              "    </tr>\n",
              "    <tr>\n",
              "      <th>3</th>\n",
              "      <td>20050310</td>\n",
              "      <td>[edaily 김수연기자] 인터넷금융 평가회사인 스톡피아는 2005년 인터넷뱅킹 서...</td>\n",
              "    </tr>\n",
              "    <tr>\n",
              "      <th>4</th>\n",
              "      <td>20050310</td>\n",
              "      <td>[edaily 최현석기자] 환율이 달러약세 영향으로 사흘째 하락세를 이어가고 있다....</td>\n",
              "    </tr>\n",
              "    <tr>\n",
              "      <th>...</th>\n",
              "      <td>...</td>\n",
              "      <td>...</td>\n",
              "    </tr>\n",
              "    <tr>\n",
              "      <th>177091</th>\n",
              "      <td>20230223</td>\n",
              "      <td>[이데일리 이윤화 기자] 서울시가 올해부터 아파트 입주예정물량과 사업리스트를 상·하...</td>\n",
              "    </tr>\n",
              "    <tr>\n",
              "      <th>177092</th>\n",
              "      <td>20221124</td>\n",
              "      <td>[이데일리 이정현 기자] 은 이달 11일까지 개인투자자가 온라인으로 매수한 채권 규...</td>\n",
              "    </tr>\n",
              "    <tr>\n",
              "      <th>177093</th>\n",
              "      <td>20221124</td>\n",
              "      <td>[이데일리 이연호 기자] 금융당국이 채권시장안정펀드(채안펀드)를 통해 3주간 1조원...</td>\n",
              "    </tr>\n",
              "    <tr>\n",
              "      <th>177094</th>\n",
              "      <td>20230223</td>\n",
              "      <td>[이데일리 이은정 기자] 뉴욕 증시가 ‘대통령의 날’로 휴장한 가운데 유럽 증시는 ...</td>\n",
              "    </tr>\n",
              "    <tr>\n",
              "      <th>177095</th>\n",
              "      <td>20221124</td>\n",
              "      <td>[이데일리 이윤화 기자] 지난달 외국인들이 국내 주식, 채권시장에서 총 22억900...</td>\n",
              "    </tr>\n",
              "  </tbody>\n",
              "</table>\n",
              "<p>177096 rows × 2 columns</p>\n",
              "</div>"
            ],
            "text/plain": [
              "            date                                            content\n",
              "0       20050215  [edaily 최현석기자] 재정경제부는 14일 국채발행 규모를 제한해 저금리 기조 ...\n",
              "1       20050310  [edaily 최현석기자] 환율이 사흘연속 하락하며 세자리에 바짝 다가섰다.\\r\\n...\n",
              "2       20050310  [edaily 권소현기자] 종합주가지수가 1000포인트를 들락날락 하면서 네자리수를...\n",
              "3       20050310  [edaily 김수연기자] 인터넷금융 평가회사인 스톡피아는 2005년 인터넷뱅킹 서...\n",
              "4       20050310  [edaily 최현석기자] 환율이 달러약세 영향으로 사흘째 하락세를 이어가고 있다....\n",
              "...          ...                                                ...\n",
              "177091  20230223  [이데일리 이윤화 기자] 서울시가 올해부터 아파트 입주예정물량과 사업리스트를 상·하...\n",
              "177092  20221124  [이데일리 이정현 기자] 은 이달 11일까지 개인투자자가 온라인으로 매수한 채권 규...\n",
              "177093  20221124  [이데일리 이연호 기자] 금융당국이 채권시장안정펀드(채안펀드)를 통해 3주간 1조원...\n",
              "177094  20230223  [이데일리 이은정 기자] 뉴욕 증시가 ‘대통령의 날’로 휴장한 가운데 유럽 증시는 ...\n",
              "177095  20221124  [이데일리 이윤화 기자] 지난달 외국인들이 국내 주식, 채권시장에서 총 22억900...\n",
              "\n",
              "[177096 rows x 2 columns]"
            ]
          },
          "execution_count": 12,
          "metadata": {},
          "output_type": "execute_result"
        }
      ],
      "source": [
        "df_edaily"
      ]
    },
    {
      "cell_type": "code",
      "execution_count": null,
      "id": "50f2ad40-9723-4da7-a003-b9fbf6552175",
      "metadata": {
        "id": "50f2ad40-9723-4da7-a003-b9fbf6552175",
        "outputId": "9ed997e8-df13-47d7-ca18-44f154304b03"
      },
      "outputs": [
        {
          "data": {
            "text/html": [
              "<div>\n",
              "<style scoped>\n",
              "    .dataframe tbody tr th:only-of-type {\n",
              "        vertical-align: middle;\n",
              "    }\n",
              "\n",
              "    .dataframe tbody tr th {\n",
              "        vertical-align: top;\n",
              "    }\n",
              "\n",
              "    .dataframe thead th {\n",
              "        text-align: right;\n",
              "    }\n",
              "</style>\n",
              "<table border=\"1\" class=\"dataframe\">\n",
              "  <thead>\n",
              "    <tr style=\"text-align: right;\">\n",
              "      <th></th>\n",
              "      <th>date</th>\n",
              "      <th>content</th>\n",
              "    </tr>\n",
              "  </thead>\n",
              "  <tbody>\n",
              "    <tr>\n",
              "      <th>0</th>\n",
              "      <td>2005-02-15</td>\n",
              "      <td>내전으로 폐허가 된  레바논의  재건사업을 진두지휘했던 라피크 하리리(60) 전(前...</td>\n",
              "    </tr>\n",
              "    <tr>\n",
              "      <th>1</th>\n",
              "      <td>2005-02-15</td>\n",
              "      <td>========================================    주가...</td>\n",
              "    </tr>\n",
              "    <tr>\n",
              "      <th>2</th>\n",
              "      <td>2005-02-15</td>\n",
              "      <td>다음달 5.5대 1 감자를 앞두고 있는 LG카드가 급등했다.     14일 유가증권...</td>\n",
              "    </tr>\n",
              "    <tr>\n",
              "      <th>3</th>\n",
              "      <td>2005-02-15</td>\n",
              "      <td>\"지수 1000선 넘을 수 있을까.\"     종합주가지수가 5년래 최고 수준으로 치...</td>\n",
              "    </tr>\n",
              "    <tr>\n",
              "      <th>4</th>\n",
              "      <td>2005-02-15</td>\n",
              "      <td>◆달아오른 증시 960 훌쩍◆     14일 주가가 급등한 배경은 무엇보다 수급 상...</td>\n",
              "    </tr>\n",
              "    <tr>\n",
              "      <th>...</th>\n",
              "      <td>...</td>\n",
              "      <td>...</td>\n",
              "    </tr>\n",
              "    <tr>\n",
              "      <th>113579</th>\n",
              "      <td>2024-07-11</td>\n",
              "      <td>사진 확대      중산층이 겪는 경제적 어려움을 짚은 '위기의 중산층' 기획기사를...</td>\n",
              "    </tr>\n",
              "    <tr>\n",
              "      <th>113580</th>\n",
              "      <td>2024-07-11</td>\n",
              "      <td>사진 확대    [사진 출처 = 연합뉴스]  서울 아파트 전세난이 월세난으로 확대되...</td>\n",
              "    </tr>\n",
              "    <tr>\n",
              "      <th>113581</th>\n",
              "      <td>2024-07-11</td>\n",
              "      <td>사진 확대    제롬 파월 미국 연방준비제도(Fed·연준) 의장   美 4월 PCE...</td>\n",
              "    </tr>\n",
              "    <tr>\n",
              "      <th>113582</th>\n",
              "      <td>2024-07-11</td>\n",
              "      <td>사진 확대    [사진 출처 = 연합뉴스]  올해 1분기(1~3월) 중산층 가구 5...</td>\n",
              "    </tr>\n",
              "    <tr>\n",
              "      <th>113583</th>\n",
              "      <td>2024-07-11</td>\n",
              "      <td>사진 확대    정부가 26조원 규모의 반도체 산업 진흥 방안을 발표한 가운데 삼성...</td>\n",
              "    </tr>\n",
              "  </tbody>\n",
              "</table>\n",
              "<p>113584 rows × 2 columns</p>\n",
              "</div>"
            ],
            "text/plain": [
              "              date                                            content\n",
              "0       2005-02-15  내전으로 폐허가 된  레바논의  재건사업을 진두지휘했던 라피크 하리리(60) 전(前...\n",
              "1       2005-02-15  ========================================    주가...\n",
              "2       2005-02-15  다음달 5.5대 1 감자를 앞두고 있는 LG카드가 급등했다.     14일 유가증권...\n",
              "3       2005-02-15  \"지수 1000선 넘을 수 있을까.\"     종합주가지수가 5년래 최고 수준으로 치...\n",
              "4       2005-02-15  ◆달아오른 증시 960 훌쩍◆     14일 주가가 급등한 배경은 무엇보다 수급 상...\n",
              "...            ...                                                ...\n",
              "113579  2024-07-11  사진 확대      중산층이 겪는 경제적 어려움을 짚은 '위기의 중산층' 기획기사를...\n",
              "113580  2024-07-11  사진 확대    [사진 출처 = 연합뉴스]  서울 아파트 전세난이 월세난으로 확대되...\n",
              "113581  2024-07-11  사진 확대    제롬 파월 미국 연방준비제도(Fed·연준) 의장   美 4월 PCE...\n",
              "113582  2024-07-11  사진 확대    [사진 출처 = 연합뉴스]  올해 1분기(1~3월) 중산층 가구 5...\n",
              "113583  2024-07-11  사진 확대    정부가 26조원 규모의 반도체 산업 진흥 방안을 발표한 가운데 삼성...\n",
              "\n",
              "[113584 rows x 2 columns]"
            ]
          },
          "execution_count": 13,
          "metadata": {},
          "output_type": "execute_result"
        }
      ],
      "source": [
        "df_mk"
      ]
    },
    {
      "cell_type": "code",
      "execution_count": null,
      "id": "b9f0821e-06f3-4472-aec8-a8d783c9561e",
      "metadata": {
        "id": "b9f0821e-06f3-4472-aec8-a8d783c9561e",
        "outputId": "4be20765-a444-47b0-a652-cd6fe781721a"
      },
      "outputs": [
        {
          "data": {
            "text/html": [
              "<div>\n",
              "<style scoped>\n",
              "    .dataframe tbody tr th:only-of-type {\n",
              "        vertical-align: middle;\n",
              "    }\n",
              "\n",
              "    .dataframe tbody tr th {\n",
              "        vertical-align: top;\n",
              "    }\n",
              "\n",
              "    .dataframe thead th {\n",
              "        text-align: right;\n",
              "    }\n",
              "</style>\n",
              "<table border=\"1\" class=\"dataframe\">\n",
              "  <thead>\n",
              "    <tr style=\"text-align: right;\">\n",
              "      <th></th>\n",
              "      <th>date</th>\n",
              "      <th>call_rate</th>\n",
              "      <th>rate_change</th>\n",
              "    </tr>\n",
              "  </thead>\n",
              "  <tbody>\n",
              "    <tr>\n",
              "      <th>0</th>\n",
              "      <td>20050215</td>\n",
              "      <td>3.26</td>\n",
              "      <td>0</td>\n",
              "    </tr>\n",
              "    <tr>\n",
              "      <th>1</th>\n",
              "      <td>20050310</td>\n",
              "      <td>3.24</td>\n",
              "      <td>0</td>\n",
              "    </tr>\n",
              "    <tr>\n",
              "      <th>2</th>\n",
              "      <td>20050407</td>\n",
              "      <td>3.25</td>\n",
              "      <td>0</td>\n",
              "    </tr>\n",
              "    <tr>\n",
              "      <th>3</th>\n",
              "      <td>20050512</td>\n",
              "      <td>3.29</td>\n",
              "      <td>0</td>\n",
              "    </tr>\n",
              "    <tr>\n",
              "      <th>4</th>\n",
              "      <td>20050609</td>\n",
              "      <td>3.27</td>\n",
              "      <td>0</td>\n",
              "    </tr>\n",
              "    <tr>\n",
              "      <th>...</th>\n",
              "      <td>...</td>\n",
              "      <td>...</td>\n",
              "      <td>...</td>\n",
              "    </tr>\n",
              "    <tr>\n",
              "      <th>226</th>\n",
              "      <td>20240111</td>\n",
              "      <td>3.64</td>\n",
              "      <td>0</td>\n",
              "    </tr>\n",
              "    <tr>\n",
              "      <th>228</th>\n",
              "      <td>20240222</td>\n",
              "      <td>3.58</td>\n",
              "      <td>1</td>\n",
              "    </tr>\n",
              "    <tr>\n",
              "      <th>229</th>\n",
              "      <td>20240412</td>\n",
              "      <td>3.47</td>\n",
              "      <td>2</td>\n",
              "    </tr>\n",
              "    <tr>\n",
              "      <th>231</th>\n",
              "      <td>20240523</td>\n",
              "      <td>3.53</td>\n",
              "      <td>0</td>\n",
              "    </tr>\n",
              "    <tr>\n",
              "      <th>232</th>\n",
              "      <td>20240711</td>\n",
              "      <td>3.55</td>\n",
              "      <td>0</td>\n",
              "    </tr>\n",
              "  </tbody>\n",
              "</table>\n",
              "<p>205 rows × 3 columns</p>\n",
              "</div>"
            ],
            "text/plain": [
              "         date  call_rate  rate_change\n",
              "0    20050215       3.26            0\n",
              "1    20050310       3.24            0\n",
              "2    20050407       3.25            0\n",
              "3    20050512       3.29            0\n",
              "4    20050609       3.27            0\n",
              "..        ...        ...          ...\n",
              "226  20240111       3.64            0\n",
              "228  20240222       3.58            1\n",
              "229  20240412       3.47            2\n",
              "231  20240523       3.53            0\n",
              "232  20240711       3.55            0\n",
              "\n",
              "[205 rows x 3 columns]"
            ]
          },
          "execution_count": 46,
          "metadata": {},
          "output_type": "execute_result"
        }
      ],
      "source": [
        "df_call_rate"
      ]
    },
    {
      "cell_type": "code",
      "execution_count": null,
      "id": "ef1eae22-20e9-465e-b3f8-fec412b110af",
      "metadata": {
        "id": "ef1eae22-20e9-465e-b3f8-fec412b110af",
        "outputId": "e9a278b5-8329-468e-e781-bbd35448330b"
      },
      "outputs": [
        {
          "name": "stdout",
          "output_type": "stream",
          "text": [
            "         date                                            content\n",
            "0  2005.03.10  산업단지 안에 5백평 미만의 작은 공장을 지을 수 있게 된다.\\n\\n최홍건 중소기업...\n",
            "1  2005.03.10  채권시장은 9일 만기별로 금리 등락이 엇갈렸다.\\n\\n지표금리인 3년짜리 국고채 수...\n",
            "2  2005.03.10  < 윤재현 세종증권 리서치센터장 >\\n\\n원자재가격 상승에 대한 우려의 목소리가 커...\n",
            "3  2005.03.10  피데스증권은 원자재 시장에서 투기 수요가 이탈하는 과정에서 증시와 환율시장에 미치는...\n",
            "4  2005.03.10  '헤지펀드와 투자은행의 죽음의 키스?' \\n\\n최근 대형 투자은행들의 헤지펀드에 대...\n"
          ]
        }
      ],
      "source": [
        "import pandas as pd\n",
        "\n",
        "# 'url' 열 제거\n",
        "df_han = df_han.drop(columns=['url'])\n",
        "\n",
        "# 결과 확인\n",
        "print(df_han.head())"
      ]
    },
    {
      "cell_type": "markdown",
      "source": [
        "## 데이터 프레임 형식 맞추기 및 병합"
      ],
      "metadata": {
        "id": "X6JpU6yl_o_e"
      },
      "id": "X6JpU6yl_o_e"
    },
    {
      "cell_type": "code",
      "execution_count": null,
      "id": "333cec6f-0359-4172-bef6-ae860c5522bc",
      "metadata": {
        "id": "333cec6f-0359-4172-bef6-ae860c5522bc",
        "outputId": "20408068-cb3e-42ee-be94-1d58319e2946"
      },
      "outputs": [
        {
          "name": "stderr",
          "output_type": "stream",
          "text": [
            "/var/folders/jm/t447cbrj0rv_y73nfrlz2_fr0000gn/T/ipykernel_59332/344270926.py:4: SettingWithCopyWarning: \n",
            "A value is trying to be set on a copy of a slice from a DataFrame.\n",
            "Try using .loc[row_indexer,col_indexer] = value instead\n",
            "\n",
            "See the caveats in the documentation: https://pandas.pydata.org/pandas-docs/stable/user_guide/indexing.html#returning-a-view-versus-a-copy\n",
            "  df[date_column] = df[date_column].astype(str)\n"
          ]
        },
        {
          "name": "stdout",
          "output_type": "stream",
          "text": [
            "       date                                            content\n",
            "0  20050310  산업단지 안에 5백평 미만의 작은 공장을 지을 수 있게 된다.\\n\\n최홍건 중소기업...\n",
            "1  20050310  채권시장은 9일 만기별로 금리 등락이 엇갈렸다.\\n\\n지표금리인 3년짜리 국고채 수...\n",
            "2  20050310  < 윤재현 세종증권 리서치센터장 >\\n\\n원자재가격 상승에 대한 우려의 목소리가 커...\n",
            "3  20050310  피데스증권은 원자재 시장에서 투기 수요가 이탈하는 과정에서 증시와 환율시장에 미치는...\n",
            "4  20050310  '헤지펀드와 투자은행의 죽음의 키스?' \\n\\n최근 대형 투자은행들의 헤지펀드에 대...\n"
          ]
        }
      ],
      "source": [
        "# 날짜 형식 처리 함수 정의\n",
        "def process_date(df, date_column, current_format):\n",
        "    # 날짜 열을 문자열로 변환\n",
        "    df[date_column] = df[date_column].astype(str)\n",
        "\n",
        "    # 이미 YYYYMMDD 형식인지 확인\n",
        "    if df[date_column].str.match(r'^\\d{8}$').all():\n",
        "        return df\n",
        "    else:\n",
        "        df[date_column] = pd.to_datetime(df[date_column], format=current_format).dt.strftime('%Y%m%d')\n",
        "        return df\n",
        "\n",
        "# df_han: YYYY.MM.DD -> YYYYMMDD\n",
        "df_han = process_date(df_han, 'date', '%Y.%m.%d')\n",
        "\n",
        "# df_edaily: YYYY-MM-DD -> YYYYMMDD\n",
        "df_edaily = process_date(df_edaily, 'date', '%Y-%m-%d')\n",
        "\n",
        "# df_mk: YYYYMMDD 형식이라면 변환 필요 없음\n",
        "df_mk = process_date(df_mk, 'date', '%Y%m%d')\n",
        "\n",
        "# df_call_rate: YYYYMMDD 형식이라면 변환 필요 없음\n",
        "df_call_rate = process_date(df_call_rate, 'date', '%Y.%m.%d')\n",
        "\n",
        "# 데이터프레임 합치기\n",
        "df_combined = pd.concat([df_han, df_edaily, df_mk], ignore_index=True)\n",
        "\n",
        "# 결과 확인\n",
        "print(df_combined.head())"
      ]
    },
    {
      "cell_type": "code",
      "execution_count": null,
      "id": "d457e05c-9062-4d5b-ab6a-d0d78a5830f3",
      "metadata": {
        "id": "d457e05c-9062-4d5b-ab6a-d0d78a5830f3",
        "outputId": "2441e5d6-7070-46df-e664-6fd026c38d26"
      },
      "outputs": [
        {
          "name": "stdout",
          "output_type": "stream",
          "text": [
            "df_combined의 총 길이: 395118\n"
          ]
        }
      ],
      "source": [
        "# df_combined의 총 길이 확인\n",
        "length = len(df_combined)\n",
        "print(f\"df_combined의 총 길이: {length}\")"
      ]
    },
    {
      "cell_type": "code",
      "execution_count": null,
      "id": "84efc27f-3d99-41b5-823a-5efd8c5c9c87",
      "metadata": {
        "id": "84efc27f-3d99-41b5-823a-5efd8c5c9c87",
        "outputId": "e502db2e-abe6-44de-be6a-30b1e44c89f2"
      },
      "outputs": [
        {
          "name": "stdout",
          "output_type": "stream",
          "text": [
            "형식이 잘못된 날짜를 가진 행의 수: 0\n",
            "Empty DataFrame\n",
            "Columns: [date, content]\n",
            "Index: []\n"
          ]
        }
      ],
      "source": [
        "# 날짜 형식이 YYYYMMDD가 아닌 행을 골라내기\n",
        "df_combined['date'] = df_combined['date'].astype(str)  # Ensure date column is string\n",
        "incorrect_date_format = ~df_combined['date'].str.match(r'^\\d{8}$')\n",
        "\n",
        "# 날짜 형식이 잘못된 데이터프레임\n",
        "df_incorrect_dates = df_combined[incorrect_date_format]\n",
        "\n",
        "# 결과 확인\n",
        "print(f\"형식이 잘못된 날짜를 가진 행의 수: {len(df_incorrect_dates)}\")\n",
        "print(df_incorrect_dates.head())"
      ]
    },
    {
      "cell_type": "code",
      "execution_count": null,
      "id": "7949b6cc-5910-4ffe-8de3-ba9f7cb46a79",
      "metadata": {
        "id": "7949b6cc-5910-4ffe-8de3-ba9f7cb46a79",
        "outputId": "590db80f-1789-4b2d-e8e5-f672deecc45c"
      },
      "outputs": [
        {
          "name": "stdout",
          "output_type": "stream",
          "text": [
            "df_combined의 총 길이: 395118\n",
            "       date                                            content  rate_change\n",
            "0  20050215  [edaily 이승우기자] 설 연휴를 마친 채권시장은 여전히 불안한 모습을 보이며 ...          0.0\n",
            "1  20050215  별다른 소득이 없는 은퇴생활자라면 자금을 어떻게 운용하는 게 좋을까. 매월    1...          0.0\n",
            "2  20050215  상가를 임대하고 받는 보증금 수입에  대해서는 세금이 부과되지만 주택 전세금이나 임...          0.0\n",
            "3  20050215  ▲경향신문 = 설민심 제대로 보고 들어라 /                  '새만금...          0.0\n",
            "4  20050215  ▲경향신문(서울) = 중산층 지갑도 열린다     ▲국민일보(서울) = 경기 꿈틀…...          0.0\n"
          ]
        }
      ],
      "source": [
        "# 중복된 date 값 처리\n",
        "df_call_rate = df_call_rate.drop_duplicates(subset='date', keep='first')\n",
        "\n",
        "# 데이터프레임 합치기\n",
        "df_combined = pd.concat([df_han, df_edaily, df_mk], ignore_index=True)\n",
        "\n",
        "# 날짜를 기준으로 정렬\n",
        "df_combined.sort_values(by='date', inplace=True)\n",
        "\n",
        "# processed_call_rate의 rate_change 값을 df_combined에 추가\n",
        "df_combined = df_combined.merge(df_call_rate[['date', 'rate_change']], on='date', how='left')\n",
        "\n",
        "# 결과 확인\n",
        "print(f\"df_combined의 총 길이: {len(df_combined)}\")\n",
        "print(df_combined.head())"
      ]
    },
    {
      "cell_type": "code",
      "execution_count": null,
      "id": "2df49cca-02f5-46aa-854f-bb51d20d5f69",
      "metadata": {
        "id": "2df49cca-02f5-46aa-854f-bb51d20d5f69",
        "outputId": "8fd4d606-5e8c-4e59-9685-b0f60568791c"
      },
      "outputs": [
        {
          "data": {
            "text/html": [
              "<div>\n",
              "<style scoped>\n",
              "    .dataframe tbody tr th:only-of-type {\n",
              "        vertical-align: middle;\n",
              "    }\n",
              "\n",
              "    .dataframe tbody tr th {\n",
              "        vertical-align: top;\n",
              "    }\n",
              "\n",
              "    .dataframe thead th {\n",
              "        text-align: right;\n",
              "    }\n",
              "</style>\n",
              "<table border=\"1\" class=\"dataframe\">\n",
              "  <thead>\n",
              "    <tr style=\"text-align: right;\">\n",
              "      <th></th>\n",
              "      <th>date</th>\n",
              "      <th>content</th>\n",
              "      <th>rate_change</th>\n",
              "    </tr>\n",
              "  </thead>\n",
              "  <tbody>\n",
              "    <tr>\n",
              "      <th>0</th>\n",
              "      <td>20050215</td>\n",
              "      <td>[edaily 이승우기자] 설 연휴를 마친 채권시장은 여전히 불안한 모습을 보이며 ...</td>\n",
              "      <td>0.0</td>\n",
              "    </tr>\n",
              "    <tr>\n",
              "      <th>1</th>\n",
              "      <td>20050215</td>\n",
              "      <td>별다른 소득이 없는 은퇴생활자라면 자금을 어떻게 운용하는 게 좋을까. 매월    1...</td>\n",
              "      <td>0.0</td>\n",
              "    </tr>\n",
              "    <tr>\n",
              "      <th>2</th>\n",
              "      <td>20050215</td>\n",
              "      <td>상가를 임대하고 받는 보증금 수입에  대해서는 세금이 부과되지만 주택 전세금이나 임...</td>\n",
              "      <td>0.0</td>\n",
              "    </tr>\n",
              "    <tr>\n",
              "      <th>3</th>\n",
              "      <td>20050215</td>\n",
              "      <td>▲경향신문 = 설민심 제대로 보고 들어라 /                  '새만금...</td>\n",
              "      <td>0.0</td>\n",
              "    </tr>\n",
              "    <tr>\n",
              "      <th>4</th>\n",
              "      <td>20050215</td>\n",
              "      <td>▲경향신문(서울) = 중산층 지갑도 열린다     ▲국민일보(서울) = 경기 꿈틀…...</td>\n",
              "      <td>0.0</td>\n",
              "    </tr>\n",
              "    <tr>\n",
              "      <th>...</th>\n",
              "      <td>...</td>\n",
              "      <td>...</td>\n",
              "      <td>...</td>\n",
              "    </tr>\n",
              "    <tr>\n",
              "      <th>395113</th>\n",
              "      <td>20240711</td>\n",
              "      <td>[이데일리 이주영 기자] 로레타 메스터 클리브랜드 연방준비은행(연은) 총재는 14일...</td>\n",
              "      <td>0.0</td>\n",
              "    </tr>\n",
              "    <tr>\n",
              "      <th>395114</th>\n",
              "      <td>20240711</td>\n",
              "      <td>[이데일리 이주영 기자] 인플레이션 지표 영향이 이어지며 미국의 국채수익률이 여전히...</td>\n",
              "      <td>0.0</td>\n",
              "    </tr>\n",
              "    <tr>\n",
              "      <th>395115</th>\n",
              "      <td>20240711</td>\n",
              "      <td>[이데일리 마켓in 박미경 기자] BBB급 중견건설사 HL D&amp;I가 회사채 발행을 ...</td>\n",
              "      <td>0.0</td>\n",
              "    </tr>\n",
              "    <tr>\n",
              "      <th>395116</th>\n",
              "      <td>20240711</td>\n",
              "      <td>[이데일리 이윤화 기자] 입주를 한 달 앞둔 서울 성북구의 안암2구역 재개발 사업지...</td>\n",
              "      <td>0.0</td>\n",
              "    </tr>\n",
              "    <tr>\n",
              "      <th>395117</th>\n",
              "      <td>20240711</td>\n",
              "      <td>사진 확대    정부가 26조원 규모의 반도체 산업 진흥 방안을 발표한 가운데 삼성...</td>\n",
              "      <td>0.0</td>\n",
              "    </tr>\n",
              "  </tbody>\n",
              "</table>\n",
              "<p>395118 rows × 3 columns</p>\n",
              "</div>"
            ],
            "text/plain": [
              "            date                                            content  \\\n",
              "0       20050215  [edaily 이승우기자] 설 연휴를 마친 채권시장은 여전히 불안한 모습을 보이며 ...   \n",
              "1       20050215  별다른 소득이 없는 은퇴생활자라면 자금을 어떻게 운용하는 게 좋을까. 매월    1...   \n",
              "2       20050215  상가를 임대하고 받는 보증금 수입에  대해서는 세금이 부과되지만 주택 전세금이나 임...   \n",
              "3       20050215  ▲경향신문 = 설민심 제대로 보고 들어라 /                  '새만금...   \n",
              "4       20050215  ▲경향신문(서울) = 중산층 지갑도 열린다     ▲국민일보(서울) = 경기 꿈틀…...   \n",
              "...          ...                                                ...   \n",
              "395113  20240711  [이데일리 이주영 기자] 로레타 메스터 클리브랜드 연방준비은행(연은) 총재는 14일...   \n",
              "395114  20240711  [이데일리 이주영 기자] 인플레이션 지표 영향이 이어지며 미국의 국채수익률이 여전히...   \n",
              "395115  20240711  [이데일리 마켓in 박미경 기자] BBB급 중견건설사 HL D&I가 회사채 발행을 ...   \n",
              "395116  20240711  [이데일리 이윤화 기자] 입주를 한 달 앞둔 서울 성북구의 안암2구역 재개발 사업지...   \n",
              "395117  20240711  사진 확대    정부가 26조원 규모의 반도체 산업 진흥 방안을 발표한 가운데 삼성...   \n",
              "\n",
              "        rate_change  \n",
              "0               0.0  \n",
              "1               0.0  \n",
              "2               0.0  \n",
              "3               0.0  \n",
              "4               0.0  \n",
              "...             ...  \n",
              "395113          0.0  \n",
              "395114          0.0  \n",
              "395115          0.0  \n",
              "395116          0.0  \n",
              "395117          0.0  \n",
              "\n",
              "[395118 rows x 3 columns]"
            ]
          },
          "execution_count": 54,
          "metadata": {},
          "output_type": "execute_result"
        }
      ],
      "source": [
        "df_combined"
      ]
    },
    {
      "cell_type": "code",
      "execution_count": null,
      "id": "9774b288-b437-4605-884a-609c732687c6",
      "metadata": {
        "id": "9774b288-b437-4605-884a-609c732687c6",
        "outputId": "4f3ccc13-9354-4ad6-b499-d40e13a9cf1d"
      },
      "outputs": [
        {
          "name": "stdout",
          "output_type": "stream",
          "text": [
            "rate_change\n",
            "0.0    286530\n",
            "1.0     73018\n",
            "2.0     34323\n",
            "Name: count, dtype: int64\n"
          ]
        }
      ],
      "source": [
        "# 0 변동없음, 1 금리인상, 2금리인하\n",
        "value_counts = df_combined['rate_change'].value_counts().sort_index()\n",
        "print(value_counts)"
      ]
    },
    {
      "cell_type": "code",
      "execution_count": null,
      "id": "8b68b0db-65b1-4d70-86b8-4df27a0e47de",
      "metadata": {
        "id": "8b68b0db-65b1-4d70-86b8-4df27a0e47de",
        "outputId": "3748ba07-4035-42b2-e560-745c674aa79e"
      },
      "outputs": [
        {
          "data": {
            "text/plain": [
              "date              0\n",
              "content         895\n",
              "rate_change    1247\n",
              "dtype: int64"
            ]
          },
          "execution_count": 57,
          "metadata": {},
          "output_type": "execute_result"
        }
      ],
      "source": [
        "# content에 na가 895개, rate_change에 1247개 있습니다.\n",
        "df_combined.isna().sum()"
      ]
    }
  ],
  "metadata": {
    "kernelspec": {
      "display_name": "Python 3 (ipykernel)",
      "language": "python",
      "name": "python3"
    },
    "language_info": {
      "codemirror_mode": {
        "name": "ipython",
        "version": 3
      },
      "file_extension": ".py",
      "mimetype": "text/x-python",
      "name": "python",
      "nbconvert_exporter": "python",
      "pygments_lexer": "ipython3",
      "version": "3.11.7"
    },
    "colab": {
      "provenance": []
    }
  },
  "nbformat": 4,
  "nbformat_minor": 5
}