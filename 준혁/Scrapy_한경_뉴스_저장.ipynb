{
  "nbformat": 4,
  "nbformat_minor": 0,
  "metadata": {
    "colab": {
      "provenance": []
    },
    "kernelspec": {
      "name": "python3",
      "display_name": "Python 3"
    },
    "language_info": {
      "name": "python"
    }
  },
  "cells": [
    {
      "cell_type": "markdown",
      "source": [
        "## Scrapy 설치\n"
      ],
      "metadata": {
        "id": "QMqEYVC3pyns"
      }
    },
    {
      "cell_type": "code",
      "execution_count": 1,
      "metadata": {
        "colab": {
          "base_uri": "https://localhost:8080/"
        },
        "id": "BBJSQO6Eprtt",
        "outputId": "11ba8c3f-3aa4-4d39-92fd-c65c32f52f76"
      },
      "outputs": [
        {
          "output_type": "stream",
          "name": "stdout",
          "text": [
            "Collecting scrapy\n",
            "  Downloading Scrapy-2.11.2-py2.py3-none-any.whl.metadata (5.3 kB)\n",
            "Collecting Twisted>=18.9.0 (from scrapy)\n",
            "  Downloading twisted-24.3.0-py3-none-any.whl.metadata (9.5 kB)\n",
            "Requirement already satisfied: cryptography>=36.0.0 in /usr/local/lib/python3.10/dist-packages (from scrapy) (42.0.8)\n",
            "Collecting cssselect>=0.9.1 (from scrapy)\n",
            "  Downloading cssselect-1.2.0-py2.py3-none-any.whl.metadata (2.2 kB)\n",
            "Collecting itemloaders>=1.0.1 (from scrapy)\n",
            "  Downloading itemloaders-1.3.1-py3-none-any.whl.metadata (3.9 kB)\n",
            "Collecting parsel>=1.5.0 (from scrapy)\n",
            "  Downloading parsel-1.9.1-py2.py3-none-any.whl.metadata (11 kB)\n",
            "Requirement already satisfied: pyOpenSSL>=21.0.0 in /usr/local/lib/python3.10/dist-packages (from scrapy) (24.2.1)\n",
            "Collecting queuelib>=1.4.2 (from scrapy)\n",
            "  Downloading queuelib-1.7.0-py2.py3-none-any.whl.metadata (5.7 kB)\n",
            "Collecting service-identity>=18.1.0 (from scrapy)\n",
            "  Downloading service_identity-24.1.0-py3-none-any.whl.metadata (4.8 kB)\n",
            "Collecting w3lib>=1.17.0 (from scrapy)\n",
            "  Downloading w3lib-2.2.1-py3-none-any.whl.metadata (2.1 kB)\n",
            "Collecting zope.interface>=5.1.0 (from scrapy)\n",
            "  Downloading zope.interface-7.0.1-cp310-cp310-manylinux_2_5_x86_64.manylinux1_x86_64.manylinux_2_17_x86_64.manylinux2014_x86_64.whl.metadata (43 kB)\n",
            "\u001b[2K     \u001b[90m━━━━━━━━━━━━━━━━━━━━━━━━━━━━━━━━━━━━━━━━\u001b[0m \u001b[32m43.2/43.2 kB\u001b[0m \u001b[31m1.5 MB/s\u001b[0m eta \u001b[36m0:00:00\u001b[0m\n",
            "\u001b[?25hCollecting protego>=0.1.15 (from scrapy)\n",
            "  Downloading Protego-0.3.1-py2.py3-none-any.whl.metadata (5.9 kB)\n",
            "Collecting itemadapter>=0.1.0 (from scrapy)\n",
            "  Downloading itemadapter-0.9.0-py3-none-any.whl.metadata (17 kB)\n",
            "Requirement already satisfied: setuptools in /usr/local/lib/python3.10/dist-packages (from scrapy) (71.0.4)\n",
            "Requirement already satisfied: packaging in /usr/local/lib/python3.10/dist-packages (from scrapy) (24.1)\n",
            "Collecting tldextract (from scrapy)\n",
            "  Downloading tldextract-5.1.2-py3-none-any.whl.metadata (11 kB)\n",
            "Requirement already satisfied: lxml>=4.4.1 in /usr/local/lib/python3.10/dist-packages (from scrapy) (4.9.4)\n",
            "Requirement already satisfied: defusedxml>=0.7.1 in /usr/local/lib/python3.10/dist-packages (from scrapy) (0.7.1)\n",
            "Collecting PyDispatcher>=2.0.5 (from scrapy)\n",
            "  Downloading PyDispatcher-2.0.7-py3-none-any.whl.metadata (2.4 kB)\n",
            "Requirement already satisfied: cffi>=1.12 in /usr/local/lib/python3.10/dist-packages (from cryptography>=36.0.0->scrapy) (1.16.0)\n",
            "Collecting jmespath>=0.9.5 (from itemloaders>=1.0.1->scrapy)\n",
            "  Downloading jmespath-1.0.1-py3-none-any.whl.metadata (7.6 kB)\n",
            "Requirement already satisfied: attrs>=19.1.0 in /usr/local/lib/python3.10/dist-packages (from service-identity>=18.1.0->scrapy) (24.1.0)\n",
            "Requirement already satisfied: pyasn1 in /usr/local/lib/python3.10/dist-packages (from service-identity>=18.1.0->scrapy) (0.6.0)\n",
            "Requirement already satisfied: pyasn1-modules in /usr/local/lib/python3.10/dist-packages (from service-identity>=18.1.0->scrapy) (0.4.0)\n",
            "Collecting automat>=0.8.0 (from Twisted>=18.9.0->scrapy)\n",
            "  Downloading Automat-22.10.0-py2.py3-none-any.whl.metadata (1.0 kB)\n",
            "Collecting constantly>=15.1 (from Twisted>=18.9.0->scrapy)\n",
            "  Downloading constantly-23.10.4-py3-none-any.whl.metadata (1.8 kB)\n",
            "Collecting hyperlink>=17.1.1 (from Twisted>=18.9.0->scrapy)\n",
            "  Downloading hyperlink-21.0.0-py2.py3-none-any.whl.metadata (1.5 kB)\n",
            "Collecting incremental>=22.10.0 (from Twisted>=18.9.0->scrapy)\n",
            "  Downloading incremental-24.7.2-py3-none-any.whl.metadata (8.1 kB)\n",
            "Requirement already satisfied: typing-extensions>=4.2.0 in /usr/local/lib/python3.10/dist-packages (from Twisted>=18.9.0->scrapy) (4.12.2)\n",
            "Requirement already satisfied: idna in /usr/local/lib/python3.10/dist-packages (from tldextract->scrapy) (3.7)\n",
            "Requirement already satisfied: requests>=2.1.0 in /usr/local/lib/python3.10/dist-packages (from tldextract->scrapy) (2.32.3)\n",
            "Collecting requests-file>=1.4 (from tldextract->scrapy)\n",
            "  Downloading requests_file-2.1.0-py2.py3-none-any.whl.metadata (1.7 kB)\n",
            "Requirement already satisfied: filelock>=3.0.8 in /usr/local/lib/python3.10/dist-packages (from tldextract->scrapy) (3.15.4)\n",
            "Requirement already satisfied: six in /usr/local/lib/python3.10/dist-packages (from automat>=0.8.0->Twisted>=18.9.0->scrapy) (1.16.0)\n",
            "Requirement already satisfied: pycparser in /usr/local/lib/python3.10/dist-packages (from cffi>=1.12->cryptography>=36.0.0->scrapy) (2.22)\n",
            "Requirement already satisfied: tomli in /usr/local/lib/python3.10/dist-packages (from incremental>=22.10.0->Twisted>=18.9.0->scrapy) (2.0.1)\n",
            "Requirement already satisfied: charset-normalizer<4,>=2 in /usr/local/lib/python3.10/dist-packages (from requests>=2.1.0->tldextract->scrapy) (3.3.2)\n",
            "Requirement already satisfied: urllib3<3,>=1.21.1 in /usr/local/lib/python3.10/dist-packages (from requests>=2.1.0->tldextract->scrapy) (2.0.7)\n",
            "Requirement already satisfied: certifi>=2017.4.17 in /usr/local/lib/python3.10/dist-packages (from requests>=2.1.0->tldextract->scrapy) (2024.7.4)\n",
            "Downloading Scrapy-2.11.2-py2.py3-none-any.whl (290 kB)\n",
            "\u001b[2K   \u001b[90m━━━━━━━━━━━━━━━━━━━━━━━━━━━━━━━━━━━━━━━━\u001b[0m \u001b[32m290.1/290.1 kB\u001b[0m \u001b[31m12.6 MB/s\u001b[0m eta \u001b[36m0:00:00\u001b[0m\n",
            "\u001b[?25hDownloading cssselect-1.2.0-py2.py3-none-any.whl (18 kB)\n",
            "Downloading itemadapter-0.9.0-py3-none-any.whl (11 kB)\n",
            "Downloading itemloaders-1.3.1-py3-none-any.whl (12 kB)\n",
            "Downloading parsel-1.9.1-py2.py3-none-any.whl (17 kB)\n",
            "Downloading Protego-0.3.1-py2.py3-none-any.whl (8.5 kB)\n",
            "Downloading PyDispatcher-2.0.7-py3-none-any.whl (12 kB)\n",
            "Downloading queuelib-1.7.0-py2.py3-none-any.whl (13 kB)\n",
            "Downloading service_identity-24.1.0-py3-none-any.whl (12 kB)\n",
            "Downloading twisted-24.3.0-py3-none-any.whl (3.2 MB)\n",
            "\u001b[2K   \u001b[90m━━━━━━━━━━━━━━━━━━━━━━━━━━━━━━━━━━━━━━━━\u001b[0m \u001b[32m3.2/3.2 MB\u001b[0m \u001b[31m57.7 MB/s\u001b[0m eta \u001b[36m0:00:00\u001b[0m\n",
            "\u001b[?25hDownloading w3lib-2.2.1-py3-none-any.whl (21 kB)\n",
            "Downloading zope.interface-7.0.1-cp310-cp310-manylinux_2_5_x86_64.manylinux1_x86_64.manylinux_2_17_x86_64.manylinux2014_x86_64.whl (254 kB)\n",
            "\u001b[2K   \u001b[90m━━━━━━━━━━━━━━━━━━━━━━━━━━━━━━━━━━━━━━━━\u001b[0m \u001b[32m254.1/254.1 kB\u001b[0m \u001b[31m14.6 MB/s\u001b[0m eta \u001b[36m0:00:00\u001b[0m\n",
            "\u001b[?25hDownloading tldextract-5.1.2-py3-none-any.whl (97 kB)\n",
            "\u001b[2K   \u001b[90m━━━━━━━━━━━━━━━━━━━━━━━━━━━━━━━━━━━━━━━━\u001b[0m \u001b[32m97.6/97.6 kB\u001b[0m \u001b[31m7.0 MB/s\u001b[0m eta \u001b[36m0:00:00\u001b[0m\n",
            "\u001b[?25hDownloading Automat-22.10.0-py2.py3-none-any.whl (26 kB)\n",
            "Downloading constantly-23.10.4-py3-none-any.whl (13 kB)\n",
            "Downloading hyperlink-21.0.0-py2.py3-none-any.whl (74 kB)\n",
            "\u001b[2K   \u001b[90m━━━━━━━━━━━━━━━━━━━━━━━━━━━━━━━━━━━━━━━━\u001b[0m \u001b[32m74.6/74.6 kB\u001b[0m \u001b[31m5.7 MB/s\u001b[0m eta \u001b[36m0:00:00\u001b[0m\n",
            "\u001b[?25hDownloading incremental-24.7.2-py3-none-any.whl (20 kB)\n",
            "Downloading jmespath-1.0.1-py3-none-any.whl (20 kB)\n",
            "Downloading requests_file-2.1.0-py2.py3-none-any.whl (4.2 kB)\n",
            "Installing collected packages: PyDispatcher, zope.interface, w3lib, queuelib, protego, jmespath, itemadapter, incremental, hyperlink, cssselect, constantly, automat, Twisted, requests-file, parsel, tldextract, service-identity, itemloaders, scrapy\n",
            "Successfully installed PyDispatcher-2.0.7 Twisted-24.3.0 automat-22.10.0 constantly-23.10.4 cssselect-1.2.0 hyperlink-21.0.0 incremental-24.7.2 itemadapter-0.9.0 itemloaders-1.3.1 jmespath-1.0.1 parsel-1.9.1 protego-0.3.1 queuelib-1.7.0 requests-file-2.1.0 scrapy-2.11.2 service-identity-24.1.0 tldextract-5.1.2 w3lib-2.2.1 zope.interface-7.0.1\n"
          ]
        }
      ],
      "source": [
        "!pip install scrapy"
      ]
    },
    {
      "cell_type": "markdown",
      "source": [
        "## Scrapy 프로젝트 생성"
      ],
      "metadata": {
        "id": "S1sQBu_jp27F"
      }
    },
    {
      "cell_type": "code",
      "source": [
        "!scrapy startproject hankyung_crawler"
      ],
      "metadata": {
        "colab": {
          "base_uri": "https://localhost:8080/"
        },
        "id": "mRurUWKQp56Z",
        "outputId": "e630ddb0-76a7-4926-9347-a45f8a75a472"
      },
      "execution_count": 4,
      "outputs": [
        {
          "output_type": "stream",
          "name": "stdout",
          "text": [
            "New Scrapy project 'hankyung_crawler', using template directory '/usr/local/lib/python3.10/dist-packages/scrapy/templates/project', created in:\n",
            "    /content/hankyung_crawler\n",
            "\n",
            "You can start your first spider with:\n",
            "    cd hankyung_crawler\n",
            "    scrapy genspider example example.com\n"
          ]
        }
      ]
    },
    {
      "cell_type": "markdown",
      "source": [
        "## 스파이더 만들기"
      ],
      "metadata": {
        "id": "oOOkRlJHqwHK"
      }
    },
    {
      "cell_type": "code",
      "source": [
        "!cd hankyung_crawler"
      ],
      "metadata": {
        "id": "d8wkQFmczDpH"
      },
      "execution_count": 15,
      "outputs": []
    },
    {
      "cell_type": "code",
      "source": [
        "!scrapy genspider hankyung search.hankyung.com"
      ],
      "metadata": {
        "colab": {
          "base_uri": "https://localhost:8080/"
        },
        "id": "viu7jFO6qybg",
        "outputId": "63c69201-3d6f-4fd8-f88e-be36c84a99b7"
      },
      "execution_count": 16,
      "outputs": [
        {
          "output_type": "stream",
          "name": "stdout",
          "text": [
            "Created spider 'hankyung' using template 'basic' \n"
          ]
        }
      ]
    },
    {
      "cell_type": "code",
      "source": [
        "import scrapy\n",
        "\n",
        "class HankyungSpider(scrapy.Spider):\n",
        "    name = \"hankyung\"\n",
        "    allowed_domains = ['https://search.hankyung.com/search/total?query=%EA%B8%88%EB%A6%AC']\n",
        "    start_urls = ['https://search.hankyung.com/search/total?query=%EA%B8%88%EB%A6%AC/']\n",
        "\n",
        "    def parse(self, response):\n",
        "        print(response.text)\n",
        "        print(\"END\")"
      ],
      "metadata": {
        "id": "mM_5TvwWwrJb"
      },
      "execution_count": 9,
      "outputs": []
    },
    {
      "cell_type": "code",
      "source": [
        "!cd /content/"
      ],
      "metadata": {
        "id": "1-rte0Ipzq8l"
      },
      "execution_count": 35,
      "outputs": []
    },
    {
      "cell_type": "code",
      "source": [
        "!apt-get update\n",
        "!apt-get install -y python3-dev\n",
        "!apt-get install -y libxml2-dev libxslt-dev\n",
        "!apt-get install -y zlib1g-dev\n",
        "!apt-get install -y libffi-dev libssl-dev\n",
        "\n",
        "!pip install scrapy\n"
      ],
      "metadata": {
        "colab": {
          "base_uri": "https://localhost:8080/"
        },
        "id": "1gxrfglj1OC8",
        "outputId": "f42c1bf6-4d61-487d-82fc-ba9695d0617b"
      },
      "execution_count": 37,
      "outputs": [
        {
          "output_type": "stream",
          "name": "stdout",
          "text": [
            "\r0% [Working]\r            \rGet:1 https://cloud.r-project.org/bin/linux/ubuntu jammy-cran40/ InRelease [3,626 B]\n",
            "\r0% [Connecting to archive.ubuntu.com (185.125.190.81)] [Waiting for headers] [1 InRelease 3,626 B/3,\r0% [Connecting to archive.ubuntu.com (185.125.190.81)] [Waiting for headers] [Connected to r2u.stat.\r                                                                                                    \rGet:2 https://developer.download.nvidia.com/compute/cuda/repos/ubuntu2204/x86_64  InRelease [1,581 B]\n",
            "Get:3 http://security.ubuntu.com/ubuntu jammy-security InRelease [129 kB]\n",
            "Ign:4 https://r2u.stat.illinois.edu/ubuntu jammy InRelease\n",
            "Hit:5 http://archive.ubuntu.com/ubuntu jammy InRelease\n",
            "Hit:6 https://r2u.stat.illinois.edu/ubuntu jammy Release\n",
            "Get:7 https://developer.download.nvidia.com/compute/cuda/repos/ubuntu2204/x86_64  Packages [921 kB]\n",
            "Get:8 http://archive.ubuntu.com/ubuntu jammy-updates InRelease [128 kB]\n",
            "Hit:10 https://ppa.launchpadcontent.net/deadsnakes/ppa/ubuntu jammy InRelease\n",
            "Get:11 http://security.ubuntu.com/ubuntu jammy-security/restricted amd64 Packages [2,841 kB]\n",
            "Hit:12 https://ppa.launchpadcontent.net/graphics-drivers/ppa/ubuntu jammy InRelease\n",
            "Hit:13 https://ppa.launchpadcontent.net/ubuntugis/ppa/ubuntu jammy InRelease\n",
            "Hit:14 http://archive.ubuntu.com/ubuntu jammy-backports InRelease\n",
            "Get:15 http://security.ubuntu.com/ubuntu jammy-security/universe amd64 Packages [1,132 kB]\n",
            "Get:16 http://security.ubuntu.com/ubuntu jammy-security/main amd64 Packages [2,152 kB]\n",
            "Get:17 http://archive.ubuntu.com/ubuntu jammy-updates/main amd64 Packages [2,441 kB]\n",
            "Get:18 http://archive.ubuntu.com/ubuntu jammy-updates/multiverse amd64 Packages [51.8 kB]\n",
            "Get:19 http://archive.ubuntu.com/ubuntu jammy-updates/universe amd64 Packages [1,422 kB]\n",
            "Get:20 http://archive.ubuntu.com/ubuntu jammy-updates/restricted amd64 Packages [2,954 kB]\n",
            "Fetched 14.2 MB in 3s (5,442 kB/s)\n",
            "Reading package lists... Done\n",
            "W: Skipping acquire of configured file 'main/source/Sources' as repository 'https://r2u.stat.illinois.edu/ubuntu jammy InRelease' does not seem to provide it (sources.list entry misspelt?)\n",
            "Reading package lists... Done\n",
            "Building dependency tree... Done\n",
            "Reading state information... Done\n",
            "python3-dev is already the newest version (3.10.6-1~22.04).\n",
            "python3-dev set to manually installed.\n",
            "0 upgraded, 0 newly installed, 0 to remove and 56 not upgraded.\n",
            "Reading package lists... Done\n",
            "Building dependency tree... Done\n",
            "Reading state information... Done\n",
            "Note, selecting 'libxslt1-dev' instead of 'libxslt-dev'\n",
            "libxml2-dev is already the newest version (2.9.13+dfsg-1ubuntu0.4).\n",
            "The following NEW packages will be installed:\n",
            "  libxslt1-dev\n",
            "0 upgraded, 1 newly installed, 0 to remove and 56 not upgraded.\n",
            "Need to get 219 kB of archives.\n",
            "After this operation, 2,058 kB of additional disk space will be used.\n",
            "Get:1 http://archive.ubuntu.com/ubuntu jammy-updates/main amd64 libxslt1-dev amd64 1.1.34-4ubuntu0.22.04.1 [219 kB]\n",
            "Fetched 219 kB in 1s (229 kB/s)\n",
            "Selecting previously unselected package libxslt1-dev:amd64.\n",
            "(Reading database ... 123598 files and directories currently installed.)\n",
            "Preparing to unpack .../libxslt1-dev_1.1.34-4ubuntu0.22.04.1_amd64.deb ...\n",
            "Unpacking libxslt1-dev:amd64 (1.1.34-4ubuntu0.22.04.1) ...\n",
            "Setting up libxslt1-dev:amd64 (1.1.34-4ubuntu0.22.04.1) ...\n",
            "Processing triggers for man-db (2.10.2-1) ...\n",
            "Reading package lists... Done\n",
            "Building dependency tree... Done\n",
            "Reading state information... Done\n",
            "zlib1g-dev is already the newest version (1:1.2.11.dfsg-2ubuntu9.2).\n",
            "zlib1g-dev set to manually installed.\n",
            "0 upgraded, 0 newly installed, 0 to remove and 56 not upgraded.\n",
            "Reading package lists... Done\n",
            "Building dependency tree... Done\n",
            "Reading state information... Done\n",
            "libssl-dev is already the newest version (3.0.2-0ubuntu1.17).\n",
            "The following NEW packages will be installed:\n",
            "  libffi-dev\n",
            "0 upgraded, 1 newly installed, 0 to remove and 56 not upgraded.\n",
            "Need to get 63.7 kB of archives.\n",
            "After this operation, 336 kB of additional disk space will be used.\n",
            "Get:1 http://archive.ubuntu.com/ubuntu jammy/main amd64 libffi-dev amd64 3.4.2-4 [63.7 kB]\n",
            "Fetched 63.7 kB in 1s (102 kB/s)\n",
            "Selecting previously unselected package libffi-dev:amd64.\n",
            "(Reading database ... 123738 files and directories currently installed.)\n",
            "Preparing to unpack .../libffi-dev_3.4.2-4_amd64.deb ...\n",
            "Unpacking libffi-dev:amd64 (3.4.2-4) ...\n",
            "Setting up libffi-dev:amd64 (3.4.2-4) ...\n",
            "Processing triggers for man-db (2.10.2-1) ...\n",
            "Requirement already satisfied: scrapy in /usr/local/lib/python3.10/dist-packages (2.11.2)\n",
            "Requirement already satisfied: Twisted>=18.9.0 in /usr/local/lib/python3.10/dist-packages (from scrapy) (24.3.0)\n",
            "Requirement already satisfied: cryptography>=36.0.0 in /usr/local/lib/python3.10/dist-packages (from scrapy) (42.0.8)\n",
            "Requirement already satisfied: cssselect>=0.9.1 in /usr/local/lib/python3.10/dist-packages (from scrapy) (1.2.0)\n",
            "Requirement already satisfied: itemloaders>=1.0.1 in /usr/local/lib/python3.10/dist-packages (from scrapy) (1.3.1)\n",
            "Requirement already satisfied: parsel>=1.5.0 in /usr/local/lib/python3.10/dist-packages (from scrapy) (1.9.1)\n",
            "Requirement already satisfied: pyOpenSSL>=21.0.0 in /usr/local/lib/python3.10/dist-packages (from scrapy) (24.2.1)\n",
            "Requirement already satisfied: queuelib>=1.4.2 in /usr/local/lib/python3.10/dist-packages (from scrapy) (1.7.0)\n",
            "Requirement already satisfied: service-identity>=18.1.0 in /usr/local/lib/python3.10/dist-packages (from scrapy) (24.1.0)\n",
            "Requirement already satisfied: w3lib>=1.17.0 in /usr/local/lib/python3.10/dist-packages (from scrapy) (2.2.1)\n",
            "Requirement already satisfied: zope.interface>=5.1.0 in /usr/local/lib/python3.10/dist-packages (from scrapy) (7.0.1)\n",
            "Requirement already satisfied: protego>=0.1.15 in /usr/local/lib/python3.10/dist-packages (from scrapy) (0.3.1)\n",
            "Requirement already satisfied: itemadapter>=0.1.0 in /usr/local/lib/python3.10/dist-packages (from scrapy) (0.9.0)\n",
            "Requirement already satisfied: setuptools in /usr/local/lib/python3.10/dist-packages (from scrapy) (71.0.4)\n",
            "Requirement already satisfied: packaging in /usr/local/lib/python3.10/dist-packages (from scrapy) (24.1)\n",
            "Requirement already satisfied: tldextract in /usr/local/lib/python3.10/dist-packages (from scrapy) (5.1.2)\n",
            "Requirement already satisfied: lxml>=4.4.1 in /usr/local/lib/python3.10/dist-packages (from scrapy) (4.9.4)\n",
            "Requirement already satisfied: defusedxml>=0.7.1 in /usr/local/lib/python3.10/dist-packages (from scrapy) (0.7.1)\n",
            "Requirement already satisfied: PyDispatcher>=2.0.5 in /usr/local/lib/python3.10/dist-packages (from scrapy) (2.0.7)\n",
            "Requirement already satisfied: cffi>=1.12 in /usr/local/lib/python3.10/dist-packages (from cryptography>=36.0.0->scrapy) (1.16.0)\n",
            "Requirement already satisfied: jmespath>=0.9.5 in /usr/local/lib/python3.10/dist-packages (from itemloaders>=1.0.1->scrapy) (1.0.1)\n",
            "Requirement already satisfied: attrs>=19.1.0 in /usr/local/lib/python3.10/dist-packages (from service-identity>=18.1.0->scrapy) (24.1.0)\n",
            "Requirement already satisfied: pyasn1 in /usr/local/lib/python3.10/dist-packages (from service-identity>=18.1.0->scrapy) (0.6.0)\n",
            "Requirement already satisfied: pyasn1-modules in /usr/local/lib/python3.10/dist-packages (from service-identity>=18.1.0->scrapy) (0.4.0)\n",
            "Requirement already satisfied: automat>=0.8.0 in /usr/local/lib/python3.10/dist-packages (from Twisted>=18.9.0->scrapy) (22.10.0)\n",
            "Requirement already satisfied: constantly>=15.1 in /usr/local/lib/python3.10/dist-packages (from Twisted>=18.9.0->scrapy) (23.10.4)\n",
            "Requirement already satisfied: hyperlink>=17.1.1 in /usr/local/lib/python3.10/dist-packages (from Twisted>=18.9.0->scrapy) (21.0.0)\n",
            "Requirement already satisfied: incremental>=22.10.0 in /usr/local/lib/python3.10/dist-packages (from Twisted>=18.9.0->scrapy) (24.7.2)\n",
            "Requirement already satisfied: typing-extensions>=4.2.0 in /usr/local/lib/python3.10/dist-packages (from Twisted>=18.9.0->scrapy) (4.12.2)\n",
            "Requirement already satisfied: idna in /usr/local/lib/python3.10/dist-packages (from tldextract->scrapy) (3.7)\n",
            "Requirement already satisfied: requests>=2.1.0 in /usr/local/lib/python3.10/dist-packages (from tldextract->scrapy) (2.32.3)\n",
            "Requirement already satisfied: requests-file>=1.4 in /usr/local/lib/python3.10/dist-packages (from tldextract->scrapy) (2.1.0)\n",
            "Requirement already satisfied: filelock>=3.0.8 in /usr/local/lib/python3.10/dist-packages (from tldextract->scrapy) (3.15.4)\n",
            "Requirement already satisfied: six in /usr/local/lib/python3.10/dist-packages (from automat>=0.8.0->Twisted>=18.9.0->scrapy) (1.16.0)\n",
            "Requirement already satisfied: pycparser in /usr/local/lib/python3.10/dist-packages (from cffi>=1.12->cryptography>=36.0.0->scrapy) (2.22)\n",
            "Requirement already satisfied: tomli in /usr/local/lib/python3.10/dist-packages (from incremental>=22.10.0->Twisted>=18.9.0->scrapy) (2.0.1)\n",
            "Requirement already satisfied: charset-normalizer<4,>=2 in /usr/local/lib/python3.10/dist-packages (from requests>=2.1.0->tldextract->scrapy) (3.3.2)\n",
            "Requirement already satisfied: urllib3<3,>=1.21.1 in /usr/local/lib/python3.10/dist-packages (from requests>=2.1.0->tldextract->scrapy) (2.0.7)\n",
            "Requirement already satisfied: certifi>=2017.4.17 in /usr/local/lib/python3.10/dist-packages (from requests>=2.1.0->tldextract->scrapy) (2024.7.4)\n"
          ]
        }
      ]
    },
    {
      "cell_type": "code",
      "source": [
        "# hankyung.py 파일 생성 후 코드 삽입\n",
        "import scrapy\n",
        "from datetime import datetime\n",
        "\n",
        "class HankyungNewsSpider(scrapy.Spider):\n",
        "    name = \"hankyung_news\"\n",
        "\n",
        "    def start_requests(self):\n",
        "        search_term = self.search_term\n",
        "        start_date = self.start_date\n",
        "        end_date = self.end_date\n",
        "        page_num = 1\n",
        "\n",
        "        url = f\"https://search.hankyung.com/search/news?query={search_term}&mediaid_clust=HKPAPER,HKCOM&period=DATE&area=ALL&sdate={start_date}&edate={end_date}&page={page_num}\"\n",
        "        yield scrapy.Request(url, callback=self.parse_list_page, meta={'page_num': page_num})\n",
        "\n",
        "    def parse_list_page(self, response):\n",
        "        # 뉴스 링크 추출\n",
        "        news_links = response.css('ul.article > li > div.txt_wrap > a::attr(href)').getall()\n",
        "        for link in news_links:\n",
        "            yield response.follow(link, callback=self.parse_article)\n",
        "\n",
        "        # 다음 페이지 링크가 있을 경우 크롤링\n",
        "        next_page = response.css('a.next::attr(href)').get()\n",
        "        if next_page:\n",
        "            yield response.follow(next_page, callback=self.parse_list_page)\n",
        "\n",
        "    def parse_article(self, response):\n",
        "        # 날짜 추출\n",
        "        date_str = response.css('#container > div > div > article > div > div > div.article-timestamp > div.datetime > span:nth-child(1) > span.txt-date').get()\n",
        "        if not date_str:\n",
        "            date_str = response.xpath('//div[@class=\"article-timestamp\"]//span[@class=\"txt-date\"]/text()').get()\n",
        "\n",
        "        # 날짜 포맷 정리\n",
        "        if date_str:\n",
        "            try:\n",
        "                # 날짜와 시간 정보 분리\n",
        "                date_obj = datetime.strptime(date_str.strip(), '%Y.%m.%d %H:%M')\n",
        "                date_only = date_obj.strftime('%Y.%m.%d')\n",
        "            except ValueError:\n",
        "                date_only = 'No date'\n",
        "        else:\n",
        "            date_only = 'No date'\n",
        "\n",
        "        # 내용 추출\n",
        "        content = ''.join(response.css('div.article-body-wrap > div.article-body ::text').getall()).strip()\n",
        "\n",
        "        yield {\n",
        "            'date': date_only,\n",
        "            'content': content,\n",
        "            'url': response.url\n",
        "        }\n",
        "\n",
        "    def __init__(self, search_term='', start_date='', end_date='', *args, **kwargs):\n",
        "        super(HankyungNewsSpider, self).__init__(*args, **kwargs)\n",
        "        self.search_term = search_term\n",
        "        self.start_date = start_date\n",
        "        self.end_date = end_date\n"
      ],
      "metadata": {
        "id": "QyDdsv3Gxb-3"
      },
      "execution_count": 82,
      "outputs": []
    },
    {
      "cell_type": "code",
      "source": [
        "!scrapy runspider hankyung.py -a search_term=\"금리\" -a start_date=\"2016.01.01\" -a end_date=\"2016.02.01\" -o hankyung_news.json"
      ],
      "metadata": {
        "colab": {
          "base_uri": "https://localhost:8080/"
        },
        "id": "ltcizsQ4_bnu",
        "outputId": "76979bcb-2e5d-4644-9358-e0c8ca5f4f70"
      },
      "execution_count": 83,
      "outputs": [
        {
          "output_type": "stream",
          "name": "stdout",
          "text": [
            "2024-08-09 08:04:44 [scrapy.utils.log] INFO: Scrapy 2.11.2 started (bot: scrapybot)\n",
            "2024-08-09 08:04:44 [scrapy.utils.log] INFO: Versions: lxml 4.9.4.0, libxml2 2.10.3, cssselect 1.2.0, parsel 1.9.1, w3lib 2.2.1, Twisted 24.3.0, Python 3.10.12 (main, Jul 29 2024, 16:56:48) [GCC 11.4.0], pyOpenSSL 24.2.1 (OpenSSL 3.2.2 4 Jun 2024), cryptography 42.0.8, Platform Linux-6.1.85+-x86_64-with-glibc2.35\n",
            "2024-08-09 08:04:44 [scrapy.addons] INFO: Enabled addons:\n",
            "[]\n",
            "/usr/local/lib/python3.10/dist-packages/scrapy/utils/request.py:254: ScrapyDeprecationWarning: '2.6' is a deprecated value for the 'REQUEST_FINGERPRINTER_IMPLEMENTATION' setting.\n",
            "\n",
            "It is also the default value. In other words, it is normal to get this warning if you have not defined a value for the 'REQUEST_FINGERPRINTER_IMPLEMENTATION' setting. This is so for backward compatibility reasons, but it will change in a future version of Scrapy.\n",
            "\n",
            "See the documentation of the 'REQUEST_FINGERPRINTER_IMPLEMENTATION' setting for information on how to handle this deprecation.\n",
            "  return cls(crawler)\n",
            "2024-08-09 08:04:44 [scrapy.utils.log] DEBUG: Using reactor: twisted.internet.epollreactor.EPollReactor\n",
            "2024-08-09 08:04:44 [scrapy.extensions.telnet] INFO: Telnet Password: 9b9438550ddfae2d\n",
            "2024-08-09 08:04:44 [scrapy.middleware] INFO: Enabled extensions:\n",
            "['scrapy.extensions.corestats.CoreStats',\n",
            " 'scrapy.extensions.telnet.TelnetConsole',\n",
            " 'scrapy.extensions.memusage.MemoryUsage',\n",
            " 'scrapy.extensions.feedexport.FeedExporter',\n",
            " 'scrapy.extensions.logstats.LogStats']\n",
            "2024-08-09 08:04:44 [scrapy.crawler] INFO: Overridden settings:\n",
            "{'SPIDER_LOADER_WARN_ONLY': True}\n",
            "2024-08-09 08:04:44 [scrapy.middleware] INFO: Enabled downloader middlewares:\n",
            "['scrapy.downloadermiddlewares.offsite.OffsiteMiddleware',\n",
            " 'scrapy.downloadermiddlewares.httpauth.HttpAuthMiddleware',\n",
            " 'scrapy.downloadermiddlewares.downloadtimeout.DownloadTimeoutMiddleware',\n",
            " 'scrapy.downloadermiddlewares.defaultheaders.DefaultHeadersMiddleware',\n",
            " 'scrapy.downloadermiddlewares.useragent.UserAgentMiddleware',\n",
            " 'scrapy.downloadermiddlewares.retry.RetryMiddleware',\n",
            " 'scrapy.downloadermiddlewares.redirect.MetaRefreshMiddleware',\n",
            " 'scrapy.downloadermiddlewares.httpcompression.HttpCompressionMiddleware',\n",
            " 'scrapy.downloadermiddlewares.redirect.RedirectMiddleware',\n",
            " 'scrapy.downloadermiddlewares.cookies.CookiesMiddleware',\n",
            " 'scrapy.downloadermiddlewares.httpproxy.HttpProxyMiddleware',\n",
            " 'scrapy.downloadermiddlewares.stats.DownloaderStats']\n",
            "2024-08-09 08:04:44 [scrapy.middleware] INFO: Enabled spider middlewares:\n",
            "['scrapy.spidermiddlewares.httperror.HttpErrorMiddleware',\n",
            " 'scrapy.spidermiddlewares.referer.RefererMiddleware',\n",
            " 'scrapy.spidermiddlewares.urllength.UrlLengthMiddleware',\n",
            " 'scrapy.spidermiddlewares.depth.DepthMiddleware']\n",
            "2024-08-09 08:04:44 [scrapy.middleware] INFO: Enabled item pipelines:\n",
            "[]\n",
            "2024-08-09 08:04:44 [scrapy.core.engine] INFO: Spider opened\n",
            "2024-08-09 08:04:44 [scrapy.extensions.logstats] INFO: Crawled 0 pages (at 0 pages/min), scraped 0 items (at 0 items/min)\n",
            "2024-08-09 08:04:44 [scrapy.extensions.telnet] INFO: Telnet console listening on 127.0.0.1:6025\n",
            "2024-08-09 08:04:45 [scrapy.core.engine] DEBUG: Crawled (200) <GET https://search.hankyung.com/search/news?query=%EA%B8%88%EB%A6%AC&mediaid_clust=HKPAPER,HKCOM&period=DATE&area=ALL&sdate=2016.01.01&edate=2016.02.01&page=1> (referer: None)\n",
            "2024-08-09 08:04:45 [scrapy.core.engine] DEBUG: Crawled (200) <GET https://www.hankyung.com/article/2016020158971> (referer: https://search.hankyung.com/search/news?query=%EA%B8%88%EB%A6%AC&mediaid_clust=HKPAPER,HKCOM&period=DATE&area=ALL&sdate=2016.01.01&edate=2016.02.01&page=1)\n",
            "2024-08-09 08:04:45 [scrapy.core.engine] DEBUG: Crawled (200) <GET https://www.hankyung.com/article/2016020158811> (referer: https://search.hankyung.com/search/news?query=%EA%B8%88%EB%A6%AC&mediaid_clust=HKPAPER,HKCOM&period=DATE&area=ALL&sdate=2016.01.01&edate=2016.02.01&page=1)\n",
            "2024-08-09 08:04:45 [scrapy.core.engine] DEBUG: Crawled (200) <GET https://www.hankyung.com/article/2016020158031> (referer: https://search.hankyung.com/search/news?query=%EA%B8%88%EB%A6%AC&mediaid_clust=HKPAPER,HKCOM&period=DATE&area=ALL&sdate=2016.01.01&edate=2016.02.01&page=1)\n",
            "2024-08-09 08:04:45 [scrapy.core.engine] DEBUG: Crawled (200) <GET https://www.hankyung.com/article/2016020158891> (referer: https://search.hankyung.com/search/news?query=%EA%B8%88%EB%A6%AC&mediaid_clust=HKPAPER,HKCOM&period=DATE&area=ALL&sdate=2016.01.01&edate=2016.02.01&page=1)\n",
            "2024-08-09 08:04:45 [scrapy.core.engine] DEBUG: Crawled (200) <GET https://www.hankyung.com/article/2016020157541> (referer: https://search.hankyung.com/search/news?query=%EA%B8%88%EB%A6%AC&mediaid_clust=HKPAPER,HKCOM&period=DATE&area=ALL&sdate=2016.01.01&edate=2016.02.01&page=1)\n",
            "2024-08-09 08:04:45 [scrapy.core.engine] DEBUG: Crawled (200) <GET https://www.hankyung.com/article/2016020159451> (referer: https://search.hankyung.com/search/news?query=%EA%B8%88%EB%A6%AC&mediaid_clust=HKPAPER,HKCOM&period=DATE&area=ALL&sdate=2016.01.01&edate=2016.02.01&page=1)\n",
            "2024-08-09 08:04:45 [scrapy.core.engine] DEBUG: Crawled (200) <GET https://www.hankyung.com/article/2016020157811> (referer: https://search.hankyung.com/search/news?query=%EA%B8%88%EB%A6%AC&mediaid_clust=HKPAPER,HKCOM&period=DATE&area=ALL&sdate=2016.01.01&edate=2016.02.01&page=1)\n",
            "2024-08-09 08:04:45 [scrapy.core.engine] DEBUG: Crawled (200) <GET https://www.hankyung.com/article/2016020158131> (referer: https://search.hankyung.com/search/news?query=%EA%B8%88%EB%A6%AC&mediaid_clust=HKPAPER,HKCOM&period=DATE&area=ALL&sdate=2016.01.01&edate=2016.02.01&page=1)\n",
            "2024-08-09 08:04:46 [scrapy.core.scraper] DEBUG: Scraped from <200 https://www.hankyung.com/article/2016020158971>\n",
            "{'date': '2016.02.01', 'content': '미국의 기준금리 인상과 각국의 ‘환율전쟁’ 등으로 달러 강세가 지속되고 있는 가운데 외화(달러)부채 비중이 높은 상위 30개 기업(시가총액 1조원 이상 상장사 기준)이 환변동으로 입은 손실 규모가 3조원(작년 1~3분기)에 달하는 것으로 나타났다.1일 금융정보업체 와이즈에프엔과 KDB대우증권에 따르면 지난해 1~3분기 자산 대비 달러순부채(달러자산-달러부채) 비중이 높은 상위 30개 기업의 외화환산손익 규모는 -2조9391억원에 이르는 것으로 나타났다. 외화환산손익이란 환율 변동에 따라 변하는 외화 자산과 부채의 평가액을 말한다.외화 부채가 많으면 달러 강세 땐 원화로 평가하는 빚(당기순손실)이 늘어날 수밖에 없다. 미국 금리 인상 등의 영향으로 지난해 1월 1090원대였던 원·달러 환율은 올 들어 1200원대를 오르내리고 있다.항공기를 미국 등지에서 수입(임대)해 쓰는 대한항공의 달러부채는 작년 1~3분기에 7683억원 늘었다. 포스코는 같은 기간 4017억원의 손실을 봤고 두산(-2406억원)과 두산중공업(-2366억원)도 빚이 늘었다.한요섭 KDB대우증권 투자전략팀장은 “달러 표시 부채가 많은 기업은 보통 환헤지(위험 회피) 전략을 펴지만 국내 항공 조선 업체들은 환헤지를 제대로 하지 못한 것으로 분석된다”며 “달러 강세 추세는 당분간 지속될 전망이어서 손실 규모가 더 커질 수 있다”고 말했다.달러부채가 많다고 무조건 손해를 보는 건 아니다. 환헤지를 잘한 기업은 파생상품 부문에서 큰 이익을 냈다. 달러부채가 8조1432억원인 한국전력의 작년 1~3분기 외화환산손실은 8890억원에 달했지만 파생상품에서 8816억원을 벌어들였다.한국전력 관계자는 “통화스와프(서로 다른 통화를 약정된 환율에 상호 교환하는 외환거래)를 통해 환변동으로 인한 손실을 줄이고 있다”고 설명했다. KT는 환변동으로 2225억원의 손실을 입었지만 파생상품 거래를 통해 1815억원의 이득을 봤다.반면 A조선사와 B항공사는 파생상품에서도 각각 1조3000억원대와 300억원대의 손실을 냈다.환율 변동으로 손실 규모가 커진 기업들은 주가도 떨어진 것으로 나타났다. 원·달러 환율이 오르기 시작한 작년 4월24일 이후 자산 대비 달러순부채 비중이 높은 상위 30개 기업의 주가는 6.10% 하락(지난달 29일 종가 기준)했다. 이에 비해 달러순자산 비중이 높은 상위 30개 기업의 주가는 9.00% 올랐다.김우섭 기자 duter@hankung.com', 'url': 'https://www.hankyung.com/article/2016020158971'}\n",
            "2024-08-09 08:04:46 [scrapy.core.scraper] DEBUG: Scraped from <200 https://www.hankyung.com/article/2016020158811>\n",
            "{'date': '2016.02.01', 'content': '▷Q : 대학 4학년 은행 입사 준비생이다. 저금리로 예대마진이 줄면서 은행들도 영업을 강조한다고 들었다. 어떻게 준비해야 하는가.▷A : 저금리로 은행들도 수익 확보에 비상이 걸렸다. 최근 채용에선 고객 마케팅 세일즈 면접, 역할극 면접 등을 잇따라 도입하고 있다. 고객과의 소통을 통해 영업력이 있는 인재를 뽑기 위한 방법이다. 또한, 국내시장 포화로 한류 열풍을 타고 동남아 등지로 영역을 확대하려는 움직임도 있다. 여기에 모바일 확산으로 인한 핀테크(금융+기술) 전략도 알아둘 필요가 있다.\\n                    \\n                        \\n                            \\n                            \\n                        \\n                        < 은행권 면접 한경잡콘서트 > 1000여명 성황 한국경제신문사가 1일 서강대에서 연 ‘한경 은행권 면접 잡콘서트’에 1000여명의 취업준비생이 몰렸다. 행사에는 국민 우리 신한 KEB하나은행의 인사담당자가 신청자들을 대상으로 모의면접을 치러 큰 호응을 얻었다. 행사장인 서강대 정하상관 국제회의실을 가든 메운 학생들이 올 상반기 채용에 대한 설명을 듣고 있다. 김병언 기자 misaeon@hankyung.com\\n                    \\n                ◆‘순익 급감’ 은행권 대응전략 준비한국경제신문 1월12일자 A16면 톱기사는 ‘은행 순이익, 처음으로 보험에 뒤졌다’를 다뤘다. 지난해 은행권 17개 은행의 3분기 누적 순이익(5조8000억원)이 처음으로 56개 보험회사(5조9000억원)보다 적었다는 것이다. 2011년에는 은행권 순이익 규모가 보험권의 두 배에 달했지만 이익의 90%를 차지하는 예대마진이 줄면서 수익 기반 확충에 어려움을 겪고 있다는 분석기사다.대안은 크게 세 가지다. 우선 비이자부문의 수익 확대다. 펀드, 방카슈랑스, 외환, 채권, 인수합병(M&A) 등의 수수료 수입을 확대하는 것이다.둘째, 신성장동력이다. 최근 화두가 되고 있는 핀테크나 복합점포(예컨대 은행지점 내 카페가 동거하는 숍인숍 점포)와 같은 새로운 먹거리 생태계를 구축하는 일이다. 숍인숍 점포는 올해 행정자치부 역점 추진 현안이다(본지 1월27일자 A8면 참조).셋째, 해외시장 개척이다. 한류 붐이 이는 아시아권에서 은행 비즈니스 기회를 찾아야 한다. 화장품, 식품, K팝, 드라마, 의료 등 K컬처 트렌드와 은행이 함께할 수 있는 일을 찾는 것도 좋다.◆고령화…은행 영업 새전략 ‘신탁’\\n                    \\n                        \\n                            \\n                            \\n                        \\n                        \\n                    \\n                한경 1월29일자 A4면(사진)은 ‘유언대용신탁’에 자산가가 몰린다는 기사다. 유언대용신탁은 위탁자가 금융회사에 자산을 맡기고 운용수익을 받다가 사망 이후 미리 계약한 대로 자산을 상속·배분하는 계약이다. 2011년 신탁법 개정으로 도입됐다. 최근 이 상품이 금융과 부동산을 융합한 틈새 상품으로 뜨고 있다. 상속 갈등을 사전에 차단하는 효과가 있어 자산가들의 문의가 늘고 있다. KEB하나은행은 신탁계약액이 지난해 말 기준 2500억원에 달할 정도다. 부동산업계와 법조계에도 연계 업무가 많아 미래 먹거리로 기대감이 커지고 있다.한국 경제가 고도성장기를 거치면서 자산가도 많아졌다. 흔히 성장 1세대로 불리는 이들에게 ‘부의 이전’ 문제가 최근 이슈가 되고 있다. 적게는 수십억에서 많게는 수백억 원대 자산을 자녀들에게 어떤 방식으로 넘겨줄지 고민일 수밖에 없다. 미국, 일본 등 선진국에서는 상속형 신탁에 대해 제도 및 세제상 혜택을 부여하고 있어 시장이 활성화돼 있다. 반면 국내에서는 수수료와 세제상 걸림돌이 적지 않지만 이 부분이 해소되면 시장은 급팽창할 개연성이 크다. 신탁 상품은 생소하고 어렵게 느껴질지 모르지만 간단한 이론과 시장 동향만이라도 잘 챙긴다면 남과 차별화한 콘텐츠로 삼을 수 있다. 신탁상품은 고령사회로 진입하면서 은행이 어떤 비즈니스를 전략적으로 가져가야 할지에 대한 메시지를 많이 내포하고 있는 이슈다.상담 메일 주세요 한국경제신문JOB이 구독자를 위해 ‘한경으로 나만의 취업콘텐츠 만들기’를 연재합니다. 궁금한 점은 이메일(trues@hankyung.com)을 통해 보내주시면 됩니다.도움말=이재호 《나만의 콘텐츠로 원하는 회사 바로 간다》 저자정리=공태윤 기자 trues@hankyung.com', 'url': 'https://www.hankyung.com/article/2016020158811'}\n",
            "2024-08-09 08:04:46 [scrapy.core.scraper] DEBUG: Scraped from <200 https://www.hankyung.com/article/2016020158031>\n",
            "{'date': '2016.02.01', 'content': '아프리카 1위 경제대국인 나이지리아가 세계은행 등에 35억달러의 긴급자금 지원을 요청했다고 파이낸셜타임스(FT)가 1일 보도했다. 유가 폭락으로 인한 경기 침체와 재정난으로 산유국 경제가 한계상황에 몰리는 신호로 외신들은 분석했다. 중앙아시아 산유국인 아제르바이잔도 지난달 자본 통제를 강화하면서 국제통화기금(IMF)과 구제금융 협의에 들어갔다.FT는 집권 8개월째에 접어든 모하마두 부하리 나이지리아 대통령이 지난해 150억달러에 달하는 재정적자를 메우기 위해 세계은행과 아프리카개발은행에 긴급 대출을 요청했다고 전했다. 아프리카 최대 산유국인 나이지리아는 재정 수입의 70%를 원유 수출에 의존하고 있다. 올해는 국제유가 추락으로 수입이 지난해의 3분의 1로 급감할 전망이다.나이지리아는 이에 따라 2013년 이후 처음으로 국채를 발행할 계획이지만 그동안 경기부양을 위한 정부 지출 증가로 재정난이 심해지면서 이자비용이 늘어나는 등 조건이 악화되고 있다. 나이지리아는 올해 재정적자를 당초 국내총생산(GDP)의 2.2%인 110억달러로 예상했지만, 국제유가가 추가 하락하면서 GDP의 3%인 150억달러까지 불어날 것으로 전망하고 있다.IMF가 나이지리아의 올해 경제성장률을 지난해 2.8~2.9%보다 높은 3.25%로 예상했지만, 최근 10년간의 평균 성장률(6.8%)엔 절반에도 못 미친다. 2013년 3월 500억달러에 육박하던 외환보유액은 지난달 282억달러로 줄었다.나이지리아는 세계은행에서 25억달러, 아프리카개발은행에서 10억달러를 각각 지원받는다는 계획이지만 세계은행의 규정상 회원국에 개발 명목으로 긴급자금을 지원하기 위해서는 IMF의 승인을 받아야 한다. 해당국의 경제정책과 금융상황에 대한 검토를 거치도록 한 것이다.IMF는 “나이지리아가 유가 하락이라는 심각한 외부 충격으로 재정적 위험에 직면해 있다”며 “다만 IMF의 즉각적인 구제금융 프로그램이 필요한 상황은 아니다”고 선을 그었다. 케미 에이더슨 나이지리아 재무장관도 FT에 “대출 요청은 긴급조치가 아니라 재정적자를 해결하기 위한 방법일 뿐”이라며 “세계은행이 연 3%보다 낮은 저금리로 자금을 지원한다면 채권을 발행할 이유가 없다”고 강조했다.뉴욕=이심기 특파원 sglee@hankyung.com', 'url': 'https://www.hankyung.com/article/2016020158031'}\n",
            "2024-08-09 08:04:46 [scrapy.core.scraper] DEBUG: Scraped from <200 https://www.hankyung.com/article/2016020158891>\n",
            "{'date': '2016.02.01', 'content': '주택담보대출 때 비거치식·분할상환 원칙을 적용하는 새 여신심사 기준이 수도권에서 처음 시행된 1일 시중은행 대출창구는 비교적 한산했다. 오는 5월2일부터는 강화된 주택대출제도가 비(非)수도권에도 적용된다. 한 금융소비자가 이날 서울 회현동 우리은행 본점 창구에서 은행 직원으로부터 설명을 듣고 있다.허문찬 기자 sweat@hankyung.com', 'url': 'https://www.hankyung.com/article/2016020158891'}\n",
            "2024-08-09 08:04:46 [scrapy.core.scraper] DEBUG: Scraped from <200 https://www.hankyung.com/article/2016020157541>\n",
            "{'date': '2016.02.01', 'content': '미국 월스트리트의 주요 헤지펀드들이 최근 중국 위안화 약세에 베팅한 조지 소로스(사진 왼쪽)의 전략에 가세하고 있다. 월스트리트저널(WSJ)은 월가와 중국 통화당국 간 ‘한판 승부’가 벌어지고 있다고 1일 보도했다.WSJ에 따르면 헤지펀드인 헤이먼캐피털은 위안화와 홍콩달러를 포함한 아시아 통화 약세에 투자하기 위해 그동안 보유해온 주식과 상품, 채권을 대부분 팔아치웠다. 이 회사 포트폴리오의 85%가량이 앞으로 3년 이내에 위안화와 홍콩달러 가치가 떨어지면 수익을 내는 상품으로 채워졌다. 이 회사 창립자인 카일 배스는 “투자 규모가 서브프라임 위기 당시보다 크다”며 “앞으로 위안화의 통화가치는 40% 이상 하락할 것”이라고 주장했다.억만장자 트레이더인 스탠리 드러켄밀러와 헤지펀드 매니저 데이비드 테퍼도 위안화 약세에 매도(쇼트) 포지션을 취하고 있다. 데이비드 아인혼(오른쪽)의 그린라이트캐피털도 위안화 약세와 연계된 옵션을 보유하고 있다.헤지펀드들의 베팅은 중국 경제의 경착륙 우려와 은행권 부채 급증 등의 문제로 중국 금융당국이 환율 방어에 총력을 기울이는 민감한 시기에 벌어지고 있다고 WSJ는 전했다.이 같은 상황은 지난달 21일 헤지펀드계의 거물인 소로스가 세계경제포럼(WEF)에서 “중국 경제의 경착륙은 피할 수 없으며, (중국을 포함한) 아시아 통화 약세에 베팅하고 있다”고 공개하면서 가열되고 있다.헤지펀드들은 침체를 겪고 있는 중국이 경제 성장을 위해 통화 약세를 용인할 것이라는 판단 아래 위안화 약세에 베팅하고 있다.위안화 약세에 대한 기대는 중국인이나 외국인 투자자의 자본 유출을 이끌고 있다. 그러나 중국 정부로선 달러 강세와 주가 폭락 등으로 자금 유통에 어려움을 겪고 있어 위안화 약세에 의한 급격한 자본 유출을 방관할 수만은 없는 상황이다. 지난달 13일 인민은행이 역외인 홍콩에서 헤지펀드에 의해 촉발된 위안화 약세를 억제하기 위해 위안화를 대거 사들인 것도 이 때문이다.당시 하루짜리 은행 간 위안화 대출금리가 66% 폭등하면서 위안화 약세에 베팅했던 헤지펀드들이 상당한 손실을 보기도 했다.이정선 기자 sunee@hankyung.com', 'url': 'https://www.hankyung.com/article/2016020157541'}\n",
            "2024-08-09 08:04:46 [scrapy.core.scraper] DEBUG: Scraped from <200 https://www.hankyung.com/article/2016020159451>\n",
            "{'date': '2016.02.01', 'content': '우리은행(행장 이광구·가운데)은 1일 초록우산 어린이재단(회장 이제훈·왼쪽), 굿네이버스(회장 이일하·오른쪽)와 협약을 맺고 우대금리를 기부할 수 있는 ‘우리사랑플러스 패키지’를 출시하기로 했다. 수시입출식통장과 예·적금으로 구성된 상품이며 예금은 최고 연 1.7% 중 0.1%포인트가, 적금은 최고 연 3.65% 중 0.5%포인트가 만기 때 고객명의로 기부된다.', 'url': 'https://www.hankyung.com/article/2016020159451'}\n",
            "2024-08-09 08:04:46 [scrapy.core.scraper] DEBUG: Scraped from <200 https://www.hankyung.com/article/2016020157811>\n",
            "{'date': '2016.02.01', 'content': '3년 만기 국고채 금리가 사상 최저치를 경신하며 한국은행의 기준금리(연 1.5%) 수준까지 내려왔다.1일 채권시장에서 3년 만기 국고채 금리는 전 거래일보다 0.039%포인트 하락(채권값 상승)한 연 1.525%에 마감했다. 지난달 29일 세웠던 사상 최저치를 1거래일 만에 갈아치웠다. 10년 만기 국고채 금리도 0.057%포인트 내린 연 1.922%에 장을 마쳤다.글로벌 경기둔화 우려와 일본의 마이너스 기준금리 도입으로 한국은행도 조만간 기준금리를 내릴 것이란 전망이 퍼지면서 채권 금리가 일제히 하락했다는 분석이다. 지난달 29일 일본은행은 기준금리를 0.1%에서 -0.1%로 낮췄다. 같은 날 미국 상무부는 지난해 4분기 국내총생산(GDP) 증가율이 0.7%(전기 대비 연율 기준)로 잠정 집계됐다고 발표했다. 지난 3분기(2%)와 2분기(3.9%)에 크게 못 미치는 수준이다.한 증권사 연구원은 “회복세를 보이던 미국 경제가 주춤하면서 미 중앙은행(Fed)의 기준금리 인상 속도가 당초 예상보다 느려질 것이란 전망이 나오고 있다”고 말했다. 일본 유럽 등 세계 주요국이 잇달아 경기 부양책을 내놓고 있어 한은도 올 상반기 중 금리를 내릴 가능성이 커졌다고 전문가들은 보고 있다.하헌형 기자 hhh@hankyung.com', 'url': 'https://www.hankyung.com/article/2016020157811'}\n",
            "2024-08-09 08:04:46 [scrapy.core.scraper] DEBUG: Scraped from <200 https://www.hankyung.com/article/2016020158131>\n",
            "{'date': '2016.02.01', 'content': '국내 주택 임대차(전세+월세) 시장에서 월세가 차지하는 비중이 사상 최대치로 증가하면서 ‘월세시대 수혜주’에 관심이 쏠리고 있다. 저금리 시대가 장기화하면서 집주인들이 현금을 확보하기 위해 반전세(보증부 월세)로 전환하는 등 월세 선호 현상이 당분간 지속될 것이란 전망이 많아서다.1일 신한금융투자는 앞으로 건설관련 업종에서 투자 유망한 종목을 발굴하기 위해 1990년대 중반부터 임대주택 수요가 급증하기 시작한 일본 시장을 반면교사로 삼아야 한다는 분석 보고서를 내놨다. 초고령화 시대로 접어든 일본의 경우 1인 가구의 비중 확대와 임대시장의 동반 성장으로 같은 업종 내에서도 주가 차별화 현상이 나타났다는 것이다.윤창민 신한금융투자 연구원은 “시공과 분양 위주였던 일본 건설업체 미쓰이부동산이 임대관리 및 중개, 공실 관리 등 종합부동산업체로 탈바꿈하면서 실적과 주가가 모두 오른 사실에 주목해야 한다”며 “반면 시공과 분양 사업만 해온 가지마건설은 매출과 영업이익이 줄고 주가 상승률도 저조했다”고 말했다. 미쓰이부동산은 임대 및 자산관리 부문 매출을 50% 이상으로 끌어올리는 과정에서 2002년 1조1524억엔이었던 매출이 2014년 1조5153억엔으로 31.49% 증가했다. 같은 기간 가지마건설은 매출이 2조603억엔에서 1조5211억엔으로 26.17% 감소했다. 영업이익률은 2002년 미쓰이부동산이 8.9%에서 2014년 11.4%로 늘었고, 가지마건설은 같은 기간 2.1%에서 1.5%로 줄었다.일본의 사례를 토대로 국내 월세 시장 확대에 따른 수혜주를 가려낼 수 있다는 게 신한금융투자의 분석이다. 단순히 집을 지어서 판매하는 분양업체보다는 지어진 주택을 잘 관리하는 기업의 성장세가 더 가파를 것이란 진단을 내놨다. 신한금융투자는 이에 따라 건물 관리 및 주택임대 관리업체 에스원, 건물 및 시설관리 서비스업체 아이서비스를 자회사로 둔 현대산업개발, 시설관리용역 전문업체 C&S자산관리를 대표 수혜주로 꼽았다. 현대산업개발은 올 들어 주가가 17.65% 급증했고, 에스원은 3.81% 올랐다. 윤 연구원은 “대림산업 대우건설 GS건설 등 정부의 뉴스테이(기업형 임대주택)사업과 관련된 건설주, 한샘 KCC LG하우시스 등 인테리어 및 리모델링 관련주도 주목해야 한다”고 강조했다.민지혜 기자 spop@hankyung.com', 'url': 'https://www.hankyung.com/article/2016020158131'}\n",
            "2024-08-09 08:04:46 [scrapy.core.engine] DEBUG: Crawled (200) <GET https://search.hankyung.com/search/news?query=%EA%B8%88%EB%A6%AC&mediaid_clust=HKPAPER,HKCOM&period=DATE&area=ALL&sdate=2016.01.01&edate=2016.02.01&page=11> (referer: https://search.hankyung.com/search/news?query=%EA%B8%88%EB%A6%AC&mediaid_clust=HKPAPER,HKCOM&period=DATE&area=ALL&sdate=2016.01.01&edate=2016.02.01&page=1)\n",
            "2024-08-09 08:04:46 [scrapy.core.engine] DEBUG: Crawled (200) <GET https://www.hankyung.com/article/2016020157601> (referer: https://search.hankyung.com/search/news?query=%EA%B8%88%EB%A6%AC&mediaid_clust=HKPAPER,HKCOM&period=DATE&area=ALL&sdate=2016.01.01&edate=2016.02.01&page=1)\n",
            "2024-08-09 08:04:46 [scrapy.core.engine] DEBUG: Crawled (200) <GET https://www.hankyung.com/article/2016020159821> (referer: https://search.hankyung.com/search/news?query=%EA%B8%88%EB%A6%AC&mediaid_clust=HKPAPER,HKCOM&period=DATE&area=ALL&sdate=2016.01.01&edate=2016.02.01&page=1)\n",
            "2024-08-09 08:04:46 [scrapy.core.scraper] DEBUG: Scraped from <200 https://www.hankyung.com/article/2016020157601>\n",
            "{'date': '2016.02.01', 'content': '“보통 2월이면 주택대출 수요가 많은데 오늘은 대출상담 신청도 거의 없습니다.”(우리은행 서울 대치역지점 관계자)주택담보대출 심사 요건을 강화하는 ‘여신심사 선진화방안’ 시행 첫날인 1일 주요 은행 창구는 대체로 한산했다. 새 심사 방안은 집값(담보가치)보다 소득 수준을 따져 대출 여부를 결정하고, 이자만 우선 내는 거치식·일시상환 대신 비거치식·분할상환을 의무화하는 것이다.까다로워진 대출심사 탓에 소비자의 불만이 많을 것이라는 우려도 나왔지만 이날 영업점 창구는 조용했다는 게 은행들의 분석이다.인천 부평의 신한은행 산곡중앙지점 관계자는 “1000만~2000만원 정도의 소액대출도 새 대출심사 기준을 따라야 하느냐는 문의가 몇 건 있었을 뿐 오늘 하루 신규 주택대출 문의는 거의 없다”고 분위기를 전했다. 이 관계자는 “지난해 12월 (대출상담이) 많을 때는 하루 평균 10건 정도 들어왔는데 최근엔 1주일에 4~5건밖에 없는 상황”이라고 귀띔했다.아파트 대출 수요가 많은 KEB하나은행 중계동지점 관계자도 “새 심사 방안 시행을 앞둔 지난주에는 대출한도가 얼마나 줄어드는지 등을 묻는 전화가 있었는데 오늘은 대출 상담차 지점을 찾은 손님이 전혀 없다”고 전했다.은행들은 이런 분위기가 당분간 계속 이어질 것으로 보고 있다. 경기 김포의 신한은행 풍무지점 관계자는 “통상 주택대출 비수기인 1월이 지나면 2월부터 대출 수요가 늘어나는데 올해는 정부가 주택대출을 조이겠다고 여러 차례 공언한 만큼 분위기가 사뭇 다를 것으로 예상된다”고 말했다.일각에서는 정부가 은행 대출을 조이면서 그 여파로 보험사·저축은행 쪽 대출 수요가 늘어날 것이라는 관측도 나온다. 이른바 ‘풍선효과’가 나타날 것이라는 전망이다. 지난해 11월 기준 은행권 주택담보대출 잔액은 352조원, 저축은행·보험업계의 대출잔액은 98조원 정도다.저축은행업계 관계자는 “지금 당장은 은행권 주택대출 수요가 저축은행으로 넘어오지는 않고 있다”며 “새 대출심사가 이제 막 시작된 만큼 2주 정도는 지나야 (대출 수요 변화 등을) 파악할 수 있을 것”이라고 설명했다.이태명/김은정/박한신 기자 chihiro@hankyung.com', 'url': 'https://www.hankyung.com/article/2016020157601'}\n",
            "2024-08-09 08:04:46 [scrapy.core.engine] DEBUG: Crawled (200) <GET https://www.hankyung.com/article/2016012716291> (referer: https://search.hankyung.com/search/news?query=%EA%B8%88%EB%A6%AC&mediaid_clust=HKPAPER,HKCOM&period=DATE&area=ALL&sdate=2016.01.01&edate=2016.02.01&page=11)\n",
            "2024-08-09 08:04:46 [scrapy.core.scraper] DEBUG: Scraped from <200 https://www.hankyung.com/article/2016020159821>\n",
            "{'date': '2016.02.01', 'content': 'BNK경남은행(은행장 손교덕)은 1일 울산시(시장 김기현)와 주력산업 금융지원 양해각서(MOU)를 체결했다. 경남은행은 친환경 가솔린자동차부품, 3D프린팅, 수소 및 2차전지 등 울산시 성장동력산업 관련 기업을 대상으로 총 5000억원 한도에서 대출금리를 최대 2.5%까지 우대, 지원하기로 했다.', 'url': 'https://www.hankyung.com/article/2016020159821'}\n",
            "2024-08-09 08:04:46 [scrapy.core.engine] DEBUG: Crawled (200) <GET https://www.hankyung.com/article/2016012715521> (referer: https://search.hankyung.com/search/news?query=%EA%B8%88%EB%A6%AC&mediaid_clust=HKPAPER,HKCOM&period=DATE&area=ALL&sdate=2016.01.01&edate=2016.02.01&page=11)\n",
            "2024-08-09 08:04:46 [scrapy.core.scraper] DEBUG: Scraped from <200 https://www.hankyung.com/article/2016012716291>\n",
            "{'date': '2016.01.27', 'content': '올 들어 미국 증시와 국제 유가가 거의 같은 방향으로 움직이고 있다. 국제 유가가 오르면 미국 주가가 오르고, 유가가 내리면 미국 주가도 내리는 패턴이 이어지고 있다. 미국 CNN머니가 26일(현지시간) “요즘 주가를 예상하는 일이 아주 쉬워졌다”고 진단했을 정도다.월스트리트저널(WSJ)에 따르면 올 들어 미국 주가와 유가의 상관계수는 0.97에 달한다. 상관계수가 1이면 완벽히 같은 방향으로 움직인다는 얘기다. 통상 주가와 유가는 뚜렷한 상관관계가 없다고 알려져 있다. 그런데 왜 요즘은 이렇게 같은 방향으로 움직이는 것일까.\\n                    \\n                        \\n                            \\n                            \\n                                    \\n                                        \\n                                    \\n                                    이미지 크게보기\\n                                \\n                        \\n                        \\n                    \\n                주가·유가 그래프 같이 움직여브렌트유 2월 인도분이 전날보다 7.1% 급락한 지난 15일 미국 뉴욕증시의 S&P500지수도 2.2% 급락했다. 반면 26일 브렌트유가 3.8% 급등했을 때 S&P500도 1.39% 올랐다. 유가의 등락폭이 가장 컸던 이 두 날을 포함해 올 들어 원유시장과 미국 증시가 함께 열린 17영업일 중 나흘을 제외하고는 모두 유가와 주가가 함께 오르거나 떨어졌다.WSJ에 따르면 브렌트유와 S&P500지수는 미국 부실채권 거품이 꺼지면서 경제가 급속도로 악화됐던 1990년 이후 26년 만에 처음으로 가장 밀접한 연관성을 보이고 있다.그동안 주가와 유가의 상관관계는 크지 않았다. 주가는 기본적으로 기업 수익성과 성장성에 기반하기 때문이다. 유가가 떨어지면 소비가 늘어나 주가 상승의 원동력이 되는 사례도 많았다. 미국 경제에서 에너지업계가 차지하는 비율도 3% 정도에 그친다.경기침체 공포에 이성적 판단 마비WSJ가 분석한 동조화의 주된 원인은 시장의 공포다. WSJ는 “주식과 원유시장 참여자 사이에 중국의 경제 성장세 둔화 등으로 세계 경제가 침체될 수 있다는 공포가 만연하면서 이성적인 판단이 제대로 이뤄지지 않고 있다”고 설명했다.네덜란드에 있는 NN인베스트먼트의 발렌틴 판나우엔하위전 자산전략부문 대표는 “공포 때문에 주식 투자자들이 저유가의 긍정적 측면과 기업 펀더멘털(실적 대비 주가수준) 등을 분석할 수 있는 여유를 갖지 못한 채 오직 유가에만 휩쓸리는 장세가 연출되고 있다”고 말했다. 주가와 유가의 상관계수는 글로벌 금융위기가 발생한 2008년에도 0.8까지 치솟았다.CNN머니는 구체적으로 공포의 배경을 분석했다. 가장 큰 이유는 주식 투자자들이 유가 하락을 소비 수요 감소 때문이라고 판단한다는 것이다. 산유국들이 감산을 반대하고 이란이 하루 100만배럴 증산에 나서는 등 공급과잉 여파가 큰 데도 주식 투자자들은 경기침체에 따른 수요 위축에 더 무게를 둔다는 것이다. 유가가 떨어지면 에너지 기업 실적이 나빠지고, 텍사스와 노스다코다주(州) 등 원유 생산 지역의 경제가 악화할 것이란 우려도 더해졌다. 에너지 기업 부실이 은행권 부실로 이어지지 않을까 하는 걱정도 있다. 산유국 국부펀드들이 올 들어 750억달러에 달하는 주식을 팔아치워 재정에 투입했다는 사실 또한 공포를 부추겼다.CNN머니는 “러시아 브라질 등 주요 산유국의 경제위기설도 악재”라며 “미국 중앙은행(Fed)의 추가 금리 인상 일정이 불확실해진 것 등을 포함해 투자자들이 모든 사안을 나쁘게 해석하고 있다”고 전했다.전문가들은 하지만 유가가 어느 정도 안정되면 주가와 유가의 동조화 현상이 깨질 것으로 전망했다. 에드 야데니 야데니투자자문리서치회사 대표는 “유가의 변동성이 줄면 저유가가 결국 미국 경제에 좋은 일이라는 사실을 깨닫게 되면서 주가도 상승할 것”이라고 말했다.감산 가능성에 유가 반등국제 유가는 26일 원유 생산국의 감산합의 가능성에 강세를 보였다. 3월 인도분 서부텍사스원유(WTI)는 전날보다 1.11달러(3.7%) 오른 배럴당 31.45달러에 마감했다.석유수출국기구(OPEC)가 OPEC 회원국뿐 아니라 비회원국에도 원유 감산을 촉구한 가운데 감산 결정을 주도할 사우디아라비아와 러시아의 입장이 이전보다 부드러워졌다는 주장이 나오면서다. 아델 압둘 마흐디 이라크 석유장관은 “사우디아라비아와 러시아가 과잉 공급을 해소하기 위한 합의에 유동적이라는 신호가 보인다”고 전했다.박종서/임근호 기자 cosmos@hankyung.com', 'url': 'https://www.hankyung.com/article/2016012716291'}\n",
            "2024-08-09 08:04:46 [scrapy.core.engine] DEBUG: Crawled (200) <GET https://www.hankyung.com/article/201601271927i> (referer: https://search.hankyung.com/search/news?query=%EA%B8%88%EB%A6%AC&mediaid_clust=HKPAPER,HKCOM&period=DATE&area=ALL&sdate=2016.01.01&edate=2016.02.01&page=11)\n",
            "2024-08-09 08:04:46 [scrapy.core.engine] DEBUG: Crawled (200) <GET https://www.hankyung.com/article/2016012714771> (referer: https://search.hankyung.com/search/news?query=%EA%B8%88%EB%A6%AC&mediaid_clust=HKPAPER,HKCOM&period=DATE&area=ALL&sdate=2016.01.01&edate=2016.02.01&page=11)\n",
            "2024-08-09 08:04:46 [scrapy.core.scraper] DEBUG: Scraped from <200 https://www.hankyung.com/article/2016012715521>\n",
            "{'date': '2016.01.27', 'content': '금융위원회(위원장 임종룡·왼쪽 두 번째)는 27일 금융발전심의회 전체회의를 열어 금융발전심의회 위원장으로 장범식 숭실대 부총장(세 번째)을 임명했다. 금융위 제공\\n                    \\n                은행과 저축은행이 올 하반기에만 1조원 규모의 중금리 신용대출을 공급한다. 금융회사의 대출을 SGI서울보증이 보증, 신용등급 4~7등급에 속하는 중신용자를 대상으로 연리 10~15%의 대출 상품을 내놓기로 했다. 4~7등급에 속한 사람은 약 698만명이다.금융위원회는 27일 예금보험공사에서 제1차 금융발전심의회를 열어 이 같은 내용의 중금리 신용대출 활성화 방안을 발표했다.\\n                    \\n                        \\n                            \\n                            \\n                        \\n                        \\n                    \\n                활성화 방안에 따르면 은행은 보증료를 포함해 연 10% 안팎의 금리로 2000만원 한도로 대출한다. 또 저축은행은 은행대출을 받기 어려운 소비자에게 연리 15% 정도로 1000만원까지 신용대출을 한다. 대출을 받는 금융소비자는 60개월 이내에 원리금을 균등 분할 상환해야 한다. 공급 규모는 은행과 저축은행이 5000억원씩 총 1조원이다. 금융위는 대출 실적을 지켜본 뒤 확대 여부를 결정하기로 했다.이번 중금리 대출 활성화 방안은 예금보험공사가 대주주인 서울보증이 금융회사 대출에 보증을 서는 게 특징이다. 다만 금융회사가 보증에만 의존해 과도한 대출영업에 나서지 않도록 하기 위해 연체율이 높아지면 해당 금융사도 위험 부담을 지도록 했다. 서울보증이 부실 대출에 지급하는 보증금 액수가 금융사에서 받는 보증료의 150%를 초과하면 은행은 추가로 보험료를 내야 한다.중금리 대출 확대는 중신용자의 ‘금리절벽’을 해소하기 위한 것이라고 금융위는 설명했다. 금융당국은 2014년부터 은행들에 중금리대출 확대를 유도했다. 금융위 관계자는 “은행들의 보수적인 영업관행으로 신용등급 5등급 이하 소비자 상당수는 여전히 연 20%대의 고금리 대출을 받아야 하는 실정”이라고 말했다.우리은행이 서울보증과 함께 작년 5월 서비스를 시작한 위비뱅크의 성공도 중금리 대출 활성화 방안이 나온 배경이 됐다. 위비뱅크는 1~7등급에 속하기만 하면 다른 조건을 따지지 않고 대출한다. 서울보증이 보증한 대출총액은 500억원 규모다. 이번 금융위 안은 위비뱅크 모델을 20배로 확대하는 셈이다. 서울보증 관계자는 “지금까지 약 10억원을 보험료로 받아 부실 대출에 약 3억5000만원을 보증금으로 지급했다”며 “중신용자에 대한 세부 신용평가모델을 구축하고 있다”고 설명했다. 금융위는 중금리 대출 실적이 우수한 저축은행에는 신용공여액 한도를 늘려주는 방안도 검토 중이다.금융위는 중금리 대출 공급채널 확대와 함께 신용평가 인프라 확충도 병행하기로 했다. 신용조회회사(CB)가 보유한 대부업 이력정보와 신용정보원의 대부업 정보를 저축은행에 제공하도록 했다.금융사 관계자는 “중금리 대출이 활성화하려면 연체율 관리가 필수”라며 “부실 대출이 늘어나면 그 부담을 서울보증이 져야 할 수도 있다”고 말했다.박동휘/김일규 기자 donghuip@hankyung.com', 'url': 'https://www.hankyung.com/article/2016012715521'}\n",
            "2024-08-09 08:04:46 [scrapy.core.engine] DEBUG: Crawled (200) <GET https://www.hankyung.com/article/2016012715411> (referer: https://search.hankyung.com/search/news?query=%EA%B8%88%EB%A6%AC&mediaid_clust=HKPAPER,HKCOM&period=DATE&area=ALL&sdate=2016.01.01&edate=2016.02.01&page=11)\n",
            "2024-08-09 08:04:46 [scrapy.core.engine] DEBUG: Crawled (200) <GET https://www.hankyung.com/article/2016012716471> (referer: https://search.hankyung.com/search/news?query=%EA%B8%88%EB%A6%AC&mediaid_clust=HKPAPER,HKCOM&period=DATE&area=ALL&sdate=2016.01.01&edate=2016.02.01&page=11)\n",
            "2024-08-09 08:04:46 [scrapy.core.engine] DEBUG: Crawled (200) <GET https://www.hankyung.com/article/201601282537g> (referer: https://search.hankyung.com/search/news?query=%EA%B8%88%EB%A6%AC&mediaid_clust=HKPAPER,HKCOM&period=DATE&area=ALL&sdate=2016.01.01&edate=2016.02.01&page=11)\n",
            "2024-08-09 08:04:46 [scrapy.core.scraper] DEBUG: Scraped from <200 https://www.hankyung.com/article/201601271927i>\n",
            "{'date': '2016.01.27', 'content': '하영구 전국은행연합회장은 27일 은행 임금 체계의 수정을 고려해야 할 시기가 됐다고 밝혔다. 하 회장은 이날 서울 명동 은행회관에서 기자간담회를 열고 “임금뿐 아니라 고용 구조 등 여러 사안을 동시에 검토해야 할 시기”라며 이 같이 말했다. 이날 간담회는 은행연합회, 신용정보원, 금융연구원, 금융연수원, 국제금융센터가 공동으로 진행했다. 하 회장은 “우리나라 임금과 고용 구조는 과거 수출 제조업 위주의 산업 구조일 때 만들어진 것”이라며 “지금은 서비스 산업 비중이 제조업을 월등히 능가하기 때문에 시스템적으로 한 번은 되짚어봐야 할 시점”이라고 했다. 특히 은행권은 인터넷전문은행, 핀테크(금융+기술) 등으로 올해 격변이 예상되는 만큼 경영상 유연성이 필요하다고 강조하면서 “과거의 체계로 은행들이 경쟁하는 것은 어려울 것”이라고 했다. 또 저금리로 순이자마진(NIM)이 지속적으로 하락하는 상황에서 경쟁력 제고를 위해서는 “수수료 인상을 현실화할 필요가 있다”고 강조했다. 아울러 은행권에 투자일임업도 허용해야 한다고  강조했다. 하 회장은 “투자일임업을 허용하면 은행은 고객에게 원스톱서비스를 제공할 수 있다”며 “고객의 선택 폭을 넓힐 수 있다는 차원에서 바람직하다”고 했다. 박한신 기자 hanshin@hankyung.com', 'url': 'https://www.hankyung.com/article/201601271927i'}\n",
            "2024-08-09 08:04:46 [scrapy.core.scraper] DEBUG: Scraped from <200 https://www.hankyung.com/article/2016012714771>\n",
            "{'date': '2016.01.27', 'content': '‘베스트 ETF’상은 종합대상을 받은 미래에셋자산운용에 돌아갔다. 미래에셋자산운용의 ‘TIGER’ 브랜드 상장지수펀드(ETF)들은 지난해 수익률 면에서 경쟁사 상품을 압도했다. 상위 10개 상품 중 7개가 TIGER 브랜드 ETF였다.자금몰이 측면에서도 미래에셋의 활약이 두드러졌다. TIGER ETF는 지난해 1조5228억원의 자금을 새로 유치했다. 2014년 말보다 순자산이 43% 늘었다.KB자산운용은 최근 5년간 매년 시장금리 두 배 이상의 안정적인 수익률로 퇴직연금펀드의 신뢰도를 높인 점을 인정받아 2년 연속 ‘베스트 연금펀드’ 부문 수상 기업으로 선정됐다. 지난해 수탁액을 9000억원 이상 늘리며 운용사 중 가장 두드러진 성장세를 보인 점이 높은 평가를 받았다. 지난해 퇴직연금펀드 고객 중 37%(금액 기준)가 KB자산운용의 연금 상품을 선택했다. 대표 펀드인 KB퇴직연금배당40펀드의 5년 수익률은 45.30%로 전체 연금펀드 중 상위 1% 이내에 들었다.‘베스트 헤지펀드’ 부문 수상 기업은 마이다스에셋자산운용이다. 이 회사가 운용하는 ‘마이다스 적토마 멀티스트래티지’는 지난해 23.21%의 수익률을 기록했다. 헤지펀드(투자형 사모펀드) 중 가장 높은 수익률이다.마이다스자산운용은 다른 헤지펀드들이 주로 쓰는 롱쇼트(상승 예상 종목을 사고, 하락 예상 종목을 공매도) 전략만을 고집하지 않는다. 이벤트드리븐(유상증자 등에 따른 주가 변동성을 활용한 투자), 메자닌(전환사채 등 매매) 등 다양한 전략을 병행해 안정적으로 펀드 수익률을 관리할 수 있었다는 설명이다.송형석 기자 click@hankyung.com', 'url': 'https://www.hankyung.com/article/2016012714771'}\n",
            "2024-08-09 08:04:46 [scrapy.core.scraper] DEBUG: Scraped from <200 https://www.hankyung.com/article/2016012715411>\n",
            "{'date': '2016.01.27', 'content': '증시 불안 등의 영향으로 소비심리가 두 달째 위축됐다. 향후 경기에 대한 비관론은 4년 만에 가장 짙었다.한국은행이 27일 발표한 ‘1월 소비자동향조사 결과’에 따르면 이달 소비자심리지수는 작년 12월보다 2포인트 하락한 100을 나타냈다. 메르스(중동호흡기증후군)가 본격 확산된 지난해 7월(100) 이후 가장 낮다. 소비자심리지수는 메르스 사태가 진정되면서 작년 11월 105까지 회복했지만 미국 금리 인상 여파로 12월 102로 떨어졌다.소비자심리지수는 국민이 체감하는 경제 상황을 나타낸다. 2003~2015년 장기평균치를 100으로 뒀을 때 이보다 높으면 소비심리가 긍정적이라는 의미다.소비자들의 6개월 뒤 경기 전망을 나타내는 경기전망지수는 78로 작년 12월(84)보다 6포인트 급락했다. 2012년 1월(77) 이후 가장 낮았다. 중국 경기에 대한 우려, 주가 급변동 탓에 향후 경기에 대한 비관론이 크게 확산됐다는 해석이 나온다.일자리 전망을 보여주는 취업기회전망지수는 작년 12월 84에서 1월 77로 7포인트 떨어졌다. 2009년 3월(55) 이후 최저치였다.김유미 기자 warmfront@hankyung.com', 'url': 'https://www.hankyung.com/article/2016012715411'}\n",
            "2024-08-09 08:04:46 [scrapy.core.engine] DEBUG: Crawled (200) <GET https://www.hankyung.com/article/2016012712811> (referer: https://search.hankyung.com/search/news?query=%EA%B8%88%EB%A6%AC&mediaid_clust=HKPAPER,HKCOM&period=DATE&area=ALL&sdate=2016.01.01&edate=2016.02.01&page=11)\n",
            "2024-08-09 08:04:46 [scrapy.core.scraper] DEBUG: Scraped from <200 https://www.hankyung.com/article/2016012716471>\n",
            "{'date': '2016.01.27', 'content': '국가기간산업인 해운업이 바닥이 보이지 않는 불황의 늪에 빠져 있다. 해운업 경기를 나타내는 발틱운임지수(BDI)는 사상 최저치인 369까지 떨어져 북대서양에 짐을 실은 선박이 한 척도 없다고 할 정도다.미증유의 위기 극복을 위해 각국은 민관공동으로 다양한 정책을 시행하고 있다. 한국도 선박펀드 조성을 핵심으로 한 해운업 경쟁력 강화방안을 발표한 바 있다. 그러나 지원 전제조건인 부채비율 400%는 업계 상황을 반영하지 않은 비현실적인 기준으로 국내 대다수 해운회사들이 지원에서 배제되는 상황을 초래하고 말았다. 밑 빠진 독에 물 붓기 식 지원보다 기초체력을 갖춘 기업만 선별 지원하겠다는 뜻으로 보인다.하지만 국내 최대 선사인 현대상선과 한진해운조차 부채비율을 400% 이하로 낮추기 위해서는 최대 1조원의 자본을 확충해야 하는데, 이미 6조원에 이르는 고강도의 자구노력을 한 두 회사는 추가 자구 여력이 없는 상태다. 지금과 같은 불황에서 새로운 투자를 기대하는 것도 나무 위에서 생선을 구하는 격이다.국책은행 등의 자금이 투자되는 사설 선박펀드가 대부분 외국 선사의 신규 선박 건조 활동을 지원하고 재무구조가 열악하다는 이유로 우리 해운회사를 지원하지 못하는 것은 아쉽다. 한국은 세계 최대의 조선국가임에도 불구하고 조선과 해운은 서로의 발전에 큰 도움이 되지 못했다. 일본처럼 해양수산부 산업통상자원부 기획재정부 금융위원회가 참여하는 ‘해운조선정책조정위원회’를 구성해 20년 뒤를 내다보고 한국 해운과 조선이 어떻게 살아날지 그림을 그리는 정책이 필요하다. 이번을 계기로 정부의 해운업 지원 효과가 조선업으로 흘러갈 수 있도록 정책 지원을 함으로써 상생의 가치사슬을 구축할 필요가 있다.더구나 이번 지원책은 신(新)조선에 초점이 맞춰져 있다. 선박을 건조하는 데 2년 이상이 걸리는 점을 감안하면 지금 당장 유동성 위기를 겪는 국적선사들의 자금난을 해소하기에는 명백한 한계가 있다. 금융위기 이후 지속된 세계적인 해운불황 속에서 국내 해운업계는 제대로 된 금융권 지원 없이 자체적인 유동성 해소 노력만 강요받아 왔다. 고금리 및 단기대여로 실질적인 도움이 되지 않은 회사채 신속인수제마저도 지난해 끝나 올해 만기 도래하는 회사채에 대해서는 차환발행을 하지 못하는 등 국적선사의 어려움이 가중되고 있다.당장은 일시적인 자금난을 겪고 있는 해운회사에 유동성 지원이 우선돼야 한다. 해운회사에 대한 유동성 지원 정책은 독일, 프랑스, 중국, 일본 등에서 이미 성공사례로 증명된 바 있다. 그 결과 이들 국가의 해운회사들은 장기 불황 속에서도 경제성을 확보해 경쟁력을 강화하고 있다. 독일은 위기에 빠진 자국선사를 살리기 위해 유동성 지원뿐만 아니라 지분매입까지 해 자국선사를 보호하고, 결과적으로 함부르크의 허브항만 지위를 유지하도록 했다. 일본이 1960년대 초반 세계적인 해운경기 불황에 직면해 부채비율 수천%에 달하는 자국 해운업체를 구제하기 위해 시행한 해운정책도 주목할 만하다. 일본은 그때부터 지금까지 시중이자를 부담하기 어려운 자국 해운업체에 정부가 대신 이자를 부담해주고 국책금융기관을 통해 신조자금의 90% 이상을 지원, 자국 조선소에 발주했더니 해운회사 재무구조가 건전해져 초대형 선사가 되고 결과적으로 조선업도 살릴 수 있었다.봄에 새싹을 보려면 겨울철에 씨앗이 얼지 않도록 보호할 필요가 있다. 세계적인 해운불황이라는 힘든 겨울을 견디고 있는 해운회사에 대한 유동성 지원이라는 보호막을 우선 제공하고 장기적으로는 경기에 좌우되지 않도록 해운·조선의 통합 정책을 마련해야 한다.한종길 < 성결대 교수·한국해운물류학회 고문 >', 'url': 'https://www.hankyung.com/article/2016012716471'}\n",
            "2024-08-09 08:04:46 [scrapy.core.scraper] DEBUG: Scraped from <200 https://www.hankyung.com/article/201601282537g>\n",
            "{'date': '2016.01.28', 'content': '미국 중앙은행(Fed)은 27일 이틀간 개최한 올해 첫 연방공개시장위원회(FOMC) 정례회의를 마친 뒤 현 기준금리인 연0.25%∼0.50%를 유지하기로 결정했다고 발표했다. Fed는 이날 성명에서 \"fomc가 세계 경제와 금융의 움직임을 면밀히 점검할 것이며, 그것이 고용시장과 물가에 미칠 영향을 평가할 것\"이라고 밝혔다.Fed는 또 지난해 금리인상을 단행, \\'제로금리\\' 시대를 마감한 뒤 경제성장이 둔화됐다고 평가, 다음 3월 정례회의에서도 금리인상 가능성이 크지 않다는 관측이 나오고 있다.미 중앙은행은 이날 성명에서 유가 폭락으로 인해 단기적으로 물가도 낮게 유지될 것으로 예상된다고 밝혔다. 하지만, 중기적으로는 목표치인 2.0%를 향해 올라갈 것으로 확신한다고 설명했다. 앞서 Fed는 지난해 12월 기준금리인 연방기금금리를 0.00%∼0.25%에서 0.25%  포인트 인상, 2008년 금융위기 이후 7년 동안 유지했던 \\'제로금리\\' 시대의 막을 내렸다.주요 외신들은 향후 금리 전망과 관련, \"연준이 지난해 12월에 사용된 \\'향후 금리 인상은 점진적이 될 것으로 예상된다\\'는 표현을 다시 사용했다\" 며 \"일부 이코노미스트들은 올해 두 차례의 소폭  인상만을 예상하고 있다\"고 보도했다. 이는 고용상황 호조와 물가상승 등에 기반을 둔 미국 경제의 강세에 맞물려  올해 서너 차례 금리인상이 단행될 수 있을 것이라던 당초 예상과 다른 전망이다. Fed의 이날 금리 동결은 대체로 예상된 것이다. 중국발 악재와 유가 폭락 등 해외 리스크로 인해 증시 등 금융시장의 대혼란 등 대외적 위기 요인이 반영된 결과로 풀이된다.많은 전문가들이 올 연초부터 시작된 글로벌 금융시장의 동요가 Fed의 금융긴축 정책때문이라고 지적하자 중앙은행이 부담을 느꼈다는 분석도 나온다. 미 경제 전문지 월스트리트저널(WSJ)은 지난 26일 미국 경제의 침체 조짐과 중국발 혼선, 신흥시장의 자본유출, 저유가 등이 Fed의 긴축에서 비롯됐다고 지적했다.조아라 한경닷컴 기자 open@hankyung.com', 'url': 'https://www.hankyung.com/article/201601282537g'}\n",
            "2024-08-09 08:04:46 [scrapy.core.engine] DEBUG: Crawled (200) <GET https://search.hankyung.com/search/news?query=%EA%B8%88%EB%A6%AC&mediaid_clust=HKPAPER,HKCOM&period=DATE&area=ALL&sdate=2016.01.01&edate=2016.02.01&page=21> (referer: https://search.hankyung.com/search/news?query=%EA%B8%88%EB%A6%AC&mediaid_clust=HKPAPER,HKCOM&period=DATE&area=ALL&sdate=2016.01.01&edate=2016.02.01&page=11)\n",
            "2024-08-09 08:04:46 [scrapy.core.engine] DEBUG: Crawled (200) <GET https://www.hankyung.com/article/2016012789711> (referer: https://search.hankyung.com/search/news?query=%EA%B8%88%EB%A6%AC&mediaid_clust=HKPAPER,HKCOM&period=DATE&area=ALL&sdate=2016.01.01&edate=2016.02.01&page=11)\n",
            "2024-08-09 08:04:46 [scrapy.core.scraper] DEBUG: Scraped from <200 https://www.hankyung.com/article/2016012712811>\n",
            "{'date': '2016.01.27', 'content': '이미지 크게보기\\n                                \\n                        \\n                        \\n                    \\n                지난해 2월만 해도 제주시 애월읍에서 바다 조망이 가능한 땅 값은 3.3㎡당 350만원 내외였다. 그랬던 게 작년 연말 인근 땅이 3.3㎡당 550만원에 손바뀜했다. 불과 1년도 안 된 기간에 땅값이 50% 이상 뛰었다. 제주와 세종시 등 개발 재료가 있는 지역을 중심으로 땅값이 크게 오르면서 지난해 전국 땅값이 2007년 이후 8년 만에 가장 많이 올랐다. 토지 거래량은 2006년 이후 가장 많았다.\\n                    \\n                        \\n                            \\n                            \\n                        \\n                        \\n                    \\n                국토교통부는 지난해 전국 땅값이 2014년에 비해 2.4% 상승했다고 27일 발표했다. 월간 기준으로 2010년 11월 이후 62개월 연속 상승세다. 연간 기준으로는 2007년 3.89% 오른 뒤 이듬해 금융위기 영향으로 하락(-0.32%)했다가 그 이후 상승세를 지속하고 있다.전국 17개 시·도 땅값이 모두 상승한 가운데 수도권(2.19%)보다 지방(2.77%)의 상승 폭이 컸다. 공공기관이 이전한 혁신도시와 원주·충주 등 기업도시 지역, 그린벨트(개발제한구역) 해제지역 등을 중심으로 개발 기대감이 커졌기 때문이다.수도권 중 서울(2.69%) 땅값은 전국 평균 상승률을 웃돌았으나 경기(1.73%)와 인천(1.95%)은 전국 평균을 밑돌았다. 지방에선 외부 인구가 꾸준히 유입되고 제2공항 건설 계획이 발표된 제주가 7.57% 급등했다. 전국 최고 상승률이다. 3년 연속 1위를 달렸던 세종(4.57%)을 큰 격차로 따돌렸다. 이어 대구(4.06%)가 상승률 3위에 올렸다.시·군·구 중에서는 제주 서귀포시(7.97%)가 제2공항 건설 추진, 혁신도시 개발 등의 영향 등으로 가장 많이 올랐다. 구좌읍 조천읍 등 제2공항 인근 투자 수요가 늘어난 제주시 땅값도 7.32% 뛰었다. 광주·전남혁신도시가 들어선 전남 나주시(5.33%)와 전원주택 개발 및 귀농수요가 늘어난 전남 구례군(5.11%), 과학벨트가 조성되는 대전 유성군(5.0%) 등이 뒤를 이었다. 반면 강화군(0.55%)은 도서지역 농지거래 감소 등 영향으로 가장 낮은 상승률을 기록했다.용도 지역별로는 주택을 지을 수 있는 주거지역(2.74%) 상승률이 높았고 계획관리지역(2.39%), 공업지역(2.11%) 순이었다. 이용상황별로는 주거용지(2.68%), 밭(2.38%), 유원지·골프장 등 기타(2.31%), 상업용지(2.28%) 순으로 높았다.지난해 연간 토지 거래량은 총 308만7000여필지(2181㎢)로 2014년보다 16.8% 늘어났다. 서울 여의도 면적(윤중로 둑 안쪽 2.9㎢)의 752배에 달하는 규모다. 건축물 부속토지를 제외한 순수 토지 거래량도 12.3% 늘어난 112만필지(2014㎢)에 달했다. 지역별 토지 거래량은 세종(증가율 77.5%), 서울(36.0%), 경기(27.5%), 인천(25.1%) 순으로 증가폭이 컸다.어명소 국토부 토지정책과장은 “저금리와 규제 완화 등의 영향으로 토지 거래가 활성화되고 있다”며 “개발 수요가 많아 땅값 상승률이 높은 지역에 대해선 상시 점검시스템을 가동할 것”이라고 말했다.김진수 기자 true@hankyung.com', 'url': 'https://www.hankyung.com/article/2016012712811'}\n",
            "2024-08-09 08:04:46 [scrapy.core.scraper] DEBUG: Scraped from <200 https://www.hankyung.com/article/2016012789711>\n",
            "{'date': '2016.01.28', 'content': '작년 말부터 불기 시작한 부동산시장의 냉기류 때문에 건설사들이 아파트 분양을 늦추고 있다. 다음달에는 10여개 단지, 8000여가구(부동산인포 기준)가 공급될 예정이다. 본격적인 분양은 3월부터 시작될 것이라는 분석이 힘을 얻고 있다.\\n                    \\n                        \\n                            \\n                            \\n                        \\n                        \\n                    \\n                악재 많은 분양시장다음달 분양시장을 바라보는 건설업계의 시각은 긍정적이지만은 않다. 지난해 말 터진 공급 과잉 논란과 중도금 대출 제한, 미국 금리 인상, 중국 경제성장률 둔화, 저유가 등 악재가 많아서다.게다가 수도권에서는 다음달부터 강화된 주택담보대출 기준이 적용된다. 무엇보다 원금과 이자를 처음부터 갚아야 하는 것이 부담이다. 대출 문턱이 높아지고 원리금 상환 조건이 훨씬 엄격해지는 것이다. 이 때문에 업계에서는 기존 아파트 거래가 크게 줄어들 것으로 내다보고 있다. 이달 주택거래도 지난해 같은 기간의 80% 선에 머무르고 있다.부동산 전문가들은 기존 거래시장의 관망세가 신규 분양시장에도 적잖은 영향을 미칠 것으로 예상하고 있다. 기존 아파트가 팔려야 새 아파트에 입주할 수 있는 까닭이다. 다만 전셋값이 새해 들어서도 계속 오르고 있다는 점은 분양시장에 긍정적으로 작용할 것으로 전문가들은 전망한다. 집값의 80%가 넘는 돈을 주고 전세를 사는 것보다 내집 마련을 하는 것이 유리할 수 있어서다.지난해 말 이후 전반적으로 청약 경쟁률과 계약률은 낮아지고 있다. 역으로 생각하면 건설사들이 분양가격을 무리하게 높이지 않고 있어 실수요자에겐 기회가 될 수 있다. 청약률이 낮아 당첨 확률이 높고 가격도 주변 시세에 비해 그다지 높지 않아서다. 분양마케팅업체인 반더펠트의 호한철 사장은 “작년 말부터 수요자의 관망세가 확산되고 있다”면서도 “실수요자는 집 주변의 아파트 청약에 관심을 가져볼 만하다”고 말했다.수도권 공급 많아\\n                    \\n                        \\n                            \\n                            \\n                        \\n                        서울 ‘힐스테이트 녹번’ \\n                    \\n                현대건설은 다음달 서울 은평구 녹번1-1재개발구역(녹번동 53)에서 ‘힐스테이트 녹번’을 분양한다. 13개 동에 952가구(전용면적 49~118㎡)로 구성한다. 이 가운데 260가구를 일반에 공급한다. 서울지하철 3호선 녹번역 역세권으로 광장을 통해 역에 진입할 수 있다. 3·6호선 환승역인 불광역도 가깝다.삼성물산은 구의1구역을 재건축한 ‘래미안 구의 파크스위트’를 선보인다. 래미안 구의 파크스위트는 지하 3층, 지상 10~23층 12개 동에 총 854가구(전용면적 59~145㎡) 규모로 구성됐다. 조합원 분을 제외한 502가구가 일반에 분양된다. 전용 84㎡ 이하 중소형이 전체의 90%에 달한다. 또 일반분양 물량이 전체의 58% 이상을 차지해 일반청약자들의 로열층 당첨 가능성이 높다.\\n                    \\n                        \\n                            \\n                            \\n                        \\n                        경기 광주시 ‘e편한세상 테라스 오포’ \\n                    \\n                대림산업은 경기 광주시 오포읍 신현리 149 일원에 ‘e편한세상 테라스 오포’를 내놓는다. 지하 4층~지상 18층, 13개 동으로 구성한다. 573가구(전용 76~122㎡)를 모두 일반에 공급한다. 문형산 자락에 들어서 쾌적하다. 저층부 43가구는 테라스하우스로 조성한다. 아파트 단지로는 처음 모든 가구에 오픈(개방)형 테라스 공간을 넣었다. 태재고개를 사이에 두고 분당이 자리 잡아 사실상 분당생활권이라고 인근 중개업소들은 평가했다.GS건설은 경기 화성시 능동 624의 2 일원에서 ‘신동탄파크자이 2차’를 분양한다. 전용면적 84㎡ 단일 면적 총 376가구다. 동탄신도시 생활인프라를 그대로 이용할 수 있다. 1차와 함께 총 1358가구의 ‘자이 브랜드타운’을 이룬다.현대산업개발은 경기 평택시 용이동 용죽도시개발지구 A1-1블록에 ‘비전 아이파크 평택’을 공급한다. 전용면적 75~103㎡ 585가구로 구성한다. 방 3칸과 거실을 전면에 배치하는 4베이 판상형으로 설계한다. 수변공원과 배다리 생태공원이 가까워 주거환경이 쾌적하다. 단지 맞은편으로 초·중·고교 부지가 있다. 평택고, 비전고 등 학군이 좋다.정연식 내외주건 부사장은 “다음달 공급되는 물량은 작년 말부터 지역 실수요자의 관심이 높았다”며 “대형 건설사의 브랜드 아파트인 만큼 가격과 입지 여건을 따져 적극적으로 청약해볼 만하다”고 말했다.김진수 기자 true@hankyung.com', 'url': 'https://www.hankyung.com/article/2016012789711'}\n",
            "2024-08-09 08:04:47 [scrapy.core.engine] DEBUG: Crawled (200) <GET https://www.hankyung.com/article/2016011928731> (referer: https://search.hankyung.com/search/news?query=%EA%B8%88%EB%A6%AC&mediaid_clust=HKPAPER,HKCOM&period=DATE&area=ALL&sdate=2016.01.01&edate=2016.02.01&page=21)\n",
            "2024-08-09 08:04:47 [scrapy.core.engine] DEBUG: Crawled (200) <GET https://www.hankyung.com/article/2016011929241> (referer: https://search.hankyung.com/search/news?query=%EA%B8%88%EB%A6%AC&mediaid_clust=HKPAPER,HKCOM&period=DATE&area=ALL&sdate=2016.01.01&edate=2016.02.01&page=21)\n",
            "2024-08-09 08:04:47 [scrapy.core.engine] DEBUG: Crawled (200) <GET https://www.hankyung.com/article/2016011928581> (referer: https://search.hankyung.com/search/news?query=%EA%B8%88%EB%A6%AC&mediaid_clust=HKPAPER,HKCOM&period=DATE&area=ALL&sdate=2016.01.01&edate=2016.02.01&page=21)\n",
            "2024-08-09 08:04:47 [scrapy.core.engine] DEBUG: Crawled (200) <GET https://www.hankyung.com/article/2016012072606> (referer: https://search.hankyung.com/search/news?query=%EA%B8%88%EB%A6%AC&mediaid_clust=HKPAPER,HKCOM&period=DATE&area=ALL&sdate=2016.01.01&edate=2016.02.01&page=21)\n",
            "2024-08-09 08:04:47 [scrapy.core.engine] DEBUG: Crawled (200) <GET https://www.hankyung.com/article/2016011928541> (referer: https://search.hankyung.com/search/news?query=%EA%B8%88%EB%A6%AC&mediaid_clust=HKPAPER,HKCOM&period=DATE&area=ALL&sdate=2016.01.01&edate=2016.02.01&page=21)\n",
            "2024-08-09 08:04:47 [scrapy.core.engine] DEBUG: Crawled (200) <GET https://www.hankyung.com/article/201601194945e> (referer: https://search.hankyung.com/search/news?query=%EA%B8%88%EB%A6%AC&mediaid_clust=HKPAPER,HKCOM&period=DATE&area=ALL&sdate=2016.01.01&edate=2016.02.01&page=21)\n",
            "2024-08-09 08:04:47 [scrapy.core.engine] DEBUG: Crawled (200) <GET https://www.hankyung.com/article/2016011928781> (referer: https://search.hankyung.com/search/news?query=%EA%B8%88%EB%A6%AC&mediaid_clust=HKPAPER,HKCOM&period=DATE&area=ALL&sdate=2016.01.01&edate=2016.02.01&page=21)\n",
            "2024-08-09 08:04:47 [scrapy.core.scraper] DEBUG: Scraped from <200 https://www.hankyung.com/article/2016011928731>\n",
            "{'date': '2016.01.20', 'content': '기준 금리가 1%대로 떨어지면서 절세 상품에 대한 관심이 커졌다. 돈을 불리기 힘든 시대인 만큼 세금이라도 아끼겠다는 심리가 확산되고 있다는 분석이다. 정부가 개인의 노후자금 마련을 목적으로 잇따라 절세 상품을 내놓은 것도 ‘세(稅)테크’에 관심이 높아진 배경 중 하나다. 절세상품을 잘 활용하면 연 최대 200만원 정도의 세금을 줄일 수 있다.가장 눈길이 가는 비과세 상품은 올해 3월 첫선을 보이는 개인종합자산관리계좌(ISA)다. 재형저축 가입 기간이 지난해 말 끝나면서 ISA만한 대안이 없다는 게 전문가들의 분석이다. ISA는 예금뿐 아니라 적금과 펀드, 주가연계증권(ELS) 등 여러 상품을 한 통장에 모아 여기에서 나오는 순이익에 대해 세금 혜택을 받을 수 있다. 비과세 상품을 한 곳에 담을 수 있는 이른바 ‘만능통장’인 셈이다.\\n                    \\n                        \\n                            \\n                            \\n                                    \\n                                        \\n                                    \\n                                    이미지 크게보기\\n                                \\n                        \\n                        \\n                    \\n                ISA는 금융소득종합과세 대상자를 제외한 사업소득자와 근로소득자가 가입할 수 있다. 연간 납입 한도는 2000만원으로 5년 동안 계약을 유지해야 한다. 이 때문에 최대 1억원(2000만원×5년)까지 ISA에 넣을 수 있다. 만기 시점에서 순이익 200만원까지는 비과세 대상이다. 초과분에 대해서는 9%(지방세 포함 시 9.9%) 분리과세를 적용한다.연봉 5000만원 이하 근로자와 종합소득금액 3500만원 이하 사업자에 대해선 비과세 한도가 250만원으로 늘어난다. 이들의 의무 가입 기간은 3년이다. 저소득자들이 장기간 목돈을 묶어두기 어렵다는 점을 고려한 것이다.해외 주식형 펀드에 붙는 세금을 아낄 수 있는 길도 열렸다. 해외 주식에 60% 이상 투자하는 펀드를 해외주식투자전용계좌를 통해 가입하면 세금이 면제된다. 그동안 해외 주식형 펀드는 주식 매매 평가와 환차익에 대해 15.4%의 세금을 내야 했다.8년 만에 부활한 해외 펀드 면세 혜택은 이전보다 후하다. 2007년에는 매매 차익에 대해서만 비과세 혜택을 줬다. 비과세 기간도 3년으로 제한했다. 하지만 올해 해외 펀드에 가입한 투자자는 가입 이후 최대 10년간 매매 차익 및 평가 차익에 대해 비과세 혜택을 받는다. 해당 국가의 환율이 절상(원화 가치 하락)돼 생긴 환차익에 대해서도 세금을 물리지 않을 방침이다. 2017년 12월 말까지 가입한 펀드가 대상이며, 1인당 가입 한도는 3000만원이다.퇴직연금 세액공제액도 늘었다. 작년까지는 연금저축과 퇴직연금을 합쳐 연 400만원까지만 공제해줬지만 이번 연말정산에서는 퇴직연금 세액공제 한도가 300만원 늘어났다. 이에 따라 퇴직연금만 700만원을 납입했을 경우 전액 공제받을 수 있다.ISA(연간 2000만원)와 해외 주식형 펀드(3000만원), 연금저축·퇴직연금(700만원) 한도를 다 채우기 위해서는 올해 1인당 5700만원의 돈이 필요하다. 이 한도만 다 채워도 연간 150만~200만원의 세금을 아낄 수 있다는 게 전문가들의 분석이다.김우섭 기자 duter@hankung.com', 'url': 'https://www.hankyung.com/article/2016011928731'}\n",
            "2024-08-09 08:04:47 [scrapy.core.scraper] DEBUG: Scraped from <200 https://www.hankyung.com/article/2016011929241>\n",
            "{'date': '2016.01.20', 'content': '100년을 사는 사람, 호모 헌드레드(homo hundred) 시대가 현실로 다가왔습니다. 하지만 100세 시대를 위한 준비는 턱없이 부족합니다. 호모 헌드레드 시대를 위해 재무적 준비를 첫손에 꼽는 사람이 많습니다. 길어진 노후를 돈 걱정 없이 살고 싶은 바람 때문입니다. 돈 걱정을 덜었다고 끝이 아닙니다. 은퇴 후 30~40년을 의미있는 삶으로 만들려면 커리어, 여가, 봉사 등에 대한 준비도 필요합니다. 앞으로 베터라이프 섹션을 통해 독자 여러분과 호모 헌드레드 시대를 준비하는 다양한 아이디어를 공유하겠습니다.\\n                    \\n                        \\n                            \\n                            \\n                                    \\n                                        \\n                                    \\n                                    이미지 크게보기\\n                                \\n                        \\n                        \\n                    \\n                새해가 시작되면 뭔가 계획을 세우고 싶은 욕구가 생긴다. 대개 ‘올해는 저축(투자)해서 돈을 모아야지’와 같은 재테크와 관련한 것이 많다. 저금리 상황에서 재테크의 중요성은 두말할 필요가 없다. 하지만 재테크보다 우선해야 할 게 있다. 바로 생애 재무설계다. 생애 재무설계는 나와 우리 가족의 재무목표를 구체적으로 정한 뒤 그 목표를 달성하기 위해 계획을 세우고 실행하는 것이다. 재산을 불리는 데 치중하는 재테크와는 다르다. 생애 재무설계가 전반적인 설계도 그리기라면, 재테크는 세부 실행방법에 해당한다. 새해 생애 재무설계를 통해 나와 우리 가족을 위한 재무 밑그림을 그려보자.생애 재무설계는 ‘재무목표 정리하기’로 시작한다. 재무목표는 ‘나와 가족의 인생에서 목돈이 필요한 이유’다. 예를 들어 초등학생 자녀가 있는 30대 가장이라면 자녀 대학교육비, 자녀 결혼자금, 부부 노후 생활자금 등을 재무목표로 삼을 수 있다. 몇 년 후 아파트를 사서 내 집 마련의 꿈을 이루고 싶다면 그것도 재무목표가 될 수 있다.\\n                    \\n                        \\n                            \\n                            \\n                        \\n                        \\n                    \\n                재무목표를 정하는 일은 다른 사람이 대신해줄 수 없다. 본인과 가족이 원하는 라이프스타일이 무엇인지, 언제 어느 정도의 자금이 필요할지를 다른 사람이 정하게 할 수 없기 때문이다. 그렇다고 가장이 혼자서 재무목표를 세워서도 안 된다. 온 가족이 함께 미래의 삶에 대해 얘기를 나누면서 정리하는 게 좋다. 자녀가 대학에 들어갈 때, 결혼할 때, 다른 가족은 몇 살이 될지, 부부가 다니던 직장에서 퇴직하거나, 경제활동에서 은퇴하는 때가 언제일지 얘기하다 보면 화목한 분위기도 느낄 수 있다.재무목표를 정리한 뒤에는 자산과 부채 상태를 점검해야 한다. 금융자산과 부동산 자산을 종류별로 꼼꼼하게 정리할수록 좋다. 금융자산은 어느 은행에 예금과 적금이 얼마나 있는지, 어떤 펀드, 무슨 주식을 얼마나 갖고 있는지 등을 정리해야 한다. 보험은 생명보험협회나 손해보험협회 홈페이지를 통해 본인과 배우자가 가입한 보험을 조회할 수 있다. 연금자산은 국민연금공단 홈페이지(www.nps.or.kr)에서 국민연금 예상 연금액을, 금융감독원 통합연금포털(100lifeplan.fss.or.kr)에서 퇴직연금과 개인연금 가입 내역을 조회해서 정리하면 된다.자산부채 정리를 마쳤다면 재무목표와 비교해 보면서 목표 달성이 가능할지, 어렵다면 어떻게 보완할지 궁리해야 한다. 이때 은행 및 보험사가 제공하는 무료 재무진단 서비스를 이용해도 좋다. 아예 재무상담료를 내고 재무설계 전문회사의 유료 서비스를 받을 수도 있다. 자연스럽게 월별 저축과 투자액, 지출액 등을 어떻게 조정해야 할지에 대한 감이 생길 것이다. 여기까지가 생애 재무설계의 1차 작업이다. 2차 작업은 1년마다 자산부채 상태 및 금융상품 수익률을 점검해 필요한 조치를 취하는 것이다. 재무목표에 생긴 변화를 실행방법에 반영하는 것도 2차 작업이다.이런 생애 재무설계가 귀찮고 번거롭다고 느끼는 사람이 적지 않다. 그래서 ‘다음에 시간되면 하자’고 사실상 포기하는 경우도 많다. 아무리 좋은 것도 머리로만 생각하면 내것이 되지 않는다. 행동으로 옮겨야 한다. 더 많은 독자가 새해 생애 재무설계를 실행하기 바라는 마음으로 실천 의지를 다질 수 있는 팁을 제안한다. 계획된 행동이론(theory of planned behavior)이라는 게 있다. 인간의 행동은 행동하고자 하는 동기(행위의도)에 의해 좌우되고, 이런 행위의도는 ①행동에 대한 태도 ②주관적 규범 ③지각된 통제감 등에 영향을 받는다는 이론이다.계획된 행동이론으로 생애 재무설계라는 행동을 생각해보자. 위의 ①, ②, ③을 다음과 같은 질문으로 바꿔볼 수 있다. ①생애 재무설계가 나에게 도움이 되는 행동인가 ②내 주변 사람들(특히 나의 신념, 태도, 가치를 결정하는 데 중요한 영향을 미치는 사람들)은 내가 생애 재무설계를 하는 것을 지지하는가 ③나는 생애 재무설계를 할 수 있는 여건(시간적 여유 등)을 갖추고 있는가.①과 ②는 쉽게 ‘그렇다’로 연결될 수 있다. 하지만 ③은 ‘좋은 건 알겠는데, 시간이 없어’라고 생각하기 쉽다. 시간 핑계로 더 이상 미루지 말고 ③도 ‘그렇다’라고 답해서 생애 재무설계를 시작하자.장경영 < 한경 생애설계센터장 longrun@hankyung.com >', 'url': 'https://www.hankyung.com/article/2016011929241'}\n",
            "2024-08-09 08:04:47 [scrapy.core.scraper] DEBUG: Scraped from <200 https://www.hankyung.com/article/2016011928581>\n",
            "{'date': '2016.01.20', 'content': '트러스톤자산운용의 ‘트러스톤 다이나믹코리아30’은 안정적으로 자산을 굴리는 투자자에게 알맞은 상품이다. 국내 우량 채권에 70%를 투자하고 나머지 30%만 주식에 넣는다. 주식 부문에서는 전망이 좋은 종목을 사고, 그렇지 못한 종목은 공매도하는 롱쇼트 전략을 쓴다.이 펀드는 요즘처럼 주식시장이 좋지 못할 때 인기를 끈다. 순주식 편입 비중이 10% 내외에 불과해 어지간한 하락장에도 펀드 기준가가 떨어지지 않는다. 지난 9개월 동안 코스피지수가 8.7% 떨어졌지만 이 펀드 가입자들은 오히려 1.49%의 수익을 냈다. 순주식 편입 비중은 롱(주식 매수) 비중에서 쇼트(주식 공매도) 비중을 뺀 값을 의미한다.이 상품의 기대 수익률은 연 3~4% 수준이다. 2012년과 2013년에는 각각 4.64%와 6.27%의 수익을 냈지만 2014년(연 1.74%)과 2015년(2.41%)엔 2% 안팎까지 수익률이 떨어졌다. 시중금리 인하로 채권 수익률이 떨어진 데다 주식시장도 고전했기 때문이다. 수익률이 높은 편이라고 말하긴 힘들지만 다른 주식형 펀드보다는 성과가 뛰어나다. 국내 주식형 펀드는 최근 3년간 평균 4.22%의 손실을 냈다.트러스톤자산운용은 롱쇼트 조직을 강화, 이 펀드의 수익률을 연 5%대 이상으로 끌어올린다는 목표를 세웠다. 이 회사는 최근 AR(절대수익)본부를 신설했다. 마이다스에셋운용 싱가포르 법인에서 롱쇼트펀드를 운용했던 최영철 이사가 본부장을 맡는다.트러스톤자산운용 싱가포르 법인에서 한국 주식에 투자하는 헤지펀드의 운용을 담당하던 이무광 팀장도 다이나믹코리아 펀드 운용진으로 새로 합류했다. 이 팀장은 2011년부터 트러스톤 싱가포르 법인에서 롱쇼트 전략을 활용하는 사모펀드를 전담, 최근 5년간 연평균 8.70%의 수익률을 올렸다.송형석 기자 click@hankyung.com', 'url': 'https://www.hankyung.com/article/2016011928581'}\n",
            "2024-08-09 08:04:47 [scrapy.core.scraper] DEBUG: Scraped from <200 https://www.hankyung.com/article/2016012072606>\n",
            "{'date': '2016.01.20', 'content': '사진=게티이미지뱅크\\n                    \\n                국내 증시가 이른바 3대 리스크(유가·환율·외국인)의 늪에서 빠져나오지 못하고 있다.증시전문가들은 하지만 \"3대 리스크에 대한 시장의 통제가 가능한 상황\"이라면서 \"유가와 환율이 안정되고 외국인이 다시 매수하면 증시의 방향성은 뚜렷해 질 수 있다\"라고 입을 모았다.이번주 후반엔 현대차 등 주요 수출주(株)의 기업실적이 발표되기 때문에 실적 기대주 위주로 대응전략을 세워야 한다는 설명이다.◆ 매서운 \\'셀 코리아\\'…외국인, 사실상 33일째 팔자 20일 한국거래소에 따르면 외국인은 유가증권시장에서 작년 12월부터 지금까지 두 달 동안 \\'셀 코리아(Sell korea)\\'를 외치고 있다. 이날도 오전 10시30분 현재 개장 이후로 710억원 이상 순매도 중이다.이들은 이달 6일 시간외 대량매매(한국항공우주 블록딜)에 따른 일시적인 매수 우위 기록(1641억원)을 제외하면 사실상 33거래일째 보유주식을 팔아치우고 있다. 역대 외국인의 연속 순매도 최장 기록 역시 33거래일(2008년 6~7월)이다.금융감독원에 따르면 지난달 외국인 순매도 규모는 사우디, 중국, 호주, 유럽계 순으로 컸다. 특히 2015년 11~12월 두 달 연속 사우디, 중국, 호주계 자금의 이탈 규모가 압도적이었다.현대증권 시장전략팀은 이날 분석보고서를 통해 \"이는 국제유가 급락(사우디)과 12월 미국의 금리인상 이후 환율 약세(중국·호주)가 빠르게 진행되면서 자금이탈이 영향을 줬기 때문\"이라고 분석했다.이어 \"국제유가와 중국의 위안화 평가 절하 이슈가 단기에 해소될 이슈가 아니라는 점에서 해당 국가의 한국 증시 이탈은 좀 더 진행될 수 있다\"라고 내다봤다.반면 중동계 자금의 매도세를 너무 두려워할 필요가 없다는 주장도 나왔다.이은택 SK증권 연구원은 \"중동계 자금의 매도세가 매섭지만 사실 주가는 이들을 뺀 외국인의 매매추이와 연동되고 있다\"며 \"외국인 매매에서 중동(3%) 중국(1%)계의 파워는 미미하기 때문\"이라고 설명했다.따라서 시황에 따라 움직이는 나머지 자금(96%)의 향방이 가장 중요하다는 것. 그는 \"이들 국가의 매도세가 분명 부정적인 요인이지만 이보다 매크로 변화에 따른 다른 외국인의 매매가 더 중요하기 때문에 오히려 점진적인 주식 매수가 효과적인 시점\"이라고 조언했다.류용석 현대증권 시장전략팀장도 \"국내 증시에서 가장 투자 비중이 높은 미국계 자금과 싱가폴 자금은 오히려 소폭의 증가세를 나타내고 있다\"며 \"기타 투자 비중이 높은 영국계와 룩셈부르크 등 유럽계 자금의 유출 규모도 제한적인 수준에 그치고 있다\"고 강조했다.◆ \"유가의 급반등을 기대할 수 있는 영역에 진입 중\"글로벌 증시에 악영향을 주고 있는 국제유가 역시 저점을 형성하고 있다는 분석이 지배적이다.전날에도 서부텍사스산 원유(WTI)의 배럴당 가격은 29달러 아래로 떨어져 2003년 9월 이후 최저치를 갈아치웠다. 미국 증시 역시 이 영향으로 에너지 업종이 동반 하락하면서 혼조세를 보였다.오승훈 대신증권 투자전략팀장은 그렇지만 \"작년 8월과 유사한 유가의 저점이 형성되고 있다\"며 \"유가의 급반등을 기대할 수 있는 영역에 진입하고 있다\"라고 판단했다.그는 \"2015년 8월말 유가의 급반등은 금융시장 안정과 미국의 원유 생산 감소가 결정적인 역할을 했다\"며 \"여전히 공급 과잉 우려가 높지만 지난해 8월처럼 미국의 원유 생산 감소를 기대해 볼 수 있다\"라고 말했다.과거 미국의 원유생산량과 석유시추설비 수를 비교해 보면 유가의 반등을 가늠할 수 있다는 설명이다. 오 팀장은 \"시추설비가 줄어들고 6개월 정도 후행한 2015년 8월께 미국의 원유생산이 늘었다\"며 \"이 설비가 2015년 8월부터 감소했다는 점을 감안하면 2016년 2월께 미국 내 원유생산 감소를 기대해 볼 수 있다\"라고 예상했다.  ◆위안화·원화 약세 \\'진정\\'…\"中 경기부양책 기대 확산\"\\'자금 이탈\\' 공포를 불러온 위안화 약세와 원·달러 환율의 가파른 상승도 진정되고 있다는 분석이 상당수다.여기에 중국의 2015년 경제성장률이 7%를 밑돌면서 25년 만에 최저치를 기록했지만 오히려 정책당국의 경기부양에 대한 기대가 커지면서 중국 증시가 뛰어오른 점도 긍정적이란 평가다.마주옥 키움증권 이코노미스트는 \"중국의 경제성장률 하락으로 인해 춘절을 앞둔 정부가 대규모 경기부양책을 발표할 것이란 기대감이 시장 내 가득하다\"면서 \"무엇보다 중국 인민은행은 금융시장에 6000억 위안(약 110조원) 규모의 유동성을 투입할 예정\"이라고 전했다.또 \"오는 25일부터 역외 금융기관에 대해서도 역내 위안화 지급준비율을 적용키로 했는데 이는 위안화 투기를 차단하는 효과를 가져올 것\"으로 내다봤다. 중국 증시와 위안화는 점차 안정을 찾을 것이란 얘기다.허재환 KDB대우증권 연구원도 \"2월초에 예정된 1월 외환보유액이 우려에 비해 덜 줄어든다면 중국에 대한 시장의 우려 자체가 진정될 가능성이 높다\"라고 판단했다.◆ \\'코스피 비중확대\\'와 \\'환율 수혜\\' 실적주로 대응해야전문가들은 따라서 증시 반등을 염두에 둔 투자전략이 유효할 수 있다고 권했다.대신증권에 따르면 연초 급락에 따라 코스피는 밸류에이션(실적 대비 주가수준) 지지라인에 이미 진입했다.이하연 대신증권 이코노미스트는 \"중국발(發) 금융불안과 경기부진이 겹친 지난해 8월24일 저점(1800)의 밸류에이션을 적용하는 것이 맞다\"면서 \"이를 적용한 코스피 지지선은 1894~1887(확정실적 기준 주가순자산비율)\"이라고 말했다.실적 시즌에 발맞춰 원·달러 환율 수혜를 볼 수 있는 수출주 위주의 대응도 유효하다는 설명이다.남기윤 동부증권 퀀트전략 연구원은 \"4분기 국내 기업의 영업실적은 시장의 컨센서스(기대치)를 밑돌 가능성이 크다\"면서도 \"하지만 실적 부진에 대한 주가 민감도가 낮다\"라고 진단했다.이에 따라 환율이 시장 대응에 해법을 제시해 줄 것으로 남 연구원은 내다봤다. 그는 \"외국인 입장에서 환율을 고려한 국내 증시는 매우 싸다\"면서 \"지금 시장 상황을 고려하면 환율 수혜주는 좋은 주식이 될 수 있다\"고 내다봤다.현대차 기아차 고려아연 LG디스플레이 메디톡스 한세실업 LG이노텍 SK케미칼 LG생명과학 유니드 등이 단기 투자 유망주로 꼽혔다.정현영 한경닷컴 기자 jhy@hankyung.com', 'url': 'https://www.hankyung.com/article/2016012072606'}\n",
            "2024-08-09 08:04:47 [scrapy.core.scraper] DEBUG: Scraped from <200 https://www.hankyung.com/article/2016011928541>\n",
            "{'date': '2016.01.20', 'content': '2004년 설정된 ‘삼성 우량주 장기 펀드’는 대형주만 골라 투자하는 국내 주식형 펀드다. 시가총액 100위 이내 우량주만 선별 투자해 안정적인 펀드 성과를 추구한다. 지난 1년간 펀드 수익률은 10.15%(14일, A클래스 기준)에 달한다.최근엔 몸집보다는 기업의 특징을 중심으로 종목을 고르고 있다는 게 삼성자산운용 측 설명이다. 강력한 브랜드를 보유한 소비재 기업, 기존에 없던 비즈니스 모델을 만들어 ‘시장의 룰’을 바꾼 기업, 불황에도 적극적인 투자를 벌여 호황에 진입했을 때 시장 점유율을 늘릴 수 있는 기업 등을 선호한다.이청효 삼성자산운용 펀드 매니저는 “합리적 소비, 전세의 월세 전환, 저유가·저금리 등 시대상의 변화를 놓치지 않고 관련 주식들을 펀드에 반영하고 있다”고 말했다.이 펀드는 ‘선택과 집중’이란 투자 전략을 펴고 있다. 적극적인 종목 선택으로 압축적인 포트폴리오를 구성, 시장에 능동적으로 대응한다. 다른 대형주 펀드들보다 뛰어난 수익률을 올릴 수 있었던 배경이다. 담고 있는 종목이 적정 가치 이상으로 과대 평가되거나, 투자 아이디어가 훼손되기 전까지는 지속적으로 보유하는 장기투자 원칙도 고수한다.포트폴리오를 단출하게 가져가기 위해서는 강력한 리서치 역량이 기반이 돼야 한다. 삼성자산운용의 리서치센터 연구원들은 대부분 경력 10년 이상인 베테랑이다. 업종별, 종목별로 철저한 기업 분석을 통해 펀드 운용을 지원하고 있다는 게 회사 측 설명이다.지난 몇 년간 국내 주식시장을 중소형주가 주도하면서 중소형주펀드들이 수익률 상위권을 휩쓸었다. 시중 자금도 몸집이 작은 주식을 담는 펀드에 집중됐다. 하지만 올해부터는 상황이 달라질 수 있다는 게 전문가들의 진단이다. 대형주들의 실적 대비 주가 수준이 낮아 점진적인 반등을 기대할 만하다는 분석이다.안상미 기자 saramin@hankyung.com', 'url': 'https://www.hankyung.com/article/2016011928541'}\n",
            "2024-08-09 08:04:47 [scrapy.core.scraper] DEBUG: Scraped from <200 https://www.hankyung.com/article/201601194945e>\n",
            "{'date': '2016.01.20', 'content': '올해에도 수급불균형에 따른 전세난이 지속될 것으로 보인다. 이에 탈서울 현상의 가속화가 전망되는 가운데 서울 접근성이 뛰어나며 우수한 교통 환경을 지닌 수도권 지역이 주목 받고 있다.최근 주목도가 높은 지역 가운데 하나로는 서울 강북의 중심거주지인 은평구 옆에 위치한 삼송지구가 꼽힌다. 삼송지구의 교통여건 개선은 송탄역 일대 주택시장으로 수요를 견인하고 있다.역 주변은 교통은 물론 주거환경이 좋고 생활편의시설도 잘 갖춰져 있다. 현대 BS&C가 3호선 삼송역 6번 출구 바로 앞 초역세권에 오피스텔 ‘현대썬앤빌 더 트리니티’ 638실을 이달 22일 상가와 동시 분양을 시작한다.오피스텔은 서울 지하철 3호선 삼송역과 10미터 거리의 초역세권 자리에 들어선다. 최근 개통된 원흥~강매간 도로를 이용하면 자유로와 제2자유로, 수색로, 서울외곽순환도로, 인천공항고속도로 등과 쉽게 연결된다. 고양 백석~신사 간(화정~은평구 신사동) 도로도 개통예정이다.또 GTX 신분당선이 연장(예정) 개통과 고양 덕양구 화정동과 신사동을 연결하는 백신도로가 2016년 개통되면 강남 접근성(강남 20분대 이용) 향상은 물론 인근 교통난이 크게 개선될 전망이다.이러한 입지적 장점으로 임대 시 공실률을 최소화할 수 있는 데다가 저금리 시대에 낮은 투자금액으로 은행예금금리(1.5%)대비 약 7배 이상의 수익률을 낼 수 있다는 게 분양관계자의 말이다.오피스텔 앞에는 농협 하나로 클럽이 있고 쇼핑몰, 이마트, 영화관, 명품관 등을 갖춘 36만㎡ 규모의 신세계 복합쇼핑몰이 삼송지구에 교외형복합쇼핑몰로 2017년 준공예정이다. 이케아 2호점(2017년 예정), 롯데몰 은평점(2016년 개점 예정) 등도 개장을 준비하고 있다.특히 신세계복합쇼핑몰에는 백화점과 영화관을 비롯한 각종 생활문화시설이 함께 조성되므로 수도권 서북부중심권역 생활수요자를 광범위하게 아우를 수 있을 것으로 기대를 모으고 있다.현대썬앤빌 더 트리니티는 29층 높이의 랜드마크 건물로 지어질 예정이라서 전면에 펼쳐진 북한산의 아름다운 조망권도 품고 있다. 창릉천, 서오릉 등이 있어 천혜의 자연 환경을 누릴 수 있다.경기도 고양시 덕양구 삼송지구 상업지구8블록에 위치한 현대썬앤빌 더 트리니티 오피스텔은 지하6층~지상29층 1개동 규모로, 이 중 지상8~지상29층은 오피스텔 638실, 지하1층~지상2층은 역세권 상가가 들어선다.단지는 ▶전용 24.65㎡ A타입 352세대, ▶전용 48.08㎡ B타입 264세대, ▶전용 47.30㎡ C타입 22세대의 중소형 원룸과 투룸으로 구성되었다.한편 현대썬앤빌 더 트리니티 모델하우스는 경기도 고양시 원흥동 634-6번지에 마련될 예정이다.문의 : 1877-8838', 'url': 'https://www.hankyung.com/article/201601194945e'}\n",
            "2024-08-09 08:04:47 [scrapy.core.scraper] DEBUG: Scraped from <200 https://www.hankyung.com/article/2016011928781>\n",
            "{'date': '2016.01.20', 'content': '올해 국내 증시에 대한 비관론이 확산되면서 각광받는 상품이 있다. 떨어질 것 같은 주식을 공매도하는 전략을 병행하는 ‘롱쇼트 펀드’다. 이 상품은 시황이 안 좋을 때도 이익을 기대할 수 있어 증시 전망이 어두울 때 대안상품으로 자주 거론된다.펀드평가업체 에프앤가이드에 따르면 국내 주식형 펀드의 최근 수익률은 -3.4%다. 미국 금리 인상, 중국 경기 둔화 등의 재료가 코스피지수를 끌어내린 탓에 펀드 수익률도 ‘마이너스’에 머물러 있다.하지만 롱쇼트 펀드는 소폭이나마 수익을 냈다. 삼성자산운용의 ‘삼성알파클럽코리아’(3개월 수익률 3.10%), IBK자산운용의 ‘IBK가치형롱숏40’(2.91%), 미래에셋자산운용의 ‘미래에셋스마트롱숏70’(1.61%) 등이 대표적인 사례다. 펀드명 뒤에 숫자가 붙은 상품은 주식과 채권을 섞어 담는 상품이다. 숫자가 높을수록 주식 비중이 높은 상품이다. 예컨대 미래에셋스마트롱숏70은 자산의 70% 안팎을 주식으로 들고 있다.글로벌 증시가 전반적으로 하락한 뒤 기술적 반등이 예상될 때는 매수(롱), 지수가 더 이상 오르지 않을 것 같은 하락장엔 매도(쇼트) 비중을 늘리는 게 롱쇼트 펀드의 기본 전략이다. 시장이 좋을 때와 그렇지 않을 때 수익률 격차가 벌어지는 일반 주식형 펀드와 달리 꾸준한 수익률이 유지된다. 목표 수익률은 연 5% 안팎으로 중위험·중수익을 노리는 투자자에게 알맞다. 롱쇼트 외에 다른 전략을 병행하는 펀드들도 있다.롱숏트 펀드라고 항상 이익을 내는 것은 아니다. 사들인 종목은 내리고, 공매도로 대응한 종목은 오르는 최악의 상황이 오면 주식형 펀드보다 손실이 커질 수 있다. 과거 실적, 펀드매니저의 경력 등을 꼼꼼히 보고 펀드를 골라야 하는 이유다. 증시가 일제히 급등하는 시기에도 롱쇼트 펀드가 일반적인 주식형 펀드보다 불리하다.송형석 기자 click@hankyung.com', 'url': 'https://www.hankyung.com/article/2016011928781'}\n",
            "2024-08-09 08:04:47 [scrapy.core.engine] DEBUG: Crawled (200) <GET https://www.hankyung.com/article/2016012082116> (referer: https://search.hankyung.com/search/news?query=%EA%B8%88%EB%A6%AC&mediaid_clust=HKPAPER,HKCOM&period=DATE&area=ALL&sdate=2016.01.01&edate=2016.02.01&page=21)\n",
            "2024-08-09 08:04:47 [scrapy.core.engine] DEBUG: Crawled (200) <GET https://www.hankyung.com/article/201601208326g> (referer: https://search.hankyung.com/search/news?query=%EA%B8%88%EB%A6%AC&mediaid_clust=HKPAPER,HKCOM&period=DATE&area=ALL&sdate=2016.01.01&edate=2016.02.01&page=21)\n",
            "2024-08-09 08:04:47 [scrapy.core.scraper] DEBUG: Scraped from <200 https://www.hankyung.com/article/2016012082116>\n",
            "{'date': '2016.01.20', 'content': '\"지금은 투자심리가 꽁꽁 얼어붙었습니다. 앞으로 정부 기조나 입장을 주목하며 시장 안정을 기다리는 수밖에 없습니다.\"김형렬 교보증권 투자전략팀장은 20일 코스피 지수가 장중 3% 이상 급락한 상황에 대해 이같이 진단한 뒤 \"프로그램 매도 물량까지 쏟아지면서 지수의 하락 폭이 깊어지고 있다\"고 분석했다.또 삼성전자와 SK하이닉스 등 대형주(株)가 그간 반등 폭을 모두 반납, 증시의 급락을 부추기고 있다는 게 김 팀장의 설명이다.그는 \"해외시장 영업이 안정되지 못한 채 수급 조건까지 나빠져 매도가 또 다른 매도를 부르고 있는 상황\"이라고 우려했다.기관까지 동반 매도에 가세한 만큼 당분간 시장을 관망하는 자세가 필요하다고 김 팀장은 조언했다.그는 특히 \"투자 심리가 스스로 좋아지기 어렵기 때문에 각국의 정부 정책과 입장 등을 주목할 필요가 있다\"라고 강조했다.이어 \"작년 8월과 9월 금리인상과 중국 증시 불안으로 코스피가 급락했을 때도 유럽중앙은행(ECB) 등의 확장 통화정책이 유지되면서 안정된 바 있다\"면서 \"시장을 안정시킬 수 있는 요인은 정부 정책 뿐이다\"라고 말했다.앞으로 ECB 통화정책회의와 미국 연방공개시장위원회(FOMC) 회의가 잇따라 열리는 만큼 당분간 정책 이슈를 지켜볼 필요가 있다는 분석이다.박상재 한경닷컴 기자 sangjae@hankyung.com', 'url': 'https://www.hankyung.com/article/2016012082116'}\n",
            "2024-08-09 08:04:47 [scrapy.core.scraper] DEBUG: Scraped from <200 https://www.hankyung.com/article/201601208326g>\n",
            "{'date': '2016.01.20', 'content': '중국 당국이 6000억위안(110조원) 규모의 중기유동성을 공급하는 대신 경기부양책중 하나인 지급준비율 인하책은 보류할 방침을 시사했다.20일 망이(網易)재경에 따르면 중국 인민은행은 전날 은행간 좌담회를 소집해 중기자금 수요에 대비하기 위해 중기유동성지원창구(MLF), 단기유동성지원창구(SLF) 등을 통해 총 6000억위안의 중기 유동성을 공급할 계획이라고 밝혔다.인민은행은 이미 전날 4100억위안의 MLF 자금을 공급했다며 춘제(春節·설) 연휴를 앞두고 자금 수요를 충족시키기 위해 역(逆) 환매조건부채권(역레포)으로 계속 유동성 공급에 나서겠다고 덧붙였다.인민은행은 아울러 3개월 만기 MLF 대출금리는 종전 3.0%에서 2.75%로 내렸다.이와 관련, 마쥔(馬駿) 인민은행 수석이코노미스트는 20일 오전 중국중앙(CC)TV를 통해 방송된 인터뷰에서 지급준비율 인하가 불필요하다는 뜻을 밝히며 \"6000억위안 규모의 중기 유동성을 지원하기로 했다는 점에 주목할 필요가 있다\"고 말했다.그는 이 같은 규모의 유동성 공급에 대해 \"지준율 인하를 대체하는 의미가 있다\"고 설명했다.실제 6000억위안 규모의 자금공급은 지준율 0.5% 인하 효과를 발휘하는 것으로 파악된다.그는 이번 유동성 공급으로 금리와 시장이 안정될 것으로 기대한다면서 \"이번 중기 대출금리 금리를 낮춘 것도 주목할 필요가 있고 자금조달 비용을 낮추려는 중앙은행의 노력을 반영할 것\"이라고 덧붙였다.지난해 경제성장률이 6.9%로 부진한 결과로 나타나자 중국 당국은 현재의 시장상황을 바닥권으로 인식하고 경기부양을 본격화한 것으로 풀이된다.연초 증시폭락으로 교체설이 나돌던 샤오강(肖鋼) 중국 증권감독관리위원회 주석이 지난 16일 공식 석상에 나타나 연설한 것도 사실상 샤오 주석을 재신임하고 중국 경제운영을 계획대로 끌고가겠다는 의미로 해석된다.한경닷컴 뉴스룸 open@hankyung.com', 'url': 'https://www.hankyung.com/article/201601208326g'}\n",
            "2024-08-09 08:04:47 [scrapy.core.engine] DEBUG: Crawled (200) <GET https://www.hankyung.com/article/2016012081496> (referer: https://search.hankyung.com/search/news?query=%EA%B8%88%EB%A6%AC&mediaid_clust=HKPAPER,HKCOM&period=DATE&area=ALL&sdate=2016.01.01&edate=2016.02.01&page=21)\n",
            "2024-08-09 08:04:47 [scrapy.core.scraper] DEBUG: Scraped from <200 https://www.hankyung.com/article/2016012081496>\n",
            "{'date': '2016.01.20', 'content': '아시아 주요국 증시가 글로벌 경기 둔화 우려와 국제 유가 하락으로 20일 또 다시 출렁이고 있다.이날 오후 1시26분 현재 홍콩 H지수는 4.89% 떨어진 7,968.30을 나타내고 있다.일본 닛케이225지수는 2.98% 하락한 16,540.01을, 상하이종합지수는 1.37% 밀린 2,966.66(오전장 마감 기준)을 기록했다. 대만 가권지수도 1.86% 내린 7,708.90을 기록 중이다.같은 시간 한국 코스피지수는 57.99포인트(3.07%) 하락한 1,831.65를 나타내고 있다. 코스피지수는 4.28포인트 하락한 1,885.36으로 출발한 뒤 낙폭을 키워 5개월 만에 장중 1840선아래로 내려갔다.현재 유가증권시장에서 외국인과 기관이 1372억원, 789억원 어치를 팔고 있고 개인만 나홀로 2020억원 어치를 매수 중이다.김용구 삼성증권 연구원은 \"그간 외국인 매도를 방어해온 기관이 동반 매도에 나서면서 코스피지수를 끌어내리고 있다\"며 \"아시아 증시가 전반적으로 약세인 가운데 한국도 함께 출렁이는 모습\"이라고 설명했다.그는 \"글로벌 경기 둔화에 대한 우려가 지속되고 있고 국제 유가는 28달러대까지 추가 하락했다\"며 \"증시를 둘러싼 악재가 여전한만큼 당분간 증시 변동성이 커지는 것은 불가피하다\"고 진단했다.이날 국제통화기금(IMF)은 올해와 내년 세계 경제 성장률 전망치를 기존보다 0.2%포인트 낮은 3.4%, 3.6%로 수정 발표했다.중국 성장세가 둔화하고 저유가를 비롯한 국제 원자재 가격이 떨어지면서 신흥국 경기가 더욱 나빠질 수 있다는 이유에서다.밤사이 뉴욕상업거래소(NYMEX)에서 2월 인도부 서부텍사스산원유(WTI)는 전 거래일보다 96센트(3.3%) 하락한 배럴당 28.46달러에 마감했다. 이는 2003년 9월 이후 최저 수준이다.김 연구원은 \"한국을 비롯한 아시아 주요국 증시에 \\'공포\\' 심리가 번져있다\"며 \"중국 경기 둔화와 더불어 미국 역시 달러화 강세가 실물 지표를 짖누르는 모습\"이라고 말했다.그는 \"다음 주 26일 열리는 미국 연방공개시장위원회(FOMC) 회의에서 올해 추가 금리 인상에 대한 속도나 폭에 대한 언급이 있기 전까지는 증시 불안이 지속될 것\"이라고 내다봤다.시장에서는 미국 중앙은행(Fed)이 글로벌 경기 둔화와 국제 유가 하락 등을 감안해 올해 금리 인상 횟수를 3차례가 아닌 2차례로 줄일 주 있다는 전망도 나오고 있다.권민경 한경닷컴 기자 kyoung@hankyung.com', 'url': 'https://www.hankyung.com/article/2016012081496'}\n",
            "2024-08-09 08:04:48 [scrapy.core.engine] DEBUG: Crawled (200) <GET https://www.hankyung.com/article/201601282553g> (referer: https://search.hankyung.com/search/news?query=%EA%B8%88%EB%A6%AC&mediaid_clust=HKPAPER,HKCOM&period=DATE&area=ALL&sdate=2016.01.01&edate=2016.02.01&page=11)\n",
            "2024-08-09 08:04:48 [scrapy.core.scraper] DEBUG: Scraped from <200 https://www.hankyung.com/article/201601282553g>\n",
            "{'date': '2016.01.28', 'content': '국제 유가는 27일 상승했다.미 뉴욕상업거래소(NYMEX)에서 서부텍사스원유(WTI) 3월 인도분은 전날보다 85센트(2.7%) 오른 배럴당 32.30달러로 마감했다. 런던 ICE 선물시장의 3월 인도분 브렌트유도 전 거래일보다 1.33달러(4.2%) 상승한 배럴당 33.13달러 선에 거래됐다.이날 유가는 미국의 원유재고량 발표와 산유국의 감산 합의 가능성 등으로 강세를 나타냈다. 미국 에너지정보청(EIA)은 지난 22일 기준 미국의 원유 재고량이 4억9049만 배럴이라고 발표했다. 일주일 사이에 840만 배럴 늘어난 수준이다. 전문가 예상치인 350만 배럴보다 많았지만, 전날 미국석유협회가 발표한 증가량인 1140만 배럴에 못 미쳤다.  미국의 1일 원유 생산량이 소폭이지만 줄어든 것도 투자심리 회복에 도움이 됐다. 산유국들이 감산에 합의할 가능성이 제기되는 것도 긍정적인 요인으로 작용했다.금값은 소폭 하락했다. 뉴욕상품거래소에서 2월 물 금 가격은 전 거래일보다 4.40달러(0.4%) 낮은 온스당 1,115.80달러로 마감했다.투자자들은 미국 중앙은행(Fed)의 통화·금리정책회의 결과 발표를 앞두고 관망세를 보였다. 조아라 한경닷컴 기자 open@hankyung.com', 'url': 'https://www.hankyung.com/article/201601282553g'}\n",
            "2024-08-09 08:04:49 [scrapy.core.engine] DEBUG: Crawled (200) <GET https://search.hankyung.com/search/news?query=%EA%B8%88%EB%A6%AC&mediaid_clust=HKPAPER,HKCOM&period=DATE&area=ALL&sdate=2016.01.01&edate=2016.02.01&page=31> (referer: https://search.hankyung.com/search/news?query=%EA%B8%88%EB%A6%AC&mediaid_clust=HKPAPER,HKCOM&period=DATE&area=ALL&sdate=2016.01.01&edate=2016.02.01&page=21)\n",
            "2024-08-09 08:04:49 [scrapy.core.engine] DEBUG: Crawled (200) <GET https://www.hankyung.com/article/2016011484516> (referer: https://search.hankyung.com/search/news?query=%EA%B8%88%EB%A6%AC&mediaid_clust=HKPAPER,HKCOM&period=DATE&area=ALL&sdate=2016.01.01&edate=2016.02.01&page=31)\n",
            "2024-08-09 08:04:49 [scrapy.core.engine] DEBUG: Crawled (200) <GET https://www.hankyung.com/article/2016011348091> (referer: https://search.hankyung.com/search/news?query=%EA%B8%88%EB%A6%AC&mediaid_clust=HKPAPER,HKCOM&period=DATE&area=ALL&sdate=2016.01.01&edate=2016.02.01&page=31)\n",
            "2024-08-09 08:04:49 [scrapy.core.engine] DEBUG: Crawled (200) <GET https://www.hankyung.com/article/2016011482656> (referer: https://search.hankyung.com/search/news?query=%EA%B8%88%EB%A6%AC&mediaid_clust=HKPAPER,HKCOM&period=DATE&area=ALL&sdate=2016.01.01&edate=2016.02.01&page=31)\n",
            "2024-08-09 08:04:49 [scrapy.core.engine] DEBUG: Crawled (200) <GET https://www.hankyung.com/article/2016011347781> (referer: https://search.hankyung.com/search/news?query=%EA%B8%88%EB%A6%AC&mediaid_clust=HKPAPER,HKCOM&period=DATE&area=ALL&sdate=2016.01.01&edate=2016.02.01&page=31)\n",
            "2024-08-09 08:04:49 [scrapy.core.scraper] DEBUG: Scraped from <200 https://www.hankyung.com/article/2016011484516>\n",
            "{'date': '2016.01.14', 'content': 'KR선물은 14일 코스피가 미국 경기 우려감과 1월 옵션만기일의 영향으로 하락할 것이라고 전망했다.간밤 뉴욕증권거래소(NYSE)에서 다우존스산업평균지수는 전날보다 2.21% 급락한 16,151.41로 거래를 마쳤다. 스탠더드앤드푸어스(S&P)500지수와 나스닥종합지수도 각각 전날보다 2.50%와 3.41% 하락했다.임채수 연구원은 \"미국 증시는 미국의 경기둔화와 실적 우려감으로 하락했다\"며 \"에릭 로젠그렌 보스턴 연방준비은행(연은) 총재와 찰스 에반스 시카고 연은 총재는 미국 경제 성장률에 대해서 다소 우려스러운 모습을 보였다\"고 분석했다.로젠그렌 총재는 취약한 해외 여건이 올해 기준금리 인상 전망에 위험 요인이 된다고 진단했다. 로젠그렌 총재는 보스턴상공회의소 연설에서 연준의 올해 4번 금리 인상 전망은 \"합리적인 추정\"이라면서도 \"하방 위험이 있다\"고 말했다.또, 이날 공개된 베이지북은 미국 제조업과 에너지 가격 하락이 우려된다는 내용이 포함돼 있었다.임 연구원은 \"미국경기에 대한 우려감은 국내 증시장에 부담이 될 수 있는 요소\"라고 진단했다.1월 옵션만기일인 이날 매도 물량으로 인해 지수가 하락할 것이란 관측이다. 그는 \"지난해 12월 배당을 노리고 유입된 물량이 상당 부분 매물을 쏟아 낼 것으로 예상된다\"며 \"1월 옵션 만기일은 통상적으로 매도 우위를 보이는 경우가 많아 지수가 하락할 것\"이라고 내다봤다.이날 열리는 금융통화위원회에서는 기준금리가 동결될 것이란 예상이다. 다만 수정경제전망이 낮아지면서 지수에 부담이 될 수 있다는 판단이다. 그는 \"수정경제전망이 기존 3.2%에서 3.0%~3.1%로 하향 조정될 것\"이라며 \"이로 인해 코스피는 1890~1905의 움직임을 보일 것\"이라고 말했다. 김근희 한경닷컴 기자 tkfcka7@hankyung.com', 'url': 'https://www.hankyung.com/article/2016011484516'}\n",
            "2024-08-09 08:04:49 [scrapy.core.scraper] DEBUG: Scraped from <200 https://www.hankyung.com/article/2016011348091>\n",
            "{'date': '2016.01.14', 'content': '오피스텔이나 상가, 중소형 빌딩 등 고정적인 임대료를 겨냥한 수익형 부동산 상품에 대한 투자자들의 관심은 올해에도 이어질 것이라는 게 전문가들의 공통된 의견이다. 올해 금융권의 대출 강화 및 금리 인상이 예상돼 최근 2~3개월 사이 주택경기가 움츠러들면서 수익형 부동산도 다소 위축된 게 사실이다. 그러나 안정적인 노후 수익을 준비하려는 중·장년층이 대체 투자처를 찾기 힘든 상황이어서 돈이 될 만한 수익형 상품을 골라내는 ‘옥석 가리기’가 진행되고 있다.○오피스텔, 분양가격·공급량이 관건\\n                    \\n                        \\n                            \\n                            \\n                        \\n                        힐스테이트 광교 오피스텔 \\n                    \\n                부동산114에 따르면 전국에서 분양된 오피스텔은 2014년 4만2000여실, 지난해 5만7000실이다. 입주 물량도 2014년 4만3000실, 지난해 3만8000실에 달했다. 올해도 3만4000여실이 입주자를 찾을 예정인데 이 중 64%가량이 수도권에 몰려 있다. 임대수익률은 2007년 이후 지속적으로 낮아져 작년 10월 말 기준 세전 5.7%를 나타냈다.수익률이 지속적으로 떨어지고 있음에도 1억~2억원대로 투자할 수 있는 오피스텔은 가장 인기가 높은 수익형 상품이다. 수익률도 1~2%대 은행 예금금리보다 여전히 높은 수준이다. 작년 9월부터 아파트와 마찬가지로 실거래가격이 공개돼 비교적 매입가격이 적정한지 판단하기 쉽고, 세입자를 찾기도 수월한 편이다.\\n                    \\n                        \\n                            \\n                            \\n                        \\n                        퀸즈파크 배곧 오피스텔 \\n                    \\n                분양마케팅 업체 서반플래닝의 계동욱 대표는 “서울에선 마곡과 문정·위례, 강남보금자리와 금천 등에서 분양이 많았고 수도권에선 수원 광교, 평택, 시흥 등에서 인기가 높았다”며 “올해도 역세권을 중심으로 대학가와 업무 밀집지역, 광역 교통망이 연장되거나 기업체가 이주하는 지역 등 1인 가구 수요가 탄탄한 곳들을 주목하라”고 조언했다.윤태호 반더펠트 본부장은 “오피스텔은 서울 번화가의 경우 분양가의 50%를 대출로 활용할 때 연간 임대수익률이 투자금 대비 4% 이상, 수도권 신도시나 외곽은 5~6%, 지방은 7% 이상 나와줘야 한다”며 “서울에선 분양가격이 1억8000만~2억원을 넘기면 적정 수익이 나는지 꼼꼼히 따져봐야 한다”고 말했다.○분양상가 옥석 가려야실투자금이 5억원 이상 필요한 상가는 주로 목돈을 보유한 50대 이상 투자자들이 관심을 보인다. 지난 1~2년 새 수도권에서는 서울 문정·마곡지구, 하남 미사, 화성 동탄2, 위례신도시 등 대규모 주거단지를 분양한 신도시와 지방 택지개발지구에서 새 상가가 많이 나왔다. 올해도 상황은 비슷하다.신도시 상가는 대량으로 시장에 나오며 트렌드를 주도하고, 대출도 상대적으로 편리한 게 장점이다. 그러나 신도시가 활기를 띠기까지 초기 아파트 입주율이 낮으면 세입자를 찾기 어려울 수 있다. 분양받으려는 상가 인근에서 운영 중인 비슷한 성격의 상가가 월 임대료를 얼마 받는지 조사할 필요가 있다.선종필 상가뉴스레이다 대표는 “과거에는 자본형 은퇴자들이 규모가 있는 치킨 호프집 등을 창업했다면 지금은 무점포나 숍인숍(가게 안에 또 다른 가게) 등 자본이 많이 들지 않는 실속형 창업을 한다”며 “분양가가 지나치게 높은 점포는 수익률이 낮아지므로 규모가 작은 점포, 전용률이 높은 상가가 유리하다”고 조언했다.아파트 단지 내 상가는 세탁소나 편의점, 공인중개소, 문구점, 미용실 등에 임대하기 좋아 불경기에도 비교적 안전한 투자처로 각광받고 있다. 박상언 유엔알컨설팅 대표는 “1000가구 이상 중소형 아파트가 밀집한 곳, 상가 총면적을 배후가구 수로 나눈 수치가 0.99㎡ 이하인 곳이 투자성이 좋다”고 말했다. 전문가들은 주변에 대규모 미개발 부지가 있으면 개발계획을 확인해 보라고 강조했다. 단지 내 상가는 인근에 대형 백화점이나 마트가 새로 생기면 타격을 받을 수 있어서다.신규 상가가 아닌 기존 근린상가는 이미 상권이 형성된 곳이라 위험도가 낮다. 반면 시설이 낡았거나 임대료가 들어오지 않는 등 투자 여건이 떨어질 수 있어 직접 발품을 팔아야 한다. 계동욱 대표는 “청주 등 지방 중소도시는 수익형 부동산 시장이 제대로 열린 지 2~3년밖에 되지 않고 분양가 대비 수익률이 7~8% 이상 나온다”며 “입지와 분양가의 적정성이 중요하다”고 말했다.○중소형 빌딩 인기 지속될 듯개인 자산가들은 보유한 자본금에 대출(매매가격의 40~60%)을 더해 투자 가능한 10억~50억원짜리 중소형 빌딩이나 상가주택을 선호한다. 중소형 빌딩 전문중개 업체인 원빌딩에 따르면 지난해 서울에서 거래된 빌딩 중 50억원 미만이 전체 거래의 80%에 달했다.신동성 원빌딩 팀장은 “지난해 50억원 미만 빌딩의 인기가 오르면서 가격이 5억~10억원 올랐다”며 “여전히 저금리 기조라 친구나 가족끼리 자금을 모아 중소형 빌딩을 사는 투자자도 적지 않다”고 설명했다. 함영진 부동산114 리서치센터장은 “괜찮은 입지에 수익률이 좋은 A급 중소형 빌딩은 시장에서 찾기 힘들다”며 “올해 대출금리가 오르면 임대수익률도 떨어질 수 있다”고 말했다.1~2층엔 상가나 사무실을 두고 3~4층은 원룸 등 임대주택으로 구성하는 상가주택도 인기다. 박합수 KB국민은행 명동스타PB센터 부센터장은 “전체 면적 중 주택으로 사용하는 면적이 더 크면 임대수익률이 10~11%에 달하기도 하고 주택으로 간주돼 양도세를 아낄 수 있다”며 “다만 방이 10개가 넘어가면 자연 공실이 발생하고 7~10년 이상 지난 건물은 보일러 고장이나 누수 등 임대인이 부담할 유지·보수 비용이 적지 않다”고 말했다.문혜정/윤아영 기자 selenmoon@hankyung.com', 'url': 'https://www.hankyung.com/article/2016011348091'}\n",
            "2024-08-09 08:04:49 [scrapy.core.scraper] DEBUG: Scraped from <200 https://www.hankyung.com/article/2016011482656>\n",
            "{'date': '2016.01.14', 'content': '미국 증시가 큰 폭으로 떨어졌다. 미국 경제 성장이 기대에 못 미친다는 우려로 투자심리가 위축됐다. 국제 유가 약세 전망도 주가를 끌어내렸다. 13일(미국시간) 뉴욕증권거래소(NYSE)에서 다우존스산업평균지수는 전날보다 364.81포인트(2.21%) 급락한 16,151.41로 거래를 마쳤다. 스탠더드앤드푸어스(S&P)500지수는 전날보다 48.40포인트(2.50%) 떨어진 1,890.28, 나스닥종합지수는 159.85포인트(3.41%) 내린 4,526.06으로 마감했다.S&P지수가 심리적 지지선인 1900선을 밑돈 것은 지난해 10월2일 이후 처음이다.이날 상승 출발한 지수는 장중 하락 전환해 꾸준히 하락폭을 확대했다.미국 경제 성장에 대한 우려감에 투자심리가 위축된 것으로 보인다. 미국 중앙은행(Fed) 위원들은 이날 비둘기파적인 발언들을 내놓으며 미국 경제 성장에 대한 확신을 심어주지 못했다. 또 연준의 경기평가보고에서도 제조업 활동 등이 위축된 것으로 나타났다.이날 발표된 베이지북에 따르면 미국 경제는 연준의 12개 관할지역 중 10개 지역에서 성장 흐름을 나타냈다. 다만, 전반적인 임금 상승 압력은 \"상대적으로 제한\"됐고, 물가 상승 압력도 미미했다.제조업활동은 거의 절반의 지역에서 감소하는 모습을 보였다. 원자재 가격 하락과 해외 여건 약화, 환율 움직임이 제조업에 부정적인 영향을 미쳤다.이번 보고서는 지난해 11월 말부터 올해 1월4일까지의 경기 활동을 나타내는 것으로 이달 예정된 연방공개시장위원회(FOMC) 정례회의의 참고자료로 활용된다.이날 연준 위원들은 기준금리 인상과 관련해 비둘기파적인 입장을 표명했다.에릭 로젠그렌 미국 보스턴 연방준비은행 총재는 취약한 해외 여건이 올해 기준금리 인상 전망에 위험 요인이 된다고 진단했다.로젠그렌 총재는 보스턴상공회의소 연설에서 연준의 올해 4번 금리 인상 전망은 \"합리적인 추정\"이라면서도 \"하방 위험이 있다\"고 말했다.찰스 에번스 시카고연방준비은행 총재는 미국 중앙은행이 기준금리를 천천히 올리길 원한다는 입장을 재차 확인했다. 에번스 총재는 아이오와주의 시더래피즈 연설에서 \"합리적인 기간 안에 물가가 목표에 도달하도록 돕기 위해 아주 점진적인 통화정책 정상화를 지지한다\"고 말했다.아마존과 넷플릭스 등 기술주는 큰 폭으로 하락하며 주요 지수를 끌어내렸다.이날 특히 페이스북, 아마존, 넷플릭스, 구글의 알파벳 앞글자를 모은 \\'팡(FANG)\\' 주식이 큰 폭으로 하락했다.지난해 미국 증시에서 가장 큰 폭의 상승세를 나타냈던 넷플릭스는 8% 이상 떨어졌고, 아마존과 알파벳(구글)이 각각 5%와 3% 이상, 페이드북도 4% 가까이 하락했다. 기술 대장주 애플도 2.5% 떨어졌다.업종별로는 임의소비재업종이 3% 이상 하락하며 가장 큰 하락폭을 기록했다. 이는 지난해 8월 24일 중국 경기 둔화 우려로 4% 급락세를 나타낸 이후 가장 큰 폭의 내림세다.기준금리 인상이 천천히 진행될 것이라는 전망에 금융업종도 2% 넘게 떨어졌고, 헬스케어업종과 산업업종, 소재업종 등도 2%가량 하락하는 등 전 업종이 일제히 내림세를 보였다.국제 유가는 중국발 호재에도 미국 휘발유와 정제유 재고 급증에 따른 매물로 소폭 상승한데 그쳤다.뉴욕상업거래소에서 2월물 서부텍사스산 원유(WTI) 가격은 전날보다 배럴당 4센트(0.1%) 오른 30.48달러에 마쳐 8영업일 만에 처음으로 올랐다.반면 2월물 브렌트유 가격은 전장보다 55센트 내린 30.31달러에 마감돼 종가 기준으로 2004년 이후 최저치를 보였다. 브렌트유는 이날 장중 한때 2004년 이후 처음으로 30달러 아래로 추락하기도 했다.김근희 한경닷컴 기자 tkfcka7@hankyung.com', 'url': 'https://www.hankyung.com/article/2016011482656'}\n",
            "2024-08-09 08:04:49 [scrapy.core.engine] DEBUG: Crawled (200) <GET https://www.hankyung.com/article/2016011347961> (referer: https://search.hankyung.com/search/news?query=%EA%B8%88%EB%A6%AC&mediaid_clust=HKPAPER,HKCOM&period=DATE&area=ALL&sdate=2016.01.01&edate=2016.02.01&page=31)\n",
            "2024-08-09 08:04:49 [scrapy.core.scraper] DEBUG: Scraped from <200 https://www.hankyung.com/article/2016011347781>\n",
            "{'date': '2016.01.14', 'content': '작년에는 서울의 아파트 매매 건수가 전세 거래 건수보다 많은 역전현상이 나타났다. 서울부동산정보광장에 따르면 2014년 13만6950건이던 전세 거래는 2015년 11만8448건으로 13.5% 줄었다. 반면 매매 거래는 9만244건에서 12만6973건으로 40.7% 증가했다. 월세 거래는 4만3635건에서 5만8147건으로 33.3% 늘었다. 전·월세를 처음 집계한 2011년과 비교하면 전세 거래는 10% 줄고 매매 거래는 106%, 월세 거래는 115% 늘어 전세 거래 감소가 눈에 띄었다.매매 거래량이 급증한 이유는 내집마련용 실수요자와 임대투자용 수요가 모두 증가했기 때문으로 분석된다. 센추리21코리아가 국토교통부 실거래가를 분석한 결과 거래량은 고른 증가율을 보였다. 면적별로는 전용면적 40㎡ 이하 초소형 아파트가 전년 대비 47.5%로 가장 많이 늘었다. 이어 60~85㎡가 43.7%, 40~60㎡가 38.5%, 85㎡ 초과 중대형 아파트가 32.7% 늘었다. 전세난으로 주거비 부담이 커지면서 실수요자는 아파트 구입 쪽으로 방향을 선회했다는 분석이다.지난해 거래된 서울 초소형(전용 40㎡ 이하) 아파트의 세전 예상 임대수익률은 연 4.2%로 은행 예금금리의 두 배 이상이었고 중대형 아파트(연 2~3%대)에 비해서도 높았다. 공급 측면에서도 2011년 이후 도시형생활주택이 늘면서 3만1000건이던 거래량은 지난해 6만5000건으로 두 배 이상으로 늘었다. 거래금액은 평균 2억540만원, 월세는 보증금 3421만원에 월세 54만원 수준이다. 2억원 미만에서 투자할 수 있고, 수익률도 높은 편이었다. 반면 60㎡ 초과 주택은 보증금을 감안해도 3억원 이상의 투자금액에 월세가 60만~70만원이었다.전·월세시장에선 전세가 줄고 월세가 늘면서 전·월세 거래 중 전세 비중이 67.1%로 줄었고, 월세는 32.9%로 늘었다. 전세 비중은 2011~2012년 80%대에서 2013~2014년에는 70%대, 지난해에는 60%대로 낮아졌다. 지난해에는 전년보다 8.8% 급감해 월세로의 전환 속도가 점차 빨라지고 있다.면적별로는 소형주택일수록 전세 비중이 낮다. 40㎡ 이하는 절반 이하인 42.5%가 전세로 거래됐다. 반면 85㎡ 초과 주택의 전세 비중은 73.3%로 여전히 높았다. 구별 전세 거래 비중이 낮은 지역은 중구(55.9%), 종로구(56.0%), 관악구(60.9%), 강동구(61.6%) 등이다. 은평구(75.5%), 금천구(74.1%), 강서구(73.9%), 양천구(73.9%) 등은 전세 거래가 많은 지역이었다.월세는 전세금의 절반가량(48.8%)을 보증금으로 내는 것으로 나타났다. 아파트 면적이 크고 전셋값이 높을수록 전세 대비 월세보증금 비중이 높았다. 송파구(58.4%), 동작구(58%), 양천구(57.6%), 강동구(55.9%), 서초구(55.5%), 광진구(55.1%) 등은 전세보증금의 55% 이상을 월세보증금으로 냈다. 반면 노원구, 도봉구는 월세보증금이 전세 보증금의 40% 이하였다. 노원구, 도봉구, 금천구는 평균 월세보증금도 1억원 이하여서 보증금 부담이 다른 지역보다 작았다. 월세 역시 50만원대로 저렴했다.김혜현 센추리21 전략기획실장은 “월세 거래가 대세로 자리잡으면서 올해도 전세난은 계속될 전망”이라며 “상대적으로 저렴했던 재건축 대상 단지가 사라지고 있어 평균 전셋값도 오를 것으로 예상된다”고 말했다.', 'url': 'https://www.hankyung.com/article/2016011347781'}\n",
            "2024-08-09 08:04:49 [scrapy.core.engine] DEBUG: Crawled (200) <GET https://search.hankyung.com/search/news?query=%EA%B8%88%EB%A6%AC&mediaid_clust=HKPAPER,HKCOM&period=DATE&area=ALL&sdate=2016.01.01&edate=2016.02.01&page=41> (referer: https://search.hankyung.com/search/news?query=%EA%B8%88%EB%A6%AC&mediaid_clust=HKPAPER,HKCOM&period=DATE&area=ALL&sdate=2016.01.01&edate=2016.02.01&page=31)\n",
            "2024-08-09 08:04:49 [scrapy.core.scraper] DEBUG: Scraped from <200 https://www.hankyung.com/article/2016011347961>\n",
            "{'date': '2016.01.14', 'content': '부동산 마케팅 전문가들은 올해 청약시장에서 실수요자의 당첨 확률이 높아질 것으로 예상했다. 지난해 말부터 불거진 ‘대출 규제, 금리 인상, 공급 과잉’ 등 이른바 3대 악재로 웃돈(프리미엄)을 노린 투자 거품이 가셔 실수요자들이 내 집을 마련하기가 쉬워질 수 있다. 전문가들은 직장 출퇴근이 편하고 교육과 편의시설이 많은 기존 생활권 주변에서 선보이는 신규 분양 단지에 청약할 것을 조언했다. 아파트 분양 업무에서만 15년 이상 근무한 ‘분양마케팅 업체 빅5’ 사장들에게 상반기 시장 전망과 청약 전략에 대해 들어봤다.\\n                    \\n                        \\n                            \\n                            \\n                                    \\n                                        \\n                                    \\n                                    이미지 크게보기\\n                                \\n                        \\n                        \\n                    \\n                주요 변수는 대출 규제, 금리 인상, 전세난전문가들은 상반기 부동산시장의 주요 변수로 다음달부터 시행될 주택담보대출 규제 강화(지방은 5월부터)와 금리 인상 가능성, 전세난 지속, 공급 과잉에 따른 미분양 등을 꼽았다. 또 상반기 시장 전망에 대해 “대출규제, 금리 인상, 공급 과잉 등으로 인해 부동산 경기가 하강할 것”으로 내다봤다. 거래량이 줄고 매매가격도 약보합세로 돌아설 것이라는 얘기다.장영호 씨엘케이 사장은 “거래량이 줄고 매매가격도 4월 총선 이후 상승폭이 둔화한 뒤 하반기에는 하락세로 전환할 것으로 예상된다”고 전망했다. 최창욱 건물과사람들 사장은 “매매가격이 상반기 소폭 하락할 수 있다”며 “집을 사려는 구매 수요가 줄어들었다”고 말했다.\\n                    \\n                        \\n                            \\n                            \\n                        \\n                        \\n                    \\n                하지만 전세가격은 올해도 상승세를 이어갈 것이라는 게 중론이었다. 손상준 도아아이앤디 사장은 “서울 주요 지역에서 재건축·재개발 이주가 이어져 주변 전세시장에 영향을 미칠 것”이라며 “최근 주택시장 전망이 불투명해지면서 매매보다는 전세를 선호하는 경향이 더 강해질 수 있다”고 진단했다.신종선 유성 사장은 “거래는 지난해 하반기 이후 지속적으로 감소세를 보이고 있다”며 “반면 전세가격은 상반기에도 오름세를 이어가 전세입자들이 임대와 매매 중 어떤 자세를 취하느냐가 분양시장에도 적잖은 영향을 미칠 것”으로 전망했다.지역과 입지에 따라 양극화전문가들은 상반기 분양시장에서 지역과 입지에 따른 차별화 현상이 심해질 것으로 예상했다. 지난해에는 수도권 외곽도 전반적인 분양 호조 속에 청약 경쟁률이 높게 나타났지만 올해는 실수요자가 선호하는 지역과 그렇지 않은 지역 간 청약 성적표가 극명하게 갈릴 것이라는 분석이다. 정 부사장은 “1순위 청약 경쟁률이 10 대 1로 높아도 부산 대구 창원 등 지방의 초기 계약률이 30%로 떨어지기도 한다”며 “수도권 외곽지역도 대거 미분양 사태가 벌어지는 등 분양시장에 냉기류가 확산되고 있다”고 설명했다. 신 사장도 “지역 대표 입지와 그렇지 않은 곳의 계약률 차이가 벌어지고 있다”며 “브랜드 인지도가 높고 단지가 큰 랜드마크에 수요가 몰리고 있다”고 전했다.이들은 수도권에서 위례신도시와 하남 미사지구, 광주 태전, 고양 삼송지구 등을 유망 지역으로 꼽았다. 지하철이나 고속도로 건설 등으로 서울 접근성이 좋은 게 이유다. 최 사장은 “대중교통으로 서울 출퇴근이 가능한 지역에서 상대적으로 저렴하게 공급하는 단지는 올해도 관심을 이어갈 것”이라고 강조했다.실수요자 당첨 확률 높아전문가들은 최근 시장 환경이 실수요자에게 유리하게 작용할 수 있다고 내다봤다. 지난해까지 수십 대 1의 청약 경쟁률과 완판(완전 판매) 행진에는 투자자로 불리는 가수요의 역할이 적지 않았다. 업계에서는 당첨자의 40%는 웃돈을 누린 가수요로 파악하고 있다. 장 사장은 “최근 과잉 공급 우려가 제기되고 인기 지역도 청약 경쟁률이 급락하면서 투자 수요의 이동이 예상된다”며 “대출 규제와 금리 인상 가능성 때문에 과도한 투자와 분양권 가격 급락으로 투자 손실이 발생할 수 있다”고 설명했다.전문가들은 최근 부동산시장의 불확실성이 커지고 있지만 실수요자가 내 집을 마련하는 데 크게 문제가 되지 않는다고 강조했다. 정 부사장은 “실수요자는 기본적으로 거주를 목적으로 하기 때문에 시장 변동이나 외부 변수에 큰 영향을 받지 않는다”며 “상반기에 청약 경쟁률이 상대적으로 낮을 것으로 예상돼 청약통장 사용을 적극 검토해볼 만하다”고 말했다. 손 사장도 “건설사가 분양가를 주변 시세를 웃돌지 않는 선에서 결정할 가능성이 높다”며 “부동산시장이 잠시 쉬어갈 때 실수요자에게 기회가 온다”고 밝혔다.전문가들은 본인에게 적합한 주택인지 꼼꼼히 살펴야 한다고 조언했다. 직장과의 거리, 자녀의 학교 통학, 백화점 대형마트 같은 생활편의시설 접근성 등을 미리 점검해야 한다는 것이다. 8년간 연 임대료 상승폭을 5%로 제한한 기업형 임대주택(뉴스테이)도 관심을 가져볼 만한 상품이라는 게 전문가들의 조언이다. 최 사장은 “향후 입주 물량 등에 대한 우려와 전반적인 경기 침체 등을 고려할 때 중산층을 위한 뉴 스테이도 대안”이라며 “거주할 지역에 뉴 스테이 공급이 예정돼 있다면 상담을 받아보는 것도 좋다”고 설명했다.김진수 기자 true@hankyung.com', 'url': 'https://www.hankyung.com/article/2016011347961'}\n",
            "2024-08-09 08:04:50 [scrapy.core.engine] DEBUG: Crawled (200) <GET https://www.hankyung.com/article/201601148255g> (referer: https://search.hankyung.com/search/news?query=%EA%B8%88%EB%A6%AC&mediaid_clust=HKPAPER,HKCOM&period=DATE&area=ALL&sdate=2016.01.01&edate=2016.02.01&page=31)\n",
            "2024-08-09 08:04:50 [scrapy.core.engine] DEBUG: Crawled (200) <GET https://www.hankyung.com/article/201601148972g> (referer: https://search.hankyung.com/search/news?query=%EA%B8%88%EB%A6%AC&mediaid_clust=HKPAPER,HKCOM&period=DATE&area=ALL&sdate=2016.01.01&edate=2016.02.01&page=31)\n",
            "2024-08-09 08:04:50 [scrapy.core.scraper] DEBUG: Scraped from <200 https://www.hankyung.com/article/201601148255g>\n",
            "{'date': '2016.01.14', 'content': '연합뉴스\\n                    \\n                한국은행은 14일 오전 9시 올해 첫 금융통화위원회를 열어 기준금리 조정 여부를 결정한다.한은의 기준금리는 작년 6월 이후 6개월째 1.5% 수준에서 동결됐는데 이달에도 그대로 유지될 것이라는 관측이 유력하다.기준금리를 추가 인하하기엔 미국의 금리 인상과 급증한 가계부채가 부담스럽고 기준금리를 인상하기에는 부진한 경기회복세가 걸림돌로 작용하고 있기 때문이다.다만 최근 중국 경기 부진에 대한 우려와 중국 증시 폭락으로 국제 금융시장에 충격이 발생한 점은 금리 조정의 변수로 꼽힌다.최근엔 올해 미국 금리 인상 속도가 완만할 것으로 예상되고 중국 경기 부진으로 인한 충격이 클 것으로 전망됨에 따라 금리인하를 의미하는 완화적 통화정책으로 대응해야 한다는 주장이 고개를 드는 양상이다.이날 한은이 올해 경제성장률 전망치를 추가로 하향 조정하면 이런 주장에 더 무게가 실릴 것으로 보인다.한경닷컴 산업경제팀 bky@hankyung.com기사제보 및 보도자료 open@hankyung.com', 'url': 'https://www.hankyung.com/article/201601148255g'}\n",
            "2024-08-09 08:04:50 [scrapy.core.scraper] DEBUG: Scraped from <200 https://www.hankyung.com/article/201601148972g>\n",
            "{'date': '2016.01.14', 'content': \"정부가 주택연금 활성화를 위해 담보대출을 낀 주택 소유자들의 주택연금 가입 문턱을 낮춘다. 주택담보대출을 새로 받으면서 주택연금 가입을 약정하면 금리 인하 혜택을 줄 예정이다.금융위원회는 14일 2016년 대통령 업무보고에서 이 같은 내용을 담은 '내집연금 3종 세트'를 올 2분기 중 내놓겠다고 밝혔다.주택연금이란 소유주택을 담보로 맡기고 평생 또는 일정 기간 매월 국가가 보증하는 연금을 받는 금융상품(역모기지론)이다. 주택금융공사가 가입자에 보증을 서면 은행은 이 보증을 토대로 가입자에게 연금 형식으로 대출을 해주는 구조다.가입자나 배우자 모두 평생 동안 담보로 맡긴 주택에 그대로 살 수 있고, 부부 중 한 사람이 사망하더라도 동일한 금액을 종신으로 받을 수 있는 게 장점이다.이런 장점에도 주택연금에 대한 관심도는 아직 저조한 편이다. 지난해 말 현재 주택연금 이용자는 총 2만5611가구로, 자가주택 보유 고령층의 0.9%에 불과하다.주택연금 개념이 아직은 익숙지 않은 데다 고령세대에는 '부동산 불패 신화'가 아직 뇌리에 남아 있어 주택연금을 꺼리기 때문이다.금융위원회가 제시한 주택연금 활성화 정책의 핵심은 가계대출을 주택연금으로 전환하는 것이다. 이를 위해 주택연금 가입을 가로막던 각종 진입장벽을 낮추고 금리 혜택도 제공키로 했다.'3종 세트'의 첫 번째는 주택담보대출을 받는 60세 이상 주택 소유자가 주택연금으로 갈아타도록 유도하는 방안이다.현재도 60세 이상 주택소유자는 주택담보대출이 있더라도 주택연금을 이용할 수 있다. 그러나 일시인출금이 연금지급총액의 50%로 제한된 점이 한계다. 주택연금으로 갈아타려면 기존 주택담보대출을 모두 중도상환해야 하는데 일시인출 한도가 50%로 제한되다 보니 모자라는 금액은 직접 자금을 마련해 기존 대출을 갚아야만 했다.금융위는 이 문제를 해결하기 위해 주택담보대출을 주택연금으로 갈아타는 경우 일시인출 한도를 70%로 상향 조정해주기로 했다.또 주택연금을 취급하는 은행이 주택신용보증기금에 내는 출연금(연 0.2%)을 면제해 주택연금에 적용되는 대출 가산금리가 인하(연금수령액 증가 효과)되도록 유도하기로 했다. 이밖에 초기보증료율(1.5→1.0%)을 내리는 대신 연보증료율(0.75%→1.0%)을 올려 현금자산 여유가 없는 고령층의 초기보증금 납입 부담을 낮추기로 했다.두 번째 상품은 아직 주택연금 가입 대상이 아닌 40∼50대를 위한 주택연금 예약제다.주택금융공사의 장기 고정금리 대출인 '보금자리론'에 가입하면서 60세 이후 주택연금으로의 전환을 약정하면 대출금리를 0.05∼0.1%포인트 낮춰준다는 것이다.3종 세트의 마지막은 저소득층을 위한 우대형 주택연금 상품이다.소득이 연 2000만원이고 2억원짜리 집을 소유한 60세 박 모씨가 우대형 주택연금에 가입하는 경우 일반 주택연금에 가입할 때보다 매달 9만2000원(약 20%) 많은 54만7000원을 연금으로 받을 수 있게 하겠다는 것.가입조건은 거래기준 주택평균가격(작년 기준 2억5000만원) 이하의 주택을 보유하고, 소득 2분위(연소득 2350만원) 이하인 저소득층으로 하는 방안을 검토 중이다.정부는 이 같은 내집연금 3종 세트로 주택연금 활성화를 이끌어 가계부채 문제 완화와 소비활성화, 국가 재정부담 경감이라는 세 마리의 토끼를 한 번에 잡는다는 계획이다. 한경닷컴 뉴스룸기사제보 및 보도자료 open@hankyung.com\", 'url': 'https://www.hankyung.com/article/201601148972g'}\n",
            "2024-08-09 08:04:50 [scrapy.core.engine] DEBUG: Crawled (200) <GET https://www.hankyung.com/article/2016011489276> (referer: https://search.hankyung.com/search/news?query=%EA%B8%88%EB%A6%AC&mediaid_clust=HKPAPER,HKCOM&period=DATE&area=ALL&sdate=2016.01.01&edate=2016.02.01&page=31)\n",
            "2024-08-09 08:04:50 [scrapy.core.scraper] DEBUG: Scraped from <200 https://www.hankyung.com/article/2016011489276>\n",
            "{'date': '2016.01.14', 'content': '한국은행 금융통화위원회는 14일 통화정책회의를 열고 1월 기준금리를 동결했다. 이로써 국내 기준금리는 7개월째 현행 1.5% 수준이 유지됐다.채선희 한경닷컴 기자 csun00@hankyung.com', 'url': 'https://www.hankyung.com/article/2016011489276'}\n",
            "2024-08-09 08:04:50 [scrapy.core.engine] DEBUG: Crawled (200) <GET https://www.hankyung.com/article/2016010766411> (referer: https://search.hankyung.com/search/news?query=%EA%B8%88%EB%A6%AC&mediaid_clust=HKPAPER,HKCOM&period=DATE&area=ALL&sdate=2016.01.01&edate=2016.02.01&page=41)\n",
            "2024-08-09 08:04:50 [scrapy.core.engine] DEBUG: Crawled (200) <GET https://www.hankyung.com/article/2016010805336> (referer: https://search.hankyung.com/search/news?query=%EA%B8%88%EB%A6%AC&mediaid_clust=HKPAPER,HKCOM&period=DATE&area=ALL&sdate=2016.01.01&edate=2016.02.01&page=41)\n",
            "2024-08-09 08:04:50 [scrapy.core.engine] DEBUG: Crawled (200) <GET https://www.hankyung.com/article/2016010803666> (referer: https://search.hankyung.com/search/news?query=%EA%B8%88%EB%A6%AC&mediaid_clust=HKPAPER,HKCOM&period=DATE&area=ALL&sdate=2016.01.01&edate=2016.02.01&page=41)\n",
            "2024-08-09 08:04:50 [scrapy.core.engine] DEBUG: Crawled (200) <GET https://www.hankyung.com/article/2016010766471> (referer: https://search.hankyung.com/search/news?query=%EA%B8%88%EB%A6%AC&mediaid_clust=HKPAPER,HKCOM&period=DATE&area=ALL&sdate=2016.01.01&edate=2016.02.01&page=41)\n",
            "2024-08-09 08:04:50 [scrapy.core.scraper] DEBUG: Scraped from <200 https://www.hankyung.com/article/2016010766411>\n",
            "{'date': '2016.01.08', 'content': '시중금리가 떨어지면서 자산운용시장의 중요성이 한층 더 커졌다. 1%대까지 떨어진 은행 이자로는 노후 준비가 힘들다고 판단한 투자자들이 금융투자시장으로 관심을 돌리기 시작한 것이다. 연금시장 활성화를 위한 정책이 쏟아지는 것도 자산운용업계에 호재다. 원리금 보장형 상품에 머물러 있던 자금이 펀드로 유입될 가능성이 높다는 게 전문가들의 설명이다.개인 중심에서 기관 주도 성장국내엔 87개의 자산운용사가 있다. 이들이 굴리는 자산은 지난해 9월 말 기준 812조원이다. 이 중 펀드에 유입된 돈이 424조원이다. 나머지는 알아서 돈을 굴려주는 투자일임 계약에 들어가 있다. 지난해 자산운용사들은 쏠쏠한 이익을 냈다. 순이익은 2009년 이후 최대치를 기록했다. 지난해 3분기 순이익은 1549억원으로 전년 동기 대비 162% 증가했다. 하지만 이 같은 성장세가 계속 이어질지는 미지수다. 돈이 되는 개인 고객의 자리를 기관이 대체하고 있어서다.자산운용시장은 2008년 글로벌 금융위기 이후 개인 중심에서 기관 중심으로 재편되고 있다. 개인들이 시장을 주도할 때는 수수료가 비싼 주식형 펀드가 대세였다. 펀드에 1000원이 들어오면 매년 5~6원씩을 자산운용사가 떼갈 수 있는 구조였다.기관의 영향력이 커지면서 상황이 달라졌다. 기관은 수수료가 싼 채권형 펀드를 선호한다. 개인만큼 높은 위험부담을 지기 어렵기 때문이다. 금융위기 이후 코스피지수가 박스권에 갇힌 것도 주식형 펀드 매력을 떨어뜨린 요인으로 작용했다는 분석이다. 지난해 말 미국이 기준금리 인상을 단행하면서 채권에 대한 기대 이익이 크게 줄었다. 하지만 마땅한 대체투자처를 찾지 못한 투자자 대다수는 여전히 채권형 펀드 중심으로 자산을 굴리고 있다.자산운용시장이 기관화하면서 자산운용사들이 가져가는 운용보수는 꾸준히 줄고 있다. 수수료가 싼 채권형 펀드의 비중이 높아서이기도 하지만 기본 수수료율 체계 자체가 다르다. 기관은 한번에 수백억, 수천억원을 맡기기 때문에 개인보다 훨씬 낮은 보수율이 적용된다. 자산운용업계의 평균 보수율은 2007년 0.58%에서 지난해 0.28%로 쪼그라든 상태다. 투자자문사들이 사모펀드 시장에 가세하고 있는 만큼 운용보수 인하 압력은 더 커질 가능성이 높다.연금자산, 주식·채권 비중 증가그나마 정부의 제도적 지원이 자산운용업계에 힘이 되고 있다. 우선 올해부터 비과세 해외투자전용펀드가 도입된다. 이 제도가 정착되면 개인들의 자금이 해외 주식형 펀드로 유입될 가능성이 높다.해외 상장주식 투자 비중이 60% 이상인 펀드에 투자하는 경우 해외 주식 매매·평가 차익과 이에 따른 환차익에 대한 배당소득세(15.4%)가 비과세된다. 2017년 말까지 가입하는 투자자에 한해 1인당 3000만원 한도다.하나금융경영연구소 관계자는 “지난해 해외주식형펀드는 금융위기 이후 처음으로 자금순유입으로 전환했다”며 “세제혜택까지 더해지면서 개인의 해외투자 수요는 더욱 증가할 것”이라고 내다봤다.연금시장이 원금보장형 상품에서 투자 상품 중심으로 재편될 조짐이 보이는 것도 자산운용업계에 호재다. 정부는 올해 상반기 중 개인연금과 퇴직연금에 ‘디폴트 옵션(자동투자) 제도’를 도입하는 방안을 추진하고 있다. 연금 가입자가 운용 방식을 지정하지 않으면 시장성과에 따라 수익률이 달라지는 실적배당형 상품에 자금을 넣어야 한다. 금융회사들은 주식, 채권 등이 포함된 대표상품을 마련, 자동투자 옵션으로 활용해야 한다.전문가들은 이번 조치로 연금 자산이 주식과 채권시장으로 움직일 것으로 보고 있다. 주식과 채권을 담은 상품은 자산운용사들의 펀드밖에 없는 만큼 자산운용사 수탁액이 빠르게 불어날 것이란 예상이다.지난해 9월 말 기준 개인연금(289조원)과 퇴직연금(111조원)에 적립된 자금은 400조원에 달한다. 이 중 90% 이상이 예금, 적금 등 원리금 보장형 상품에 머물러 있다.허란 기자 why@hankyung.com', 'url': 'https://www.hankyung.com/article/2016010766411'}\n",
            "2024-08-09 08:04:50 [scrapy.core.engine] DEBUG: Crawled (200) <GET https://www.hankyung.com/article/2016011484396> (referer: https://search.hankyung.com/search/news?query=%EA%B8%88%EB%A6%AC&mediaid_clust=HKPAPER,HKCOM&period=DATE&area=ALL&sdate=2016.01.01&edate=2016.02.01&page=31)\n",
            "2024-08-09 08:04:50 [scrapy.core.scraper] DEBUG: Scraped from <200 https://www.hankyung.com/article/2016010805336>\n",
            "{'date': '2016.01.08', 'content': 'IBK투자증권은 8일 원·달러 환율이 1200원대에 도달한 데 대해 새로운 상승 추세의 시작이라며 연말 1250원선까지 상승할 것이라고 밝혔다.박옥희 연구원은 \"최근 이어지는 금융시장 불안감은 어떤 형태로든 주가나 환율에 반영돼 올해 내내 변동성을 높일 것\"이라며 \"여러 변수 중에서도 원·달러 환율을 주목해야 한다\"고 말했다.박 연구원은 \"대부분의 통화가 미국 달러화 대비 약세를 보이는 국면이 지속되겠지만 원화 약세가 조금 더 두드러질 것으로 보인다\"고 설명했다.글로벌 수요가 위축된 상황에서 미국의 금리 인상이 시작됨에 따라 신흥국에 대한 우려가 가중될 수 밖에 없고, 신흥국이 불안하면 해당국 통화를 제외하고 원화가 가장 민감한 반응을 보인다는 분석에서다.또 중국이 경기둔화를 막기 위해 위안화 약세를 유도하고 있는 점도 원화 약세를 부추기고 있다고 지적했다.그는 \"넉달 만에 다시 도달한 1200원선은 원·달러 환율의 고점이기 보다는 새로운 상승 추세의 시작이라고 판단한다\"며 \"원·달러 환율은 연말에는 1250원대서 마무리될 것\"이라고 강조했다.채선희 한경닷컴 기자 csun00@hankyung.com', 'url': 'https://www.hankyung.com/article/2016010805336'}\n",
            "2024-08-09 08:04:50 [scrapy.core.scraper] DEBUG: Scraped from <200 https://www.hankyung.com/article/2016010803666>\n",
            "{'date': '2016.01.08', 'content': 'BNK투자증권은 8일 다음주에도 G2(미국, 중국)의 금융시장 영향력은 지속될 것이라며 경기 흐름 뿐만 아니라 통화정책 방향에도 관심이 높아질 것으로 보인다고 밝혔다.김유미 연구원은 \"이번 주 금융시장은 G2를 중심으로 제조업 체감경기가 위축되면서 경기 둔화 우려가 높아졌다\"며 \"여기에 중국 위안화가 추가로 절하되고 중국 증시가 급락하면서 불안심리가 증폭되는 모습을 보였다\"고 말했다.김 연구원은 \"중국의 경우 12월 수출입 지표가 발표될 예정\"이라며 \"최근 위안화의 절하와 함께 경기 둔화 우려가 높아진 만큼 경제지표의 시장 영향력이 커질 것으로 보인다\"고 설명했다.시장에선 중국의 수출과 수입 모두 감소폭이 확대될 것으로 예상하고 있다. 이에따라 대내외 수요 부진에 대한 우려를 더욱 키울 가능성이 있다. 김 연구원은 \"다만 지표가 부진할 경우 추가적인 부양 정책이 나올 가능성이 높다\"며 \"중국 정부의 부양 정책 기대감은 금융시장의 불안 심리를 다소 진정시켜줄 수 있다\"고 내다봤다.미국에서는 주 후반 소매판매를 비롯한 중요한 지표들이 대기중이다. 특히 연준 위원들의 발언도 다수 예정돼 있어 통화정책을 둘러싼 불확실성이 더욱 커질 것으로 예상된다.그는 \"올해 의결권을 보유한 연준 위원들의 발언이므로 시장은 미국 금리 인상폭에 대한 힌트를 얻으려고 할 것\"이라며 \"최근 대외 불안이 커진 만큼 매파적인 색은 다소 약해질 수 있다\"고 분석했다.채선희 한경닷컴 기자 csun00@hankyung.com', 'url': 'https://www.hankyung.com/article/2016010803666'}\n",
            "2024-08-09 08:04:50 [scrapy.core.scraper] DEBUG: Scraped from <200 https://www.hankyung.com/article/2016010766471>\n",
            "{'date': '2016.01.08', 'content': '삼성자산운용은 한국형 헤지펀드(투자형 사모펀드) 시장의 선두 주자다. 2011년 12월 말 출범한 한국형 헤지펀드는 지난해 말 기준 3조4035억원 규모다. 이 중 삼성자산운용에 몰린 자금이 1조400억원이다. 시장점유율이 30%에 육박한다.삼성자산운용은 ‘삼성 H클럽 에쿼티 헤지(Equity Hedge) 1호’와 ‘삼성 H클럽 멀티스트래티지 1호’ 등 총 7개 펀드를 운용 중이다. 시황에 관계없이 매년 8~10%의 절대수익을 내고 있어 개인 자산가들 사이에서 인기가 높다. ‘삼성 에쿼티 헤지 1호’는 최초의 한국형 헤지펀드로 46개 펀드 중 덩치(설정액 3000억원)가 가장 크다. 2011년 12월 설정 후 지난해 말까지 37.80%의 누적 수익률을 기록했다. 4년간 연평균 9%의 수익을 낸 셈이다. 지난해 미국 금리 인상 등 각종 악재로 롤러코스터를 탄 코스피가 2.76% 상승하는 데 그친 반면, 이 펀드는 7.24%의 수익을 냈다.‘삼성 H클럽 멀티스트래티지’는 주식 롱쇼트(상승 예상 종목을 사고 하락 예상 종목을 공매도), 이벤트 드리븐(기업공개, 유상증자, 기업 분할 등에 따른 주가 변화를 활용한 투자) 등 다양한 전략을 유연하게 구사하는 상품이다. 2012년 2월 설정 이후 지난해까지 약 4년간 35.89%의 누적 수익률을 올렸다. 지난해에도 6.94%의 수익을 냈다. ‘삼성 H클럽 하이브리드’는 주식과 상관관계가 낮은 중·저위험 자산에 집중적으로 투자하는 상품이다. 증시가 부진했던 지난해엔 주식 비중이 높았던 펀드들보다 나은 9.92%의 수익을 냈다.삼성자산운용 헤지펀드의 장점은 수익률이 아니라 낮은 변동성이다. 모든 펀드의 변동성이 5% 이하다. 어느 시기에 펀드에 가입해도 수익을 냈다는 의미다. 허윤호 헤지펀드본부장은 “전방위적인 위험 관리를 통해 ‘잃지 않는 투자’를 운용철학으로 삼아 지켜가고 있다”고 말했다.삼성자산운용은 최근 헤지펀드본부를 확대 개편했다. 투자자들이 맡긴 자금이 늘어나면서 일손이 부족해졌다는 설명이다. 주식 투자 전략 수립을 돕는 에쿼티헤지팀과 주식 외 자산에 대해 연구하는 크로스에셋팀이 새로 꾸려졌다. 운용인력도 4명에서 9명으로 늘어났다. 허 본부장은 “새로운 조직을 구성한 것은 신상품 출시를 위한 포석”이라며 “올해 안에 해외 주식과 채권에 집중적으로 투자하는 헤지펀드를 내놓겠다”고 설명했다.안상미 기자 saramin@hankyung.com', 'url': 'https://www.hankyung.com/article/2016010766471'}\n",
            "2024-08-09 08:04:50 [scrapy.core.scraper] DEBUG: Scraped from <200 https://www.hankyung.com/article/2016011484396>\n",
            "{'date': '2016.01.14', 'content': '14일 서울 외환시장에서 원·달러 환율은 1200원대 후반에서 등락할 전망이다.앞서 뉴욕차액결제선물환(NDF) 시장에서 원·달러 1개월물은 1210.25원에 최종 호가됐다. 최근 1개월물 스와프포인트 1.20원을 고려하면 전 거래일 서울 외환시장 현물환 종가인 1204.00원보다 5.05원 오른 셈이다.박성우 NH선물 연구원은 \"원·달러 환율은 뉴욕 증시 급락에 따른 위험자산회피 심리가 불거지면서 강세를 보일 것\"이라며 \"이날 원·달러 환율은 1200원대 후반을 중심으로 움직일 것\"이라고 전망했다.지난밤 뉴욕증권거래소(NYSE)에서 다우존스 산업평균지수는 전날보다 364.81포인트(2.21%) 급락했다. 스탠더드앤드푸어스(S&P) 500 지수도 48.40포인트(2.50%) 하락한 채 거래를 마쳤다. 전날 중국 상하이증시도 2949.60까지 떨어져 2014년 12월 이후 1년1개월여 만에 3000선 아래에서 장을 마쳤다.박 연구원은 \"상하이종합지수가 3000선이 무너진 것을 볼때 중국 경기에 대한 우려는 여전히 진행형\"이라며 \"원·달러 환율은 이날 중국과 미국 영향으로 강세를 보이다 1210원 선까지 오를 수 있다\"고 말했다.그는 \"다만 위안화가 안정세를 보이고 차익 실현 매물이 움직임에 따라 추가 상승은 제한적일 것\"이라며 \"이날 예정된 한국은행 금융통화위원회는 금리 동결이 유력하기 때문에 환율에 대한 영향력이 미미할 것\"이라고 덧붙였다.NH선물은 이날 원·달러 환율이 1204.00~1214.00원 사이에서 거래될 것으로 예상했다.박상재 한경닷컴 기자 sangjae@hankyung.com', 'url': 'https://www.hankyung.com/article/2016011484396'}\n",
            "2024-08-09 08:04:50 [scrapy.core.engine] DEBUG: Crawled (200) <GET https://search.hankyung.com/search/news?query=%EA%B8%88%EB%A6%AC&mediaid_clust=HKPAPER,HKCOM&period=DATE&area=ALL&sdate=2016.01.01&edate=2016.02.01&page=51> (referer: https://search.hankyung.com/search/news?query=%EA%B8%88%EB%A6%AC&mediaid_clust=HKPAPER,HKCOM&period=DATE&area=ALL&sdate=2016.01.01&edate=2016.02.01&page=41)\n",
            "2024-08-09 08:04:50 [scrapy.core.engine] DEBUG: Crawled (200) <GET https://www.hankyung.com/article/2016010808046> (referer: https://search.hankyung.com/search/news?query=%EA%B8%88%EB%A6%AC&mediaid_clust=HKPAPER,HKCOM&period=DATE&area=ALL&sdate=2016.01.01&edate=2016.02.01&page=41)\n",
            "2024-08-09 08:04:50 [scrapy.core.engine] DEBUG: Crawled (200) <GET https://www.hankyung.com/article/2016010806826> (referer: https://search.hankyung.com/search/news?query=%EA%B8%88%EB%A6%AC&mediaid_clust=HKPAPER,HKCOM&period=DATE&area=ALL&sdate=2016.01.01&edate=2016.02.01&page=41)\n",
            "2024-08-09 08:04:50 [scrapy.core.engine] DEBUG: Crawled (200) <GET https://www.hankyung.com/article/201601081266g> (referer: https://search.hankyung.com/search/news?query=%EA%B8%88%EB%A6%AC&mediaid_clust=HKPAPER,HKCOM&period=DATE&area=ALL&sdate=2016.01.01&edate=2016.02.01&page=41)\n",
            "2024-08-09 08:04:50 [scrapy.core.engine] DEBUG: Crawled (200) <GET https://www.hankyung.com/article/201601078882e> (referer: https://search.hankyung.com/search/news?query=%EA%B8%88%EB%A6%AC&mediaid_clust=HKPAPER,HKCOM&period=DATE&area=ALL&sdate=2016.01.01&edate=2016.02.01&page=41)\n",
            "2024-08-09 08:04:50 [scrapy.core.engine] DEBUG: Crawled (200) <GET https://www.hankyung.com/article/2016010793591> (referer: https://search.hankyung.com/search/news?query=%EA%B8%88%EB%A6%AC&mediaid_clust=HKPAPER,HKCOM&period=DATE&area=ALL&sdate=2016.01.01&edate=2016.02.01&page=41)\n",
            "2024-08-09 08:04:50 [scrapy.core.scraper] DEBUG: Scraped from <200 https://www.hankyung.com/article/2016010808046>\n",
            "{'date': '2016.01.08', 'content': '사진=게티이미지뱅크\\n                    \\n                코스피, 당분간 바닥 찾기 전망…기업 실적 불안글로벌 증시가 연초부터 중국발(發) 충격으로 출렁이고 있다.가뜩이나 경기 둔화와 국제 유가 하락 등으로 답답한 상황에서 중국 증시가 연일 폭락하면서 신흥국은 물론 선진국 증시마저 시계제로 상태에 빠졌다.전문가들은 글로벌 증시가 반등하기엔 이렇다할 \\'호재\\'가 없다며 당분간 조정이 이어질 것으로 전망했다. 이에 따라 한국 증시도 상반기 내내 바닥을 찾는 작업이 이어질 것이란 분석이다.8일 이영석 한국투자신탁운용 주식운용본부장(상무)은 \"최근 중국 증시 급락의 가장 큰 요인은 \\'환율\\'\"이라며 \"(경기 둔화 등으로) 증시를 둘러싼 주변 환경이 좋지 않은 상태에서 위안화 약세가 \\'방아쇠\\'가 됐다\"고 설명했다.그는 \"위안화 약세가 단기간에 너무 빠른 속도로 진행된 것이 문제\"라며 \"다만 중국 정책 당국의 개입 의지가 있는 만큼 현 상황에서 추가 약세가 급격히 진행되기 보단 관망세가 나타날 것으로 본다\"고 말했다.중국 상하이증시와 선전 증시는 올 들어 첫 거래일인 4일에 이어 전날에도 조기 폐장했다. 지난 7일 경우에는 개장하자마자 5% 넘게 떨어져 서킷브레이커가(주식거래 일시중단) 발동했고, 이후 다시 7% 이상 내려 거래가 완전히 중단됐다.이 여파로 간밤 미국 증시의 다우지수는 2.3% 떨어져 3개월 만에 최저를 나타냈다. 독일 DAX지수와 영국 FTSE 100지수도 각각 2% 넘게 하락했다. 이날 한국 증시의 코스피지수는 4개월 만에 장중 1990선을 내줬다.이 상무는 \"중국 증시는 서킷브레이커로 인해 처리하지 못한 급한 매물들이 남아있을 수 있다\"며 \"급락 이후 앞으로도 여진이 지속될 것\"이라고 내다봤다.그는 \"중국 증시 외에도 글로벌 증시 전반이 1분기 내내 바닥을 찾아가는 등 약세를 보일 것\"이라며 \"오는 3월께 미국의 추가 금리 인상이 예상되고 유가 하락도 이어지는 등 불확실성이 크다\"고 진단했다.코스피지수와 관련해 이 상무는 \"한국의 경우 상당히 많은 기업들이 청산가치 수준까지 낮아져 있어서 급격한 주가 하락은 나타나지 않을 것\"이라면서도 \"대내외 불확실성이 높은만큼 주가가 반전하기에는 시간이 필요하다\"고 말했다.이날 KDB대우증권도 중국 증시 급락에다 미국 금리 인상이 지속되는 걸 감안하면 최악 경우엔 코스피지수가 1700선까지 떨어질 수 있다고 진단했다.이 증권사 한요섭 연구원은 \"미국 통화 정책 정상화 과정에서 세계 한계 기업의 연쇄 부도 위험과 글로벌 금융 시장 경색 가능성이 높을 것\"이라며 \"올해 안에 시스템 위험이 발생할 경우 코스피는 1700p까지 하락할 수 있다\"고 내다봤다.이 상무는 특히 삼성전자를 비롯해 국내 기업들의 실적에 대한 시장 우려가 큰 점 또한 코스피지수에 부정적 영향을 줄 수 있다고 지적했다. 이날 나온 작년 4분기 삼성전자 잠정 영업이익은 6조1000억원으로 이미 낮아진 시장 눈높이(6조5700억원)도 채우지 못했다.그는 그러나 \"작년 8월 말의 저점인 1880선 초중반에서는 저가 매수에 나서도 좋다\"며 \"특히 저성장 국면이 이어지는 상황이어서 이번 변동성 기간을 활용해 성장주를 담아놓는 것도 좋은 전략\"이라고 추천했다.지난해 상반기에는 제약·바이오를 필두로 성장주의 강세가 나타났고 하반기에는 대형주가 우위를 보였다면 올해는 성장주와 대형주 간 힘겨루기가 팽팽하게 벌어질 것으로 내다봤다.권민경 한경닷컴 기자 kyoung@hankyung.com', 'url': 'https://www.hankyung.com/article/2016010808046'}\n",
            "2024-08-09 08:04:50 [scrapy.core.engine] DEBUG: Crawled (200) <GET https://www.hankyung.com/article/201601148227i> (referer: https://search.hankyung.com/search/news?query=%EA%B8%88%EB%A6%AC&mediaid_clust=HKPAPER,HKCOM&period=DATE&area=ALL&sdate=2016.01.01&edate=2016.02.01&page=31)\n",
            "2024-08-09 08:04:50 [scrapy.core.scraper] DEBUG: Scraped from <200 https://www.hankyung.com/article/2016010806826>\n",
            "{'date': '2016.01.08', 'content': 'KDB대우증권은 8일 중국발(發) 충격과 관련해 코스피지수의 1차 지지선은 1885포인트(p)가 될 것으로 전망했다.하지만 중국 증시 급락에다 미국 금리 인상이 지속되는 걸 감안하면 최악의 경우 코스피지수가 1700p까지 하락할 수 있다고 진단했다.이 증권사 한요섭 연구원은 \"작년 중국 증시 급락 당시 코스피지수 주가수익비율(PER)은 10.0배, 주가순자산비율(PBR)은 0.89배였다\"며 \"이는 현재 환산 코스피로는 1885로, 단기적인 1차 지지선이 될 것\"이라고 설명했다.그는 \"그러나 미국의 통화 정책 정상화 과정 속에서 세계 한계 기업의 연쇄 부도 위험과 글로벌 금융시장 경색 가능성이 높을 것\"이라며 \"올해 안에 시스템 위험이 발생할 경우 코스피는 1700까지 하락할 수 있다\"고 전망했다.전날 중국 상하이증시는 7.32% 급락한 3115.89 포인트로 장을 마감했다. 개장한 지 13분 만에 5%이상 떨어지면서 첫 번째 서킷브레이커(주식거래 일시중단)가 발동됐고, 이후 다시 7% 이상 내려 거래가 완전 중단됐다.증시 폭락은 위안화 약세가 예상보다 빠르게 진행되면서 자본 유출 우려가 커진 데 따른 것이다. 중국 증시 여파로 코스피지수도 4개월 만에 1900선까지 밀려났다.한 연구원은 \"중국 증시는 정부의 개입으로 급락세는 진정되겠지만 반등은 제한적일 것\"이라며 \"상하이지수 등락 범위는 3100~3300p 사이가 될 것\"이라고 내다봤ㄷ.그는 또 \"과거 위안화 약세 구간에서 시장 대비 초과 수익률을 기록한 업종은 건강관리, 정보기술(IT), 화학, 화장품· 의류 등\"이라며 \"이들 업종의 공통점은 업황 호전으로 실적이 양호하다는 것\"이라고 말했다.권민경 한경닷컴 기자 kyoung@hankyung.com', 'url': 'https://www.hankyung.com/article/2016010806826'}\n",
            "2024-08-09 08:04:50 [scrapy.core.scraper] DEBUG: Scraped from <200 https://www.hankyung.com/article/201601081266g>\n",
            "{'date': '2016.01.08', 'content': '조성진 사장이 6일(현지시간) \\'CES2016\\'이 열리고 있는 미국 라스베이거스에서 기자간담회를 갖고 超프리미엄 빌트인 시장을 겨냥해 ‘시그니처 키친 스위트(SIGNATURE KITCHEN SUITE)’를 미국 시장에 론칭 한다고 발표했다. \\n                    \\n                [ 김민성 기자 ] LG전자의 가전사업을 이끌고 있는 조성진 사장(H&A 사업본부장)은 가전과 로봇 기술 융·복합에 대해 깊이 있게 생각하고 있다고 밝혔다.조 사장은 7일(현지시각) 세계 최대 가전전시회인 CES 2016이 열리고 있는 미국 라스베이거스에서 가진 기자간담회에서 \\'CES에서 얻은 영감이 뭐냐\\'는 질문에 \"로봇 기술이 상당히 일반화되고 있다고 느꼈다\"며 \"다른 산업, 유통, 타 브랜드를 보면서 이렇게 제품이 융합될 수도 있구나하는 점을 배웠다\"고 말했다.조 사장은 융·복합을 사물간 연결성을 확대하는 것으로 풀이했다. 그는 \"좀 더 가정적으로 포커스 잡아야하는게 아닌가하는 느낌을 어렴풋이 받았다\"며 \"커넥티비티(연결성)와 융복합도 확장할 필요가 있다. 정수기냉장고, 트윈워시처럼 다른 융복합도 생길 수 있지 않을까 생각한다\"고 덧붙였다.올해 가전 사업성에 대해서는 지난해와 비슷한 수준일 것으로 내다봤다. 조 사장은 \"올해 수익성은 작년 수준은 가능하지 않겠나 생각한다\"며 \"유가하락, 미국 금리인상으로 인한 환율 변동, 중동 사회적 환경 변화 등에 따라 손익 매출에 많은 영향을 받겠지만 우리만 당하는 건 아니니 잘 대비하겠다\"고 밝혔다.조 사장은 \"가전 사업은 비교적 제품을 교체하는 시기도 길기 때문에 나름대로 안정된 수익성을 가져가고 있다\"며 \"경쟁사인 월풀, 보쉬도 손익률 5%에서 꾸준히 가고 있기 때문에 우리가 특별히 잘하는거 같진 않다\"고 설명했다.  조 사장은 이날 초(超) 프리미엄 빌트인 주방 가전 시장을 겨냥해 LG 브랜드가 아닌 빌트인 전문 독자 브랜드인 \\'시그니처 키친 스위트\\'를 새로 선보이겠다고 밝혔다.미국과 한국 고가 시장을 노린다. 조 사장은 “고객들로부터 인정받은 제품 경쟁력을 기반으로 빌트인을 전문으로 하는 초프리미엄 브랜드를 조기에 정착시키는 데 역량을 집중해 올해를 LG만의 가전 브랜드를 완성하는 원년으로 삼을 것”이라고 강조했다.‘시그니처 키친 스위트’는 냉장고, 오븐, 쿡탑, 식기세척기, 전자레인지 등 주방 빌트인 가전 풀패키지다. 앞서 공개한 ‘LG 시그니처’는 일반 가전(프리스탠딩)의 초프리미엄 브랜드로 B2B 시장용인 \\'시그니처 키친 스위트\\'와는 다르다.초프리미엄 가전을 표방한 \\'LG 시그니처\\'는 TV, 냉장고, 세탁기, 공기청정기 등 주요 가전 제품에 적용된다. 한국, 미국, 유럽 등 글로벌 주요 시장을 노리고 있다.라스베이거스(미국)=김민성 한경닷컴 기자 mean@hankyung.com', 'url': 'https://www.hankyung.com/article/201601081266g'}\n",
            "2024-08-09 08:04:50 [scrapy.core.scraper] DEBUG: Scraped from <200 https://www.hankyung.com/article/201601078882e>\n",
            "{'date': '2016.01.08', 'content': \"[ 김하나 기자 ]내수경기 침체가 이어지고 있는 가운데 미국의 금리인상, 중국의 경제쇼크 등 외부 악재가 겹치면서 부동산 시장도 불안감이 커지고 있다. 상가 투자 역시 이러한 분위기를 반영하고 있다. 투자자들이 고수익 보다는 안정성이 높은 투자처를 찾고 있기 때문이다.전문가들은 불황에 강한 ' 섬 상권'을 주목할 필요가 있다고 조언한다. ‘섬 상권’은 특정 지역에 다양한 업종의 상가가 고도로 집중돼 섬 모양처럼 형성된 상권을 의미한다. 한 곳에서 외식, 쇼핑, 문화생활 등의 복합소비가 가능하다. 때문에 지역 소비층의 외부 유출이 거의 없다는 게 장점이다.보통 대규모 주거지역이나 학교·관공서 등에서 도보로 접근 가능한 곳에 조성되곤 한다. 상권 범위가 주변 부동산에 막혀 한정적이고 확장이 어렵기 때문에 넘치는 수요에 비해 상가 물량이 제한적이다. 매수·임차 수요가 꾸준하며 불경기에도 매출이나 임대 시세에 큰 변화가 없다는 특징이 있다.광명시 철산동에 위치한 ‘철산 로데오거리’는 이 같은 ‘섬 상권’의 전형을 보여주는 곳이다. ‘철산역 상권’으로도 불리는 이 곳은 4면이 7000여 가구규모의 대단지 아파트로 둘러 싸여 있다. 상권에 대형마트와 시장, 극장 등 유력한 인구유입시설이 들어서 있는데다 ‘오리로 854번 길’을 중심으로 상업시설이 집중돼 있다.\\n                    \\n                        \\n                            \\n                            \\n                        \\n                        \\n                    \\n                권리금이나 임대료 수준도 같은 수도권 남부지역에 비해 높다. 상가정보업체 점포라인에 따르면 지난해 철산동 점포 평균 권리금은 1억2908만원으로 수도권 남부의 8947만원에 비해 44.27%(3961만원) 높았고 월세도 343만원으로 수도권 남부의 260만원에 비해 31.92%(83만원) 더 높은 것으로 나타났다. 이 곳 권리금은 2008년 이후 1억1000만원 밑으로 떨어진 적이 없다.경기도 안산의 ‘중앙동 상권’이나 안양의 ‘안양1번가 상권’도 전형적인 ‘섬 상권’으로 분류된다. 이들 상권 역시 주변에 대규모 아파트 단지가 들어서 있고 도보 접근이 쉬운데다 넓지 않은 범위에 상가가 집중돼 있어 주말이면 불야성을 이루는 등 임대업과 자영업 여건이 모두 좋다.안산 중앙동 상권은 북쪽과 동쪽으로 8000여 가구 규모의 아파트가 인접해 있고 서쪽으로는 안산시청과 경찰서 등 관공서, 오피스타운이 위치해 있다. 상권 자체가 1990년대부터 활성화됐지만 남쪽이 지하철 4호선 중앙역으로 막혀 있어 상권 범위는 지금과 크게 다르지 않다. 지난해 평균 권리금은 수도권 남부 지역보다 33%(2953만원) 높은 1억1900만원 선이었다.안양1번가 상권은 동북쪽에 5000여 가구의 대단지 아파트가 밀집해 있고 나머지 3면도 빌라 및 단독주택 등 주거시설로 둘러 싸여 있다. 지하철 1호선 안양역이 상권과 직면해있고 백화점과 극장, 대형쇼핑몰이 상권 가까이에 입지해 있어 인근 거주민은 물론 외부에서 유입되는 소비층이 많다. 지난해 평균 권리금은 1억800만원으로 역시 수도권 남부지역 대비 20.7%(1853만원) 높았다.사정이 이렇다보니 상가분양 시장에서도 ‘섬 상권’에 대한 관심이 높아지고 있다. 수요가 공급보다 많아 경기 영향을 거의 받지 않기 때문에 자영업자 입장에서는 권리금 회수가 용이하고 투자자는 공실률을 최소화할 수 있다는 이유에서다.그러나 전문가들은 겉모양만 ‘섬 상권’으로 보이는 지역도 다수 존재하기 때문에 투자나 임차를 결정할 때 현장답사를 거치는 등 신중을 기할 필요가 있다고 조언한다. 주변 아파트 가구 수는 많지만 걸어가도 될만큼 가까운 거리에 성격이 비슷한 상권이 있어 수요가 분산되는 상권, 반대로 가구 수가 적어 충분한 배후소비층이 형성되지 않은 상권, 별다른 인구유입 시설이 없어 신규 수요창출이 어려운 곳은 피해야 한다는 설명이다.점포라인 염정오 상권분석팀장은 “특히 ‘섬 상권’에 있어서는 안정성을 더해주는 배후소비층이 상당히 중요하기 때문에 가구 수, 소득 수준, 주요 인구유입 시설 등의 요소도 꼼꼼히 따져볼 필요가 있다”고 말했다.\\n                    \\n                        \\n                            \\n                            \\n                        \\n                        '힐스테이트 광교 상업시설' 조감도(분양문의 1670-1221)\\n                    \\n                현재 수도권에서는 이러한 조건을 충족하는 ‘섬 상권’ 상업시설 분양이 활발하다. 이미 상당수 점포가 계약됐고 국내외 경제여건이 불안해지면서 잔여 물량 소진도 빨라질 전망이다.현대엔지니어링은 광교신도시 호수공원에 ‘힐스테이트 광교 상업시설’을 분양 중이다. 호수공원 자체가 인파를 모으는데다 실제 수변 상업시설 물량이 제한적이어서 공급자 우위의 상권이 될 것으로 예측된다. 인근에 들어설 광교 컨벤션센터 내에 도서관, 소극장 등이 배치될 것으로 알려져 시너지 효과가 기대된다.2019년 예정 물량까지 모두 포함하면 7000가구 규모(민영 및 임대, 오피스텔은 제외)의 아파트 대단지가 공원 주변에 들어서게 된다. 더구나 호수공원 상권은 지역 내 상권들과는 성격이 크게 달라 대체가 불가능하기 때문에 자연스럽게 배후소비층이 두터운 ‘섬 상권’으로 발달할 전망이다.롯데건설이 ‘송도 캠퍼스타운 애비뉴’를 분양하는 인천 송도국제도시 5·7공구 M1블록도 섬 상권 형성이 유력한 지역이다. 주변에 약 3200가구 규모의 대단지 아파트가 들어서 있고 캠퍼스타운 자체 아파트 1230가구(2016년 예정)와 ‘송도아메리칸타운아이파크’ 830가구(2018년 예정) 조성이 끝나면 도합 5000여 가구 규모의 아파트촌 중심지에 자리하게 된다.한화건설이 ‘은평뉴타운 꿈에그린 상가’를 분양하는 서울 은평뉴타운도 ‘섬 상권’ 형성이 유력한 곳이다. 구파발역과 가까워 은평뉴타운에 포진한 1만5000여 가구 규모의 배후소비층을 끌어들일 수 있을 전망이다. 은평구 유력 상권인 ‘연신내 상권’이 가까이 있지만 은평뉴타운에서 연신내로 가는 길에 오르막이 있어 소비 유출은 제한적일 것으로 전망된다.김하나 한경닷컴 기자 hana@hankyung.com\", 'url': 'https://www.hankyung.com/article/201601078882e'}\n",
            "2024-08-09 08:04:50 [scrapy.core.scraper] DEBUG: Scraped from <200 https://www.hankyung.com/article/2016010793591>\n",
            "{'date': '2016.01.07', 'content': '국제 유가가 배럴당 30달러(두바이유 기준) 밑으로 추락하면서 파생결합증권(DLS) 투자자들의 손실이 눈덩이처럼 불어나고 있다. 만기가 돌아오지 않은 DLS 중 9000억원어치 이상이 원금 손실구간에 진입했다. 유가가 현재 수준에 머물거나 더 떨어진 상태에서 DLS의 만기가 돌아오면 원금의 40~70%를 날리게 된다는 의미다.증권 정보 제공업체 에프앤가이드에 따르면 7일 현재 원금 손실구간 밑으로 떨어진 공모형 원유 DLS는 4397종, 투자된 금액은 9051억원으로 집계됐다. 만기가 돌아오지 않은 원유 DLS(1조1236억원)의 80.55%에 해당한다. 통계에 잡히지 않는 사모 상품을 합하면 손실구간에 들어간 물량은 추산하기 어려울 정도로 많다는 게 전문가들의 설명이다.원유 DLS는 계약 후 3년이 지난 만기 시점까지 기초자산 가격이 손실구간(판매 시점 대비 40~60% 이하) 밑으로 떨어지지 않아야만 원리금을 되돌려받을 수 있는 상품이다. 단 한 번이라도 기준선 밑으로 가격이 내려가면 유가가 하락한 폭만큼 원금을 떼이는 것으로 계약 조건이 바뀐다. 최근 만기를 맞은 DLS의 손실률은 60~70% 수준이다. 2013년 1월4일 발행된 KDB대우증권 DLS 998호는 지난 5일 손실률 67.24%로 만기 상환됐다. 1000만원을 투자해 327만6000원만 되돌려받았다는 의미다. 원유가 배럴당 100달러 안팎에서 거래됐던 3년 전 가격을 기준으로 손실률을 산정하다 보니, 원금의 3분의 2 이상이 날아갔다는 설명이다.아직 원금 손실구간에 진입하지 않은 원유 DLS 투자자들도 유가 하락 공포에 떨고 있다. 유가가 배럴당 30달러까지 떨어지면 서부텍사스원유(WTI)를 기초로 발행된 상품 219억원, 브렌트유와 연계한 상품 121억원 등 340억원어치가 손실구간에 새로 들어간다.투자자들은 향후 유가를 예측해 환매 또는 보유를 결정해야 한다. 환매하면 현재 시점의 손실이 그대로 확정되는 데다 각종 수수료 부담까지 져야 한다. 대신 추가 하락에 따른 손실은 줄일 수 있다.유가가 반등하면 얘기가 달라진다. 이미 손실구간에 진입한 DLS도 3년 만기 시점의 상환조건(대체로 최초 계약 시점 가격의 80~85%)을 충족하면 원금과 함께 사전에 약정한 이자를 받을 수 있다. 예를 들어 유가가 80달러인 시점에 DLS에 가입한 투자자라면 64~68달러 수준까지 유가가 올랐을 때 기사회생이 가능하다는 얘기다.■ DLS(파생결합증권)derivative linked securities. 원자재 가격, 금리, 신용 등을 기초자산으로 삼는 파생상품. 기초자산 가격이 계약 시점보다 40~50% 이상 떨어지지 않으면 약속한 이자를 주는 형태가 일반적이다.송형석 기자 click@hankyung.com', 'url': 'https://www.hankyung.com/article/2016010793591'}\n",
            "2024-08-09 08:04:50 [scrapy.core.scraper] DEBUG: Scraped from <200 https://www.hankyung.com/article/201601148227i>\n",
            "{'date': '2016.01.14', 'content': \"간밤 미국 증시는 아마존과 넷플릭스 등 기술주가 큰 폭으로 하락하며 주요 지수를 끌어내렸다.한국은행이 오늘(14일) 새해 들어 첫 금융통화위원회를 열어 기준금리를 결정하고 올해 경제성장률 전망치를 발표한다.박근혜 대통령은 오늘부터 경제부처를 시작으로 정부 부처의 새해 업무보고를 받는다.◆ 뉴욕증시, 아마존 등 기술주 급락…다우 2.21%↓ 13일(미국시간) 뉴욕증권거래소(NYSE)에서 다우존스 산업평균지수는 전 거래일보다 364.81포인트(2.21%) 내린 1만6151,41에 거래를 마쳤다. 스탠더드 앤드 푸어스(S&P) 500 지수는 48.40포인트(2.50%) 떨어진 1890.28에, 나스닥 지수는 159.85포인트(3.41%) 내려간 4526.06에 장을 마감했다.지난해 미국 증시에서 가장 큰 폭의 상승세를 나타냈던 넷플릭스는 8% 이상 떨어졌고, 아마존과 알파벳(구글)도 각각 5%와 3% 이상 하락했다.◆ 한은, 기준 금리·경제 성장률 전망치 발표한국은행은 오늘 오전 9시 올해 첫 금통위를 열어 기준금리 조정 여부를 결정한다. 기준금리는 역대 최저 수준인 연 1.5% 수준에서 7개월째 동결될 것이라는 전망이 유력하다. 경제 성장률 전망치는 지난해 10월 발표한 3.2%를 조정할지 주목된다.◆ 박 대통령 경체부처 업무보고 청취박 대통령은 오늘 기획재정부, 농림축산식품부, 산업통상자원부, 국토교통부, 해양수산부, 공정거래위원회, 금융위원회 등 7개 경제 부처의 업무보고를 받고 새해 국정 운영 구상에 돌입한다. 주요 안건은 '내수와 수출의 균형을 통한 경제 활성화'에 초첨이 맞춰질 전망이다.◆ 국제유가, 브렌트유는 30달러 일시붕괴…WTI는 소폭 상승북해산 브렌트유의 배럴당 가격이 13일(현지시간) 장외거래에서 2004년 4월 이후 처음으로 한때 30달러 밑으로 떨어졌다. 런던 ICE선물시장에서 브렌트유는 62센트(2.01%) 하락한 30.24달러를 기록 중이다.전거래일 배럴당 30달러가 무너지며 2003년 12월 이후 최저를 기록한 서부텍사스산 원유(WTI)는 전날보다 4센트(0.1%) 오른 배럴당 30.48달러에 마감됐다. 8영업일만에 처음 상승이지만 상승폭은 극히 제한됐다.◆ 한중 6자회담 수석대표 오늘 회동한국과 중국의 북핵 6자회담 수석대표가 오늘 중국 베이징에서 북한의 4차 핵실험에 대한 대응 방안을 협의한다. 우리 측은 6자회담 수석대표인 황준국 외교부 한반도평화교섭본부장이 참석해 중국 측의 '건설적 역할'을 강력하게 요청할 것으로 보인다.◆ 이부진 호텔신라 사장 이혼소송 오늘 선고이부진 호텔신라 사장(46)이 남편 임우재 삼성전기 상임고문(48)을 상대로 낸 이혼소송 선고 재판이 오늘 열린다. 수원지법 성남지원 가사2단독 재판부는 오전 10시 10호 법정에서 1년3개월여 심리한 결론을 밝힌다.◆ 출근길 '빙판길 주의'…낮에 추위 풀려목요일인 14일 전국에 구름이 많은 가운데 서울, 경기도와 강원 영서 지역에서는 밤부터 눈(강수확률 60%)이 조금 오겠다고 기상청은 예보했다. 낮 최고기온은 영하 1도에서 영상 7도로 전날과 비슷하겠다. 낮부터 기온이 점차 올라 17일까지는 평년기온을 회복하며 추위가 다소 풀리겠다.김정훈 한경닷컴 산업경제팀 차장\", 'url': 'https://www.hankyung.com/article/201601148227i'}\n",
            "2024-08-09 08:04:50 [scrapy.core.engine] DEBUG: Crawled (200) <GET https://www.hankyung.com/article/2016010812476> (referer: https://search.hankyung.com/search/news?query=%EA%B8%88%EB%A6%AC&mediaid_clust=HKPAPER,HKCOM&period=DATE&area=ALL&sdate=2016.01.01&edate=2016.02.01&page=41)\n",
            "2024-08-09 08:04:50 [scrapy.downloadermiddlewares.redirect] DEBUG: Redirecting (301) to <GET https://plus.hankyung.com/apps/newsinside.view?aid=201601046640A> from <GET http://plus.hankyung.com/apps/newsinside.view?aid=201601046640A>\n",
            "2024-08-09 08:04:50 [scrapy.core.scraper] DEBUG: Scraped from <200 https://www.hankyung.com/article/2016010812476>\n",
            "{'date': '2016.01.08', 'content': '조익재 하이투자증권 리서치센터장은 8일 \\'중국 쇼크\\'와 연동해 움직이고 있는 국내 증시에 대해 \"중국발(發) 위기를 몰고온 첫 번째 원인인 국제유가와 위안화 움직임에 집중하는 동시에 채권시장 등 자산시장을 주목해야 한다\"라고 강조했다.그는 \"앞으로 시장참여자들이 가장 중요하게 짚고 넘어가야 할 시장은 증시·외환시장보다 채권시장\"이라며 \"과거 리먼사태 등을 감안하면 신용등급이 낮은 기업이 발행하는 정크본드 등 채권시장에서 먼저 악재를 반영하는데 중국의 경우 정부 통제 등 영향으로 정확한 자산시장 지표를 한 눈에 보기 어렵다\"고 지적했다.따라서 주식·외환시장보다 채권시장이 중국의 경기 침체와 자본유출 등 실제 위기를 반영해 움직이는지에 신속 대응하는 자세가 필요하다고 조 센터장은 분석했다.조 센터장은 \"사실 위안화 환율은 중국 정부의 통제력 밑에 있기 때문에 정부의 의지가 어느 정도 반영된 것\"이라면서도 \"다만 위안화가 쉽게 강세로 바뀌지는 못할 것\"이라고 내다봤다.위안화의 경우 작년 여름부터 뛰어오른 달러 급등 탓에 당시 달러에 페그(고정)된 위안화도 뒤따라 올랐다는 것. 그는 \"이 시기부터 위안화 대비 다른 나라 환율이 너무 빠지면서 중국의 제조업 수출 경쟁력이 악화되는 등 정부 정책과 환율이 반대로 움직였다\"고 진단했다.이어 \"중국 정부가 미국의 금리인상 영향에서 벗어나기 위해 사실상 달러 페그제를 포기했기 때문에 이번 위안화 약세는 당분간 지속될 것\"이라고 내다봤다.조 센터장은 아울러 국제유가의 반등 역시 증시 패닉을 극복하는데 도움이 될 수 있다고 판단했다.그는 \"중국의 이번 위기가 국제유가 급락 사태와 무관하지 않다\"며 \"중국은 자원국과 거래가 많은 곳인데 이들이 유가폭락에 구매력을 잃고 환율이 무너지면서 중국의 제조업지수도 부정적인 영향을 받은 것\"이라고 설명했다.정현영 한경닷컴 기자 jhy@hankyung.com', 'url': 'https://www.hankyung.com/article/2016010812476'}\n",
            "2024-08-09 08:04:51 [scrapy.core.engine] DEBUG: Crawled (200) <GET https://www.hankyung.com/article/2016010457256> (referer: https://search.hankyung.com/search/news?query=%EA%B8%88%EB%A6%AC&mediaid_clust=HKPAPER,HKCOM&period=DATE&area=ALL&sdate=2016.01.01&edate=2016.02.01&page=51)\n",
            "2024-08-09 08:04:51 [scrapy.core.engine] DEBUG: Crawled (200) <GET https://www.hankyung.com/article/201512306121e> (referer: https://search.hankyung.com/search/news?query=%EA%B8%88%EB%A6%AC&mediaid_clust=HKPAPER,HKCOM&period=DATE&area=ALL&sdate=2016.01.01&edate=2016.02.01&page=51)\n",
            "2024-08-09 08:04:51 [scrapy.core.engine] DEBUG: Crawled (200) <GET https://www.hankyung.com/article/201601045477g> (referer: https://search.hankyung.com/search/news?query=%EA%B8%88%EB%A6%AC&mediaid_clust=HKPAPER,HKCOM&period=DATE&area=ALL&sdate=2016.01.01&edate=2016.02.01&page=51)\n",
            "2024-08-09 08:04:51 [scrapy.core.engine] DEBUG: Crawled (200) <GET https://www.hankyung.com/article/201601046304g> (referer: https://search.hankyung.com/search/news?query=%EA%B8%88%EB%A6%AC&mediaid_clust=HKPAPER,HKCOM&period=DATE&area=ALL&sdate=2016.01.01&edate=2016.02.01&page=51)\n",
            "2024-08-09 08:04:51 [scrapy.core.scraper] DEBUG: Scraped from <200 https://www.hankyung.com/article/2016010457256>\n",
            "{'date': '2016.01.04', 'content': '사진=게티이미지뱅크\\n                    \\n                2016년 \\'병신년(丙申年)\\' 주식시장이 4일 개장했다. 투자자들은 지난해 미국 금리인상 불확실성 등으로 적극적 투자를 미룬 만큼 새해 어떤 종목부터 담아야 할 지 고민이 깊어지고 있다.증시 전문가들은 대내외 증시 모멘텀(동력)이 강하지 않은 상황이라며 연초 중소형주로 관심을 가져야 한다는 답을 내놨다.새해 첫 거래일인 이날 코스피지수와 코스닥지수는 희비가 엇갈리고 있다. 코스피는 외국인과 기관의 쌍끌이 매도세에 장중 1940선을 내줬다. 반면 코스닥은 680선 후반에서 상승폭을 확대하는 모습이다.지기호 LIG투자증권 연구원은 \"연초 유가증권시장(코스피)은 상승세가 점차 둔화될 것\"이라며 \"지난해 말 배당투자를 위해 주식을 매수한 투자자의 수익 확정 매도세와 4분기 기업 실적 발표를 앞두고 관련 우려감이 커질 것으로 예상되기 때문\"이라고 말했다.코스피는 유가, 위안화 환율 등 대외 환경이 녹록치 않은 가운데 국내 기업들의 4분기 실적 모멘텀도 강하지 않아 유의미한 회복을 기대하기 어렵다는 설명이다.연초 외국인의 귀환을 기대하기 어렵다는 점도 코스피의 상승 탄력을 떨어지게 하는 요인이다.박석현 유진투자증권 투자전략 부장은 \"외국인 수급의 키는 원자재 가격에 좌우될 것으로 전망되는데 전망이 낙관적이지 않다\"며 \"공급과잉 우려가 지속되면서 국제유가 전망이 여전히 불투명하고 글로벌 경기 둔화로 원자재 수요 회복 기대가 낮기 때문\"이라고 설명했다.박 부장은 \"다만 중동계 매도세가 진정되면서 지난해 12월과 같은 매도 공세는 나타나지 않을 것\"으로 전망했다.증시 전문가들은 연초 맥을 못 추는 대형주와 달리, 상대적 강세가 나타날 중소형주(코스닥)에서 종목을 선별할 필요가 있다고 조언했다.김경욱 BNK투자증권 연구원은 \"이익확대 모멘텀이 있는 기업들이 상대적으로 중소형주에 포진돼있고 외국인과 기관의 수급상황이 중소형주에 우호적인 상황\"이라며 \"중소형주 중에서 건강관리, 화장품·의류 업종의 비중 확대 전략이 유효하다\"고 내다봤다.다만 전문가들은 중소형주에 대한 방망이는 짧게 잡아야 한다고 지적했다.오태동 NH투자증권 연구원은 \"최근 3년 사이 중소형주의 상승 여력이 낮아졌다는 것을 주목해야 한다\"며 \"중소형주 강세 기간을 짧게 보는 것이 유리하고 과열 신호를 보이면 과거보다 빨리 차익실현에 나서야 한다\"고 강조했다.채선희 한경닷컴 기자 csun00@hankyung.com', 'url': 'https://www.hankyung.com/article/2016010457256'}\n",
            "2024-08-09 08:04:51 [scrapy.core.scraper] DEBUG: Scraped from <200 https://www.hankyung.com/article/201512306121e>\n",
            "{'date': '2016.01.04', 'content': '대한민국 건설 역사를 만들어온 현대가 새해 1월, 3호선 삼송역 더블초역세권에 생활은 물론 투자가치의 안정성이 높은 오피스텔을 개관한다고 4일 밝혔다.현대가 서울지하철 3호선 삼송역 바로 앞에 선보이는 오피스텔은 바로 ‘삼송역 현대썬앤빌 더 트리니티’다. 오피스텔은 지하6층~지상 29층 규모의 오피스텔 총 638실과 근린상업시설이 함께 조성된다.더욱이 오피스텔은 수요가 높은 원룸/투룸의 전용면적 중소형평형으로만 선보일 예정이라서 실수요자와 투자자들의 관심이 모아지고 있다.또 삼송역 더블초역세권이라는 입지적 장점으로 임대 시 공실률을 최소화할 수 있는 데다가 저금리 시대에 낮은 투자금액으로 은행예금금리(1.5%)대비 약 7배 이상의 수익률을 낼 수 있다.주변에 북한산이 있어 우수한 전망을 자랑하며, 창릉천, 서오릉 등이 있어 천혜의 자연 환경을 누릴 수 있고 단지 자체는 29층 랜드마크로 삼송역 일대에서 가장 주목 받는 오피스텔로 떠오르고 있다.입지에서 가장 눈에 띄는 것은 교통이다. 삼송역 주변 오피스텔에서 가장 접근성이 빠른 역대급 초역세권으로 교통에서만큼은 타의 추종을 불허한다는 것이 전문가들의 평이다. 바로 앞에 있는 3호선 삼송역을 이용하면 서울 두 정거장으로 광화문을 20분대에 누릴 수 있다.통일로가 자리하고 있고 강변북로, 원흥~강매간도로, 화정~신사간도로(계획), 서울외곽순환고속도로가 인접해 있고, GTX 개통 및 신분당선 연장(예정) 시 더블 초역세권으로 강남까지 20분대 진입이 가능하여 강남 접근성이 더욱 개선 될 전망이다.또 단지 앞에는 슈퍼인프라가 갖추어져 있다. 쇼핑몰, 이마트, 영화관, 명품관 등을 갖춘 신세계 복합쇼핑몰이 들어설 예정이며, 바로 앞에 농협 하나로 클럽이 자리하고 있어 편리하다. 이외에도 이케아 2호점(2017년 예정), 롯데몰 은평점(2016년 개점 예정) 등이 들어설 예정으로 쇼핑의 격이 다르다.오피스텔 저층부로 B1F~2F까지 상업시설로 구성되어 있으며, 오피스텔과 동시 분양예정이다.모델하우스는 경기도 고양시 원흥동 634-6번지에 있으며, 2016년 1월 중 개관 계정이다.문의 : 1877-8838', 'url': 'https://www.hankyung.com/article/201512306121e'}\n",
            "2024-08-09 08:04:51 [scrapy.core.scraper] DEBUG: Scraped from <200 https://www.hankyung.com/article/201601045477g>\n",
            "{'date': '2016.01.04', 'content': '박진수 LG화학 대표이사 부회장(사진)은 4일 신년사에서 \"대외 위협 요인들을 극복하고 지속 성장하기 위해선 사업구조와 사업방식 및 조직문화를 근본적으로 변화시켜야 한다\"고 말했다.\\n                    \\n                        \\n                            \\n                            \\n                        \\n                        \\n                    \\n                박 부회장은 \"새해 경영환경은 예년보다 더욱 불확실하고 어려울 것으로 전망된다\"며 이같이 밝혔다.그는 \"미국의 금리인상과 중국의 석유화학 제품 자급률 상승, 세계경제의 저성장, 저유가에 따른 리스크가 고조되고 있다\"며 \"주요 산업의 주도권이 중국 현지 기업에게 넘어가고 있으며 혁신기술로 무장한 기업들의 위협 역시 높아지고 있다\"고 진단했다.박 부회장은 2016년도 경영방침으로 사업구조 고도화, 고객가치 제고, 기본에 충실한 조직문화 정착 등 3가지를 꼽았다.그는 \"차별적인 고객가치 창출이 가능한 사업을 선정해 자원을 집중적으로 투입해야 한다\"며 \"에너지, 바이오, 무기소재 분야 등을 포함한 미래 신성장 동력 확보에 집중해 철저히 준비해야 한다\"고 강조했다.이어 \"남들이 미처 생각하지 못한 큰 폭의 고객가치 혁신을 이뤄내 시장을 선도해 나가야 한다\"며 \"오픈 이노베이션, 전략적 M&A(인수합병) 등 외부 역량도 적극 활용하자\"고 당부했다.끝으로 \"기본에 충실하면서 집념과 열정으로 끈기 있게 실행하는 조직문화를 정착시켜 나가자\"면서 \"불확실성이 높은 지금의 경영 환경을 헤쳐나가는 가장 좋은 방법은 바로 기본에 더욱 충실하는 것\"이라고 덧붙였다.김정훈 한경닷컴 기자 lennon@hankyung.com', 'url': 'https://www.hankyung.com/article/201601045477g'}\n",
            "2024-08-09 08:04:51 [scrapy.core.scraper] DEBUG: Scraped from <200 https://www.hankyung.com/article/201601046304g>\n",
            "{'date': '2016.01.04', 'content': '손경식 CJ그룹 회장(왼쪽부터), 허영인 SPC그룹 회장, 박문덕 하이트진로 회장. / 사진제공= 각사\\n                    \\n                \"올해도 경제 상황은 어렵겠지만 해외에서 적극 신성장 동력을 발굴해 위기를 극복하겠다.\"식품업계 최고경영자(CEO)들은 4일 신년사를 통해 일제히 올 내수경기가 \"위기 상황\"에 이르렀다고 진단하고 이를 돌파하기 위해 해외 사업 성과 창출 등 다각도 해법을 내놨다.CEO들은 우선 올해 경제 상황도 지난해와 마찬가지로 저성장 기조를 이어갈 것으로 내다봤다.손경식 CJ그룹 회장은 \"올 세계 경제는 미국의 금리인상, 중국과 신흥국의 성장 둔화, 테러로 인한 불안정한 국제 정세 등 다수의 위험 요소들이 잠재돼 있다\"고 진단하며 \"지속적인 저성장 기조가 계속될 것\"이라고 관측했다.그는 \"국내 경제도 가계 부채와 주거비 부담 등이 제약 요인으로 작용해 소비 회복은 미진한 수준에 머물 것\"이라며 \"이러한 상황을 종합적으로 고려하면 올해도 순탄치 않은 경영 환경이 예상된다\"고 말했다.CEO들은 하지만 위기를 기회로 삼아야 한다고 입을 모았다.박문덕 하이트진로 회장은 \\'솥을 깨뜨리고 배를 가라앉힌다\\'는 뜻의 \\'파부침주\\'를 새해 경영 지침으로 제시했다. 단단한 각오와 절박함이 필요하다는 것.박 회장은 \"올해가 시장 반등을 위한 마지막 기회라고 생각해야 한다\"며 \"지난해 실적 개선의 기반을 다졌다면 새해에는 이를 확고히 함으로써 생존을 보장하고 새로운 도약의 출발점을 만들어야 한다\"고 주문했다.허영인 SPC그룹 회장은 위기 상황일수록 기본으로 돌아가 품질경쟁력을 강화해야 한다고 강조했다.그는 \"품질 경쟁력은 기업 경쟁력의 근간이자 성장의 원동력\"이라며 \"독창적인 원천 기술을 개발해 원료부터 차별화된 경쟁력을 확보해야 한다\"고 당부했다.손 회장 역시 \"위기 상황일수록 모든 사업부문에서 핵심 역량을 강화해 압도적인 시장 지위를 확보해야 한다\"며 \"글로벌 역량을 갖춘 인재를 확보하고 체계적으로 육성해 성과를 창출할 수 있는 시스템을 마련하는 것도 중요하다\"고 말했다.신성장 동력 발굴과 위기 극복의 방법으로 CEO들은 일제히 해외 사업에서의 성과를 강조했다. 내수시장의 장기침체로 이제 해외사업에서의 결실은 필수적이라는 것.허 회장은 \"올해는 미국과 중국에서 가맹사업을 본격화 할 것\"이라며 \"70년 간 축적된 노하우로 세계 시장 공략에 나서겠다\"고 포부를 밝혔다.손 회장도 \"글로벌 1등 브랜드 육성 등 성과를 창출할 수 있는 사업으로 위기를 극복해야 한다\"며 \"모든 사업부문이 비효율과 낭비를 철저히 제거하고 구조를 혁신해 수익을 내는 데도 집중해야 할 것\"이라고 말했다.노정동 한경닷컴 기자 dong2@hankyung.com기사제보 및 보도자료 open@hankyung.com', 'url': 'https://www.hankyung.com/article/201601046304g'}\n",
            "2024-08-09 08:04:51 [scrapy.core.engine] DEBUG: Crawled (200) <GET https://plus.hankyung.com/apps/newsinside.view?aid=201601046640A> (referer: None)\n",
            "2024-08-09 08:04:51 [scrapy.core.engine] DEBUG: Crawled (200) <GET https://www.hankyung.com/article/2016010450316> (referer: https://search.hankyung.com/search/news?query=%EA%B8%88%EB%A6%AC&mediaid_clust=HKPAPER,HKCOM&period=DATE&area=ALL&sdate=2016.01.01&edate=2016.02.01&page=51)\n",
            "2024-08-09 08:04:51 [scrapy.core.scraper] DEBUG: Scraped from <200 https://plus.hankyung.com/apps/newsinside.view?aid=201601046640A>\n",
            "{'date': 'No date', 'content': '', 'url': 'https://plus.hankyung.com/apps/newsinside.view?aid=201601046640A'}\n",
            "2024-08-09 08:04:51 [scrapy.core.scraper] DEBUG: Scraped from <200 https://www.hankyung.com/article/2016010450316>\n",
            "{'date': '2016.01.04', 'content': '<좌: 박현주 미래에셋그룹 회장, 우: 김원규 NH투자증권 사장>\\n                    \\n                국내 주요 증권사 최고경영자(CEO)들은 올해 금융 산업 전반에 큰 변화와 도전이 있을 것이라며 이를 헤쳐가기 위한 무기로 \\'고객 중심\\'을 꼽았다.증권사 본연의 기능인 자본 시장 첨병 역할과 고객 부를 늘리는 길만이 거센 변화를 딛고 성공할 수 있는 유일한 길이자 지름길이라는 게 CEO들의 일관된 목소리다.박현주 미래에셋그룹 회장은 4일 신년사를 통해 \"올해 세계 경제는 미국 금리 인상이 가져올 후폭풍과 저유가에 따른 각국 경제의 불균형으로 많은 도전이 예상된다\"며 \"중국 경제도 수출에서 내수소비 중심으로의 변화에 따른 시간이 필요하다\"고 설명했다. 이에 따라 변화를 정확하게 관찰하고 투자해야 한다며 모든 의사 결정 과정에 고객과 주주가치 중심 문화를 정착시키겠다고 밝혔다.박 회장은 \"자산을 고객들이 알아서 배분하도록 내버려두는 것은 투자회사로서 직무유기\"라며 \"절대수익, 대체투자, 글로벌채권, 글로벌자산배분을 통해서 고객 동맹의 원칙 하에 미래에셋이 역할을 해야 한다\"고 강조했다.이를 위해 그룹 본사가 있는 서울 센터원 빌딩에 1000평 규모의 글로벌 트레이딩룸을 만들고 지점에선 강력한 글로벌 리서치로 지원하겠다는 구체적인 실행 방안도 제시했다.김원규 NH투자증권 사장은 회사 중심이 아닌 고객 중심 경영을 통해 \\'착한 증권사\\'가 돼야 성공할 수 있다고 말했다.그는 \"모바일과 핀테크로 금융 환경이 급변하는 만큼 투명하지 못한 사업은 설 자리를 잃을 것\"이라며 \"금융 변화와 투자자 요구에 둔감한 기업은 경쟁에서 뒤쳐지고 착한 기업이 성공하게 될 것\"이라고 진단했다.따라서 고객 관점, 고객 우선의 영업 모델, 영업 행태를 갖춰야 한다고 주문했다. 고객들이 수많은 금융 회사 중 어디를 선택하느냐는, 결국 회사 중심에서 제공하던 서비스를 얼마나 고객 관점으로 바꾸고 고객 요구를 충족하느지에 달렸다는 게 김 사장의 설명이다. 그는 \"자산관리(WM) 영업 직원은 고객 수익률에 집중하도록 프로세스를 구축해야 한다\"며 \"대 기관 영업에서는 연기금, 운용사, 일반 법인 등 기관 특성에 맞춰 전문화를 추진해야 한다\"고 말했다.김신 SK증권 사장은 고객 중심 경영을 위해 회사 구성원 스스로 최고의 \\'금융 전문가\\'가 되야 한다고 주문했다.현실에 안주하지 않고 역량 강화에 힘써 구성원 각자가 전문가가 되는 것이 회사 발전과 고객, 개인의 행복을 추구하는 지름길이라는 설명이다.장승철 하나금융투자 사장도 \"향후 금융투자업계에서의 사활은 고객 수익률에서 결판난다\"며 \"회사의 모든 노력을 고객 수익률 증대와 고객 수 증대에 집중하겠다\"고 밝혔다.이를 위해 프라이빗투자은행(PIB) 부문에서는 고객의 모든 포트폴리오에 리서치 추천 종목을 30% 이상 편입하고, \\'중국 1등주\\'의 뒤를 이을 해외 상품 개발과 출시를 서두르겠다는 계획이다.장 사장은 \"고객 수익률이 좋아지면 고객 수도 자연스럽게 늘어날 것\"이라며 \"성취와 가치를 위해 근무하고 회사에 대한 신뢰와 믿음을 가져달라\"고 당부했다.권민경 한경닷컴 기자 kyoung@hankyung.com', 'url': 'https://www.hankyung.com/article/2016010450316'}\n",
            "2024-08-09 08:04:52 [scrapy.core.engine] DEBUG: Crawled (200) <GET https://www.hankyung.com/article/2016010464346> (referer: https://search.hankyung.com/search/news?query=%EA%B8%88%EB%A6%AC&mediaid_clust=HKPAPER,HKCOM&period=DATE&area=ALL&sdate=2016.01.01&edate=2016.02.01&page=51)\n",
            "2024-08-09 08:04:52 [scrapy.core.scraper] DEBUG: Scraped from <200 https://www.hankyung.com/article/2016010464346>\n",
            "{'date': '2016.01.04', 'content': '사진=게티이미지뱅크\\n                    \\n                지금으로부터 40년 전인 1976년 코스피지수는 100을 밑돌았다. 지난해 마지막 거래일이었던 2015년 12월 30일 코스피지수는 1961.31로 마감했다.코스피지수는 40년 만에 20배 가까이 급등했다. 그렇다면 앞으로 40년 뒤 코스피지수는 어느 수준까지 올라 있을까.4일 황영기 금융투자협회 회장은 \"40년 뒤에는 코스피지수가 3만포인트를 넘어서고 시가총액은 2경에 이를 것으로 기대한다\"고 밝혔다.황 회장은 이날 한국거래소 설립 60주년을 맞아 가진 타임캡슐 행사에서 이같은 내용을 적은 편지를 캡슐에 넣어 보냈다고 밝혔다.그는 \"금리가 정상화돼서 앞으로 40년 동안 평균 금리가 3~5% 수준이라고 가정하면 증시는 그와 2~3% 정도 차이가 난다\"며 \"이에 따라 5~8% 수익률이 난다고 보고, 해마다 평균 7%씩 성장하는 걸 가정할 수 있지 않겠느냐\"고 말했다.실제 코스피지수가 1000에서 2000포인트까지 올 때도 지수는 평균 7% 정도 성장했다며, 주식에 투자했을 때 7% 수익을 내지 못한다면 그 시장은 문제가 있는 것이라고 설명했다.황 회장은 \"40년 동안 평균 7%씩 성장한다고 계산하면 2056년에는 코스피지수가 3만포인트에 도달할 수 있다\"며 \"시가총액은 2경에 이르고 한국은 미국, 일본과 함께 세계 3위권 자본 시장에 들어갈 수 있다\"고 내다봤다.그는 \"개별 주식이 7%씩 오른다는 건 아니지만 시장 전체로는 평균 7% 성장이 가능하다\"며 \"이를 고려할 때 노후를 바라보고 개별 종목보다는 코스피지수 전체에 투자하는 게 좋을 것\"이라고 조언했다.또 장기적으로 볼 때 미국이나 유럽처럼 성장 잠재력이 떨어지는 국가보다는 중국, 베트남 같은 신흥국에 투자하는 게 유리하다고 덧붙였다.황 회장은 삼성투자신탁운용과 삼성증권, 우리금융과 KB금융지주 등 증권업계와 은행업계 전반을 두루 거친 금융업계 최고 전문가다. 소신있는 발언과 공격적인 경영 스타일로 \\'검투사\\'란 별명이 따라다닌다.40년 뒤 타임캡슐이 열렸을 때 황 회장이 적어보낸 편지 속 전망은 얼마나 맞을까. 그 역시도 \"막상 써놓긴 했지만 나조차도 궁금하다\"고 말했다.권민경 한경닷컴 기자 kyoung@hankyung.com', 'url': 'https://www.hankyung.com/article/2016010464346'}\n",
            "2024-08-09 08:04:54 [scrapy.core.engine] DEBUG: Crawled (200) <GET https://www.hankyung.com/article/2016010466536> (referer: https://search.hankyung.com/search/news?query=%EA%B8%88%EB%A6%AC&mediaid_clust=HKPAPER,HKCOM&period=DATE&area=ALL&sdate=2016.01.01&edate=2016.02.01&page=51)\n",
            "2024-08-09 08:04:54 [scrapy.core.scraper] DEBUG: Scraped from <200 https://www.hankyung.com/article/2016010466536>\n",
            "{'date': '2016.01.04', 'content': '황영기 금융투자협회장(사진)은 올해 증권업계 최대 현안 중 하나로 개인종합자산관리계좌(ISA)를 꼽고 은행이 아닌 증권사가 주도권을 가져가야 한다고 강조했다.황 회장은 4일 새해를 맞아 기자들과 만남을 갖고 \"올 한해는 ISA가 가장 큰 상품이 될 것\"이라며 \"ISA 계좌를 은행이 많이 가져가느냐, 증권사가 가져가느냐가 문제\"라고 밝혔다.정부가 저금리 시대 근로자와 자영업자의 재산 형성을 지원하기 위해 올해 초 도입할 예정인 ISA는 이른바 \\'만능 통장\\'으로 불린다.예·적금을 포함해 주식, 채권, 펀드 등을 담을 수 있는 계좌로 매년 2000만원 한도에서 5년간 최대 1억원까지 투자할 수 있다. 5년간 발생한 이익에 대해 최대 200만원까지 비과세 혜택을 주고 초과 수익에 대해서는 9.9%로 분리 과세한다.황 회장은 \"예금 금리가 1%대인 걸 감안하면 ISA는 결국 증권형 상품으로 채워지리라 예상한다\"며 \"다만 점포 수가 증권보다 많은 은행들이 지점에서 ISA를 목숨 걸고 팔 가능성이 있다\"고 지적했다.그는 \"이렇게 되면 (증권업계가) 열심히 ISA 제도 도입을 위해 노력했는데도 실질적으로는 은행이 대부분을 가져갈 수 있게 된다\"며 \"증권사들이 좀 더 활발하게 마케팅을 하고 계좌 유치에도 적극 나서야 한다\"고 주문했다.실제 한국보다 먼저 ISA를 도입한 일본의 경우 계좌 안에 예·적금은 제외하고 주식과 펀드 등만을 담을 수 있다. 영국은 예금형 계좌와 증권형 계좌로 나뉘어 운영하고 있다.황 회장은 앞서 신년사를 통해서도 \"새로 도입하는 ISA는 획기적인 세제혜택 상품\"이라며 \"증권사가 계좌 설정에서 자산관리까지의 전 과정을 가장 효율적으로 운영할 수 있는 만큼 적극적으로 영업에 임해야 한다\"고 말했다.황 회장은 이날 또 모바일과 핀테크에 따른 금융업계 변화 속에서 \\'비용 절감\\' 문제가 쓰나미처럼 불어닥칠 것이라며 \\'성과\\'에 따른 보수 체계가 도입돼야 한다고 밝혔다.그는 \"증권업계는 물론 은행, 보험 등 금융권 전반에서 비용 문제가 큰 숙제가 되고 있다\"며 \"이를 해결하기 위한 방법 중 하나는 성과별로 보수 체계를 달리 하는 것\"이라고 설명했다. 금융투자협회 차원에서도 성과급 체계 개편을 검토하고 있다고도 언급했다.핀테크와 관련해선 증권사들이 \\'기술\\'에 지나치게 함몰되는 경향이 있다며 이보다는 고객에게 줄 수 있는 가치, 콘텐츠가 무엇인지를 고민해야 한다고 조언했다.권민경 한경닷컴 기자 kyoung@hankyung.com', 'url': 'https://www.hankyung.com/article/2016010466536'}\n",
            "2024-08-09 08:04:54 [scrapy.core.engine] DEBUG: Crawled (200) <GET https://www.hankyung.com/article/2016010456446> (referer: https://search.hankyung.com/search/news?query=%EA%B8%88%EB%A6%AC&mediaid_clust=HKPAPER,HKCOM&period=DATE&area=ALL&sdate=2016.01.01&edate=2016.02.01&page=51)\n",
            "2024-08-09 08:04:54 [scrapy.core.scraper] DEBUG: Scraped from <200 https://www.hankyung.com/article/2016010456446>\n",
            "{'date': '2016.01.04', 'content': '신성호 IBK투자증권 대표이사\\n                    \\n                신성호 IBK투자증권 대표이사는 4일 신년사를 통해 \"중소기업 특화증권사 선정을 위해 노력하겠다\"며 \"정책금융 분야에 적극적으로 참여할 것\"이라고 말했다.또 올해 중점 과제로 \\'사업 포트폴리오 재정비\\'와 \\'정책금융 분야 적극적 참여\\' \\'윤리경영제도 마련\\' \\'임직원 지원\\' 등을 신 대표는 꼽았다.그는 \"경쟁력 있는 사업에 더 많은 자원을 배치해 효율성을 높이겠다\"며 \"부족한 부문은 교육을 통해 내부 인력을 키우는 등 임직원 역량 강화를 위한 지원을 아끼지 않겠다\"라고 강조했다.다음은 신년사 전문.자랑스러운 IBK투자증권 가족 여러분, 안녕하십니까? 2016년 새해가 밝았습니다.올해는 병신년, 붉은 원숭이의 해라고 합니다. 붉은색은 행운과 복, 부를 뜻하는 상서로운 색입니다. 특히 우리 주식시장에서는 주가 상승을 빨간색으로 표시합니다. 그리고 원숭이는 동물 중에 특히 재주가 많고 영리한 것으로 알려졌습니다. 올해에 재주 많은 붉은 원숭이의 기운을 받아 우리 IBK투자증권이 더욱 발전하고, 임직원 여러분도 크게 성장하길 기원합니다.  지난해 우리는 어려운 여건 속에서도 의미있는 성과를 거두었습니다. 사업부문별 경쟁력이 향상되고 영업기반이 확대되면서 설립 이래 최대 당기순이익을 시현할 수 있었습니다. 그리고 증자를 통한 자기자본 확충에 성공함으로써 한층더 성장기반을 마련하였습니다. 이 모든 것은 임직원 여러분의 헌신과 노력이 있었기에 가능했다고 생각합니다. 오늘 이 자리를 빌려 여러분의 노고에 진심으로 감사드립니다.임직원 여러분!우리를 둘러싼 불확실한 경영환경은 한순간도 긴장의 끈을 놓을 수 없도록 하고 있습니다.대외적으로 미국 금리 인상과 전세계적인 성장 둔화로 국내 경제 전망을 낙관할 수 없는 상황입니다. 우리 내부적으로도 가계 부채 증가, 기업 구조조정 등 곳곳에 악재가 도사리고 있습니다. 증권업계에서는 자기자본 7조원대의 초대형 증권사가 등장하면서 대대적인 지각변동이 예상되는 동시에, 각종 규제가 강화되어 중소형 증권사의 생존경쟁은 더욱 치열해질 것입니다. 하지만 우리는 그동안 수많은 난관과 도전에 직면할 때마다 우리의 저력을 유감없이 발휘하며 목표 달성에 성공했습니다. 그 과정에서 얻은 \\'할 수 있다\\'는 자신감은 다른 무엇에도 견줄 수 없는 우리만의 경쟁력입니다. 이 자신감을 바탕으로 올해에도 어려움을 현명하게 극복해 나갑시다.IBK투자증권 임직원 여러분 !2016년 첫 걸음을 내딛는 오늘, 우리 회사의 전략에 대한 공감대를 다지고, 우리의 역량을 한데 모으기 위한 목표를 함께 공유하고자 합니다. 올해는 네 가지 과제를 중점적으로 실행하고자 합니다. 첫째, 균형 있는 성장을 위해 사업 포트폴리오를 재정비하겠습니다. 경쟁력 있는 사업에 더 많은 자원을 배치하여 자원의 효율성을 높이겠습니다. 부족한 부문에는 교육 등을 통해 내부 인력을 키우도록 하겠습니다. 그리하여 각 부문 모두에 걸쳐 필요한 우수 인력을 크게 늘리겠습니다.둘째, 정책금융 분야에 적극적으로 참여하겠습니다.특히 중소기업 특화증권사 선정을 위해 노력하겠습니다. 우리 회사는 그동안 코넥스시장 상장 주관 1위, 창조경제 신기술 투자조합 결성 등 창조경제 활성화를 위한 중소․중견기업 성장 지원에 중추적 역할을 담당해왔습니다. 올해에는 중소기업 특화증권사로서 정책금융 분야에 선도적인 입지를 더욱 다져나갑시다.  셋째, 불건전한 영업행위를 근절하기 위한 윤리경영제도를 마련하겠습니다. 지난해 여의도에는 각종 사건 사고가 끊이지 않았습니다. 금융기관의 생명은 \\'신뢰\\'이며, 금융인으로서 도덕성과 준법의식의 중요성은 아무리 강조해도 지나치지 않습니다. 윤리경영을 위해서는 좋은 시스템과 제도뿐만 아니라 개개인의 높은 윤리의식이 뒷받침되어야 한다는 점을 깊이 인식해 주셨으면 합니다.마지막으로, 올해에도 임직원 여러분의 역량 강화를 위한 지원을 아끼지 않겠습니다. 지난해 다양한 교육프로그램을 시행하고 각종 인프라를 개선하여 우리 회사에 학습하는 조직문화가 정착해가는 것을 느낄 수 있었습니다. 비록 시간이 걸리더라도 학습 문화는 꾸준히 실천해 나갈 것입니다.이를 위해 각 부문 리더들에게 당부드립니다.조직문화의 정착은 리더의 솔선수범과 자기희생이 전제되어야 합니다. 지난해 당사는 계열사 청렴도 평가에서 절대평점이 가장 높지는 않았지만 신장면에서는 가장 괄목할 만한 성취를 했습니다. 그러나 리더십 관련 부문의 평점은 낮았습니다. 이는 저를 비롯한 책임자들의 자기희생과 직원 돌봄이 적었기 때문이지 않나 싶습니다. 조직은 직원들로부터의 결속력에서 다져지는데, 결속력은 직원들의 차상급자에 자발적 존경으로부터 비롯됩니다. 때문에 각 부서장들은 책임자로서 역할의 중요성을 다시 한 번 주지하고 부서원의 자질 함양에 더욱 힘써주시길 바랍니다. 사랑하는 IBK투자증권 가족 여러분!지난해 우리는 \\'최고의 경쟁력으로 고객과 함께 성장하는 정상의 증권사\\'라는 비전을 발표하였습니다. 이제는 이 비전을 실천에 옮겨야 할 때입니다. 위기를 오히려 새롭게 도약할 기회로 인식하고 여러분 모두 각자 맡은 분야에서 업계 최고의 컨설턴트가 되기 위한 노력을 지속해 주시기 바랍니다. 우리 다 같이 2016년 한 해를 힘차게 시작해 봅시다. 감사합니다.박상재 한경닷컴 기자 sangjae@hankyung.com', 'url': 'https://www.hankyung.com/article/2016010456446'}\n",
            "2024-08-09 08:04:58 [scrapy.core.engine] DEBUG: Crawled (200) <GET https://www.hankyung.com/article/2016010456236> (referer: https://search.hankyung.com/search/news?query=%EA%B8%88%EB%A6%AC&mediaid_clust=HKPAPER,HKCOM&period=DATE&area=ALL&sdate=2016.01.01&edate=2016.02.01&page=51)\n",
            "2024-08-09 08:04:58 [scrapy.core.scraper] DEBUG: Scraped from <200 https://www.hankyung.com/article/2016010456236>\n",
            "{'date': '2016.01.04', 'content': '박의헌 KTB투자증권 대표는 4일 신년사를 통해 \"2016년도 지난해 못지않은 어려움이 예상된다\"면서도 \"특화된 금융투자회사로서 전 계열사의 흑자 기조를 정착시키는 원년으로 만들 것\"이라고 말했다.\\n                    \\n                        \\n                            \\n                            \\n                        \\n                        \\n                    \\n                그는 \"장기 불황의 우려 속에서 미래에 대한 확고한 비전이 없다면 거센 변화의 바람과 파도에 휩쓸릴 것\"이라며 위기를 이겨내기 위한 세 가지 목표를 제시했다.그는 \"기업금융 중심의 신성장 동력 비즈니스를 추진해 미래 신규 수익원을 확보해야 한다\"며 \"정부가 추진중인 중소기업 특화증권사 비즈니스 모델 구축, 신규 사모펀드 투자상품 개발 등 특화된 영역에서 시장을 선도해야 한다\"고 밝혔다.이어 \"기존 영업 역량도 적극적으로 확대해야 한다\"며 \"수세적 전략에 머무르지 않고 과감히 시장을 공략해야 한다\"고 주장했다.박 대표는 마지막으로 \"지난해 국내 계열사의 흑자를 이뤘고 올해는 국내외 전 계열사의 흑자화를 이룰 차례\"라며 \"이를 위해 해외 계열사와 연계한 크로스보더 딜을 강화하고, 해외 현지법인의 영업 확대를 위한 자금 확충과 현지 네트워크 확보에 더욱 노력할 것\"이라고 강조했다.다음은 신년사 전문.존경하는 KTB투자증권 임직원 여러분!2016년 병신년(丙申年) 새해가 밝았습니다.새해에도 임직원 여러분 모두의 가정에 평안과 행복이 깃들길 기원합니다.늘 그렇듯 지난 해 역시 금융투자업계는 많은 변화와 부침을 겪었습니다. 상반기 유동성 장세로 급등했던 주식 시장은 하반기 미국의 금리인상, 중국 증시 급락 등 대외 상황 악화로 하락해서,  2014년 말 주가 수준으로 회귀하여 3년째 박스권 장세에 머물고 있습니다.다행스럽게도 작년 연초에 규제와 금융소비자 보호 기조라는 정부의 금융투자업 정책이 장기 불황에 대한 우려감으로, 하반기부터 점차 금융투자업 활성화로 무게 중심을 옮기고 있습니다.이렇게 급변하는 환경 속에서도, 지난 한 해 동안 회사를 정상화 시키기 위해 애쓰신 모든 임직원 여러분들께 진심으로 감사 드립니다.KTB투자증권 임직원 여러분!올해도 국내 주력 산업의 침체와 산업 전반에 걸친 구조조정에 대한 우려가 지속될 예정입니다. 그리고, 투자심리에 역행하는 각종 수수료 및 세제 개편과 원유, 철강 등 원자재 가격의 하락을 비롯한 디플레이션에 대한 압력 등으로 2016년 금융시장도 작년 못지 않은 어려운 상황이 예상됩니다.2016년 장기 불황의 우려 속에, 우리는 미래에 대한 확고한 비전을 가지고 업무에 임하지 않는다면 거센 변화의 바람과 파도에 휩쓸리고 말 것입니다.이러한 급변하는 상황을 헤쳐가기 위해 저는 금년에 세가지를 여러분께 당부 드리고자 합니다.첫째, 기업금융 중심의 신성장 동력 비즈니스를 본격적으로 추진하여, 특화된 금융투자회사로서 미래 신규 수익원을 확보해야 하겠습니다이를 위해 우선 정부에서 추진중인 중소기업 특화증권사 비즈니스 모델을 구축하고, 관련 기업금융 기반을 강화할 것입니다. 그리고, 신규 사모펀드 투자상품 개발 등 계열사를 포함하여 우리의 역량을 총 망라한 상품을 개발하고, 국내시장에서 초기 단계인 중소기업에 특화된 전문 M&A 비즈니스를 시작하고자 합니다.이는 우리 회사가 업계에서 확고한 브랜드 이미지 구축과 동시에 특화된 영역에서 시장을 선도할 기반이 될 것입니다.둘째, 우리가 경쟁력을 가지고 있는 기존 영업 역량을 적극적으로 확대해 나가야 하겠습니다.시장이 어렵다고 생존 기반의 수세적 전략에 머물지 않고, 경쟁력 있는 부문을 중심으로 과감히 시장을 공략해 나가야 하겠습니다. 경쟁사에 비해 우위를 가지고 있는 사업부문은 조직을 확대하고 추가적인 자원 투입을 통한 공격적인 영업 전략으로, 안정적인 수익 성장을 실현해야 하겠습니다.마지막으로, 해외 계열사를 포함해 전 계열사가 명실상부한 흑자 기조를 정착하는 원년으로 만들고자 합니다.작년 우리 회사는 전 계열사 흑자 기조 정착을 위해 노력했으며, 계열사를 포함한 모든 임직원의 노력으로 국내 계열사는 안정적인 흑자 기반을 갖추었습니다. 국내 계열사인 KTB자산운용, KTB네트워크, KTB PE, 나라신용정보는 금년에도 지속적인 운영자산 확대 노력 등으로 더욱 공고한 수익 창출을 기대하고 있습니다. 이제 2016년에는 모든 해외계열사의 안정적 흑자 기반도 달성코자 합니다. 이를 위해 해외 계열사와 연계한 크로스보더 딜을 강화하고, 해외 현지법인의 영업 확대를 위한 자금 확충과 현지 네트워크 확보에 더욱 노력할 것입니다.저는 2016년 올 한해, 이 세가지 기반이 확실하게 우리회사에 뿌리 내릴 수 있도록 최선을 다할 것입니다. 이를 통해 회사와 그룹이 장기 지속적인 수익성장을 시현하고 시장에서 KTB의 위상과 입지를 명확히 구축할 수 있도록 신명을 바치도록 하겠습니다.임직원 여러분들도 이러한 각오를 마음 속에 새기고, 우리가 특화된 금융투자회사로서 증권시장을 이끌어가는 주인공이라는 자부심과 소명의식을 갖고 업무에 임해 주시길 당부 드립니다.지난 1년간의 노고에 다시 한번 감사 드리며, 새해에도 항상 건강하고 가정에 행복이 가득하길 기원합니다.새해 복 많이 받으십시오.김아름 한경닷컴 기자 armijjang@hankyung.com', 'url': 'https://www.hankyung.com/article/2016010456236'}\n",
            "2024-08-09 08:04:58 [scrapy.core.engine] INFO: Closing spider (finished)\n",
            "2024-08-09 08:04:58 [scrapy.extensions.feedexport] INFO: Stored json feed (60 items) in: hankyung_news.json\n",
            "2024-08-09 08:04:58 [scrapy.statscollectors] INFO: Dumping Scrapy stats:\n",
            "{'downloader/request_bytes': 27248,\n",
            " 'downloader/request_count': 67,\n",
            " 'downloader/request_method_count/GET': 67,\n",
            " 'downloader/response_bytes': 1547219,\n",
            " 'downloader/response_count': 67,\n",
            " 'downloader/response_status_count/200': 66,\n",
            " 'downloader/response_status_count/301': 1,\n",
            " 'elapsed_time_seconds': 13.556763,\n",
            " 'feedexport/success_count/FileFeedStorage': 1,\n",
            " 'finish_reason': 'finished',\n",
            " 'finish_time': datetime.datetime(2024, 8, 9, 8, 4, 58, 399923, tzinfo=datetime.timezone.utc),\n",
            " 'httpcompression/response_bytes': 7031384,\n",
            " 'httpcompression/response_count': 66,\n",
            " 'item_scraped_count': 60,\n",
            " 'log_count/DEBUG': 128,\n",
            " 'log_count/INFO': 11,\n",
            " 'memusage/max': 219582464,\n",
            " 'memusage/startup': 219582464,\n",
            " 'request_depth_max': 6,\n",
            " 'response_received_count': 66,\n",
            " 'scheduler/dequeued': 67,\n",
            " 'scheduler/dequeued/memory': 67,\n",
            " 'scheduler/enqueued': 67,\n",
            " 'scheduler/enqueued/memory': 67,\n",
            " 'start_time': datetime.datetime(2024, 8, 9, 8, 4, 44, 843160, tzinfo=datetime.timezone.utc)}\n",
            "2024-08-09 08:04:58 [scrapy.core.engine] INFO: Spider closed (finished)\n"
          ]
        }
      ]
    },
    {
      "cell_type": "markdown",
      "source": [
        "## 날짜 데이터 가져오기"
      ],
      "metadata": {
        "id": "bD8Eo9E8QBBS"
      }
    },
    {
      "cell_type": "code",
      "source": [
        "import pandas as pd\n",
        "from datetime import datetime, timedelta\n",
        "\n",
        "# 주어진 announce_date 리스트\n",
        "announce_dates = [\n",
        "    '2005-01-13', '2005-02-15', '2005-03-10', '2005-04-07', '2005-05-12', '2005-06-09', '2005-07-07',\n",
        "    '2005-08-11', '2005-09-08', '2005-10-11', '2005-11-10', '2005-12-08', '2006-01-12', '2006-02-09',\n",
        "    '2006-03-09', '2006-04-07', '2006-05-11', '2006-06-08', '2006-07-07', '2006-08-10', '2006-09-07',\n",
        "    '2006-10-12', '2006-11-09', '2006-12-07', '2007-01-11', '2007-02-08', '2007-03-08', '2007-04-12',\n",
        "    '2007-05-10', '2007-06-08', '2007-07-12', '2007-08-09', '2007-09-07', '2007-10-11', '2007-11-08',\n",
        "    '2007-12-07', '2008-01-10', '2008-02-13', '2008-03-07', '2008-04-10', '2008-05-08', '2008-06-12',\n",
        "    '2008-07-10', '2008-08-07', '2008-09-11', '2008-10-09', '2008-10-27', '2008-11-07', '2008-12-11',\n",
        "    '2009-01-09', '2009-02-12', '2009-03-12', '2009-04-09', '2009-05-12', '2009-06-11', '2009-07-09',\n",
        "    '2009-08-11', '2009-09-10', '2009-10-09', '2009-11-12', '2009-12-10', '2010-01-08', '2010-02-11',\n",
        "    '2010-03-11', '2010-04-09', '2010-05-12', '2010-06-10', '2010-07-09', '2010-08-12', '2010-09-09',\n",
        "    '2010-10-14', '2010-11-16', '2010-12-09', '2011-01-13', '2011-02-11', '2011-03-10', '2011-04-12',\n",
        "    '2011-05-13', '2011-06-10', '2011-07-14', '2011-08-11', '2011-09-08', '2011-10-13', '2011-11-11',\n",
        "    '2011-12-08', '2012-01-13', '2012-02-09', '2012-03-08', '2012-04-13', '2012-05-10', '2012-06-08',\n",
        "    '2012-07-12', '2012-08-09', '2012-09-13', '2012-10-11', '2012-11-09', '2012-12-13', '2013-01-11',\n",
        "    '2013-02-14', '2013-03-14', '2013-04-11', '2013-05-09', '2013-06-13', '2013-07-11', '2013-08-08',\n",
        "    '2013-09-12', '2013-10-10', '2013-11-14', '2013-12-12', '2014-01-09', '2014-02-13', '2014-03-13',\n",
        "    '2014-04-10', '2014-05-09', '2014-06-12', '2014-07-10', '2014-08-14', '2014-09-12', '2014-10-15',\n",
        "    '2014-11-13', '2014-12-11', '2015-01-15', '2015-02-17', '2015-03-12', '2015-04-09', '2015-05-15',\n",
        "    '2015-06-11', '2015-07-09', '2015-08-13', '2015-09-11', '2015-10-15', '2015-11-12', '2015-12-10',\n",
        "    '2016-01-14', '2016-02-16', '2016-03-10', '2016-04-19', '2016-05-13', '2016-06-09', '2016-07-14',\n",
        "    '2016-08-11', '2016-09-09', '2016-10-13', '2016-11-11', '2016-12-15', '2017-01-13', '2017-02-23',\n",
        "    '2017-04-13', '2017-05-25', '2017-07-13', '2017-08-31', '2017-10-19', '2017-11-30', '2018-01-18',\n",
        "    '2018-02-27', '2018-04-12', '2018-05-24', '2018-07-12', '2018-08-31', '2018-10-18', '2018-11-30',\n",
        "    '2019-01-24', '2019-02-28', '2019-04-18', '2019-05-31', '2019-07-18', '2019-08-30', '2019-10-16',\n",
        "    '2019-11-29', '2020-01-17', '2020-02-27', '2020-03-16', '2020-04-09', '2020-05-28', '2020-07-16',\n",
        "    '2020-08-27', '2020-10-14', '2020-11-26', '2021-01-15', '2021-02-25', '2021-04-15', '2021-05-27',\n",
        "    '2021-07-15', '2021-08-26', '2021-10-12', '2021-11-25', '2022-01-14', '2022-02-24', '2022-04-14',\n",
        "    '2022-05-26', '2022-07-13', '2022-08-25', '2022-10-12', '2022-11-24', '2023-01-13', '2023-02-23',\n",
        "    '2023-04-11', '2023-05-25', '2023-07-13', '2023-08-24', '2023-10-19', '2023-11-30', '2024-01-11',\n",
        "    '2024-02-22', '2024-04-12', '2024-05-23', '2024-07-11', '2024-08-22', '2024-10-11', '2024-11-28'\n",
        "]\n",
        "\n",
        "# 결과를 저장할 리스트\n",
        "results = []\n",
        "\n",
        "# announce_dates 리스트를 datetime 객체로 변환\n",
        "dates = [datetime.strptime(date, '%Y-%m-%d') for date in announce_dates]\n",
        "\n",
        "# 각 날짜에 대해 start와 end 계산\n",
        "for i in range(len(dates) - 1):\n",
        "    start_date = dates[i] + timedelta(days=1)\n",
        "    end_date = dates[i + 1] - timedelta(days=1)\n",
        "    results.append({\n",
        "        'start': start_date.strftime('%Y.%m.%d'),\n",
        "        'end': end_date.strftime('%Y.%m.%d')\n",
        "    })\n",
        "\n",
        "# 마지막 announce_date 이후의 범위 처리 (optional, if needed)\n",
        "# results.append({\n",
        "#     'start': dates[-1] + timedelta(days=1),\n",
        "#     'end': 'N/A'  # No end date as it's the last date\n",
        "# })\n",
        "\n",
        "# DataFrame으로 변환\n",
        "df = pd.DataFrame(results)\n",
        "\n",
        "# 출력\n",
        "print(df)\n"
      ],
      "metadata": {
        "colab": {
          "base_uri": "https://localhost:8080/"
        },
        "id": "be0uP4LUN8Zh",
        "outputId": "e5d1fd1a-27aa-480d-9c4d-2bcad2c5d580"
      },
      "execution_count": 86,
      "outputs": [
        {
          "output_type": "stream",
          "name": "stdout",
          "text": [
            "          start         end\n",
            "0    2005.01.14  2005.02.14\n",
            "1    2005.02.16  2005.03.09\n",
            "2    2005.03.11  2005.04.06\n",
            "3    2005.04.08  2005.05.11\n",
            "4    2005.05.13  2005.06.08\n",
            "..          ...         ...\n",
            "204  2024.04.13  2024.05.22\n",
            "205  2024.05.24  2024.07.10\n",
            "206  2024.07.12  2024.08.21\n",
            "207  2024.08.23  2024.10.10\n",
            "208  2024.10.12  2024.11.27\n",
            "\n",
            "[209 rows x 2 columns]\n"
          ]
        }
      ]
    },
    {
      "cell_type": "code",
      "source": [
        "df.to_csv('date_range.csv', index=False)"
      ],
      "metadata": {
        "id": "j-5WnozMOESk"
      },
      "execution_count": 87,
      "outputs": []
    },
    {
      "cell_type": "markdown",
      "source": [
        "## 날짜별 데이터 크롤링"
      ],
      "metadata": {
        "id": "b8iJciA6QHAB"
      }
    },
    {
      "cell_type": "code",
      "source": [
        "# run_spiders.py 생성 후 코드 입력\n",
        "import csv\n",
        "import subprocess\n",
        "\n",
        "def run_spider_for_date_range(search_term, start_date, end_date):\n",
        "    # Scrapy command to run the spider\n",
        "    cmd = [\n",
        "        'scrapy', 'crawl', 'hankyung_news',\n",
        "        '-a', f'search_term={search_term}',\n",
        "        '-a', f'start_date={start_date}',\n",
        "        '-a', f'end_date={end_date}',\n",
        "        '-o', f'{start_date}_{end_date}_news.csv'\n",
        "    ]\n",
        "    subprocess.run(cmd)\n",
        "\n",
        "def main():\n",
        "    input_csv = 'date_range.csv'\n",
        "\n",
        "    with open(input_csv, mode='r') as file:\n",
        "        reader = csv.DictReader(file)\n",
        "        for row in reader:\n",
        "            start_date = row['start']\n",
        "            end_date = row['end']\n",
        "            search_term = '금리'  # Example search term, modify as needed\n",
        "            run_spider_for_date_range(search_term, start_date, end_date)\n",
        "\n",
        "if __name__ == \"__main__\":\n",
        "    main()\n"
      ],
      "metadata": {
        "id": "wuFRW-RVQKn3"
      },
      "execution_count": 88,
      "outputs": []
    },
    {
      "cell_type": "code",
      "source": [
        "!python run_spiders.py"
      ],
      "metadata": {
        "colab": {
          "base_uri": "https://localhost:8080/"
        },
        "id": "8AMzrNVOTAB7",
        "outputId": "9302acbc-e594-4586-aadb-6bf757fc088f"
      },
      "execution_count": 89,
      "outputs": [
        {
          "output_type": "stream",
          "name": "stdout",
          "text": [
            "python3: can't open file '/content/run_spiders.py': [Errno 2] No such file or directory\n"
          ]
        }
      ]
    },
    {
      "cell_type": "markdown",
      "source": [
        "## CSV 저장"
      ],
      "metadata": {
        "id": "DLeJIkf9QDqU"
      }
    },
    {
      "cell_type": "code",
      "source": [
        "import pandas as pd\n",
        "import json\n",
        "\n",
        "# JSON 파일 경로\n",
        "json_file = 'hankyung_news.json'\n",
        "# CSV 파일 경로\n",
        "csv_file = 'hankyung_news.csv'\n",
        "\n",
        "# JSON 파일 읽기\n",
        "try:\n",
        "    with open(json_file, 'r', encoding='utf-8') as file:\n",
        "        data = json.load(file)\n",
        "except json.JSONDecodeError as e:\n",
        "    print(f\"JSONDecodeError: {e}\")\n",
        "    data = []  # 빈 리스트로 초기화\n",
        "\n",
        "# 데이터가 리스트 형태인지 확인\n",
        "if isinstance(data, list):\n",
        "    # DataFrame으로 변환\n",
        "    df = pd.DataFrame(data)\n",
        "\n",
        "    # 저장된 기사 개수 출력\n",
        "    print(f\"저장된 기사의 개수: {len(df)}\")\n",
        "\n",
        "    # CSV로 저장\n",
        "    df.to_csv(csv_file, index=False, encoding='utf-8-sig')\n",
        "    print(f\"CSV 파일이 저장되었습니다: {csv_file}\")\n",
        "else:\n",
        "    print(\"JSON 데이터가 리스트가 아닙니다. 파일 형식을 확인하세요.\")\n"
      ],
      "metadata": {
        "colab": {
          "base_uri": "https://localhost:8080/"
        },
        "id": "YP2Gf8U83rkI",
        "outputId": "e24c6347-b641-4eea-fd4c-b74b4f48ebf5"
      },
      "execution_count": 85,
      "outputs": [
        {
          "output_type": "stream",
          "name": "stdout",
          "text": [
            "저장된 기사의 개수: 60\n",
            "CSV 파일이 저장되었습니다: hankyung_news.csv\n"
          ]
        }
      ]
    }
  ]
}