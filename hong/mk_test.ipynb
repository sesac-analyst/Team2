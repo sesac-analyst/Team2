{
 "cells": [
  {
   "cell_type": "code",
   "execution_count": 6,
   "metadata": {},
   "outputs": [],
   "source": [
    "import requests\n",
    "from bs4 import BeautifulSoup"
   ]
  },
  {
   "cell_type": "code",
   "execution_count": 7,
   "metadata": {},
   "outputs": [
    {
     "data": {
      "text/plain": [
       "<Response [200]>"
      ]
     },
     "execution_count": 7,
     "metadata": {},
     "output_type": "execute_result"
    }
   ],
   "source": [
    "url = 'https://www.mk.co.kr/search/news?word=%EA%B8%88%EB%A6%AC'\n",
    "res = requests.get(url)\n",
    "res"
   ]
  },
  {
   "cell_type": "code",
   "execution_count": 12,
   "metadata": {},
   "outputs": [],
   "source": [
    "# 매일경제 뉴스 기사 링크 추출\n",
    "soup2 = BeautifulSoup(res.text, 'html.parser')\n",
    "news_items =soup2.select(\"a.news_item\")\n",
    "news_links = []\n",
    "\n",
    "for i in news_items:\n",
    "    href = i.attrs['href']\n",
    "    news_links.append(href)"
   ]
  },
  {
   "cell_type": "code",
   "execution_count": 101,
   "metadata": {},
   "outputs": [],
   "source": [
    "# 더보기 버튼 끝까지 누르기 -> 뉴스 기사 링크 추출 -> 각 링크별 본문 내용 수집 및 저장 -> scrapy로 수정작성 필요"
   ]
  }
 ],
 "metadata": {
  "kernelspec": {
   "display_name": "nlp",
   "language": "python",
   "name": "python3"
  },
  "language_info": {
   "codemirror_mode": {
    "name": "ipython",
    "version": 3
   },
   "file_extension": ".py",
   "mimetype": "text/x-python",
   "name": "python",
   "nbconvert_exporter": "python",
   "pygments_lexer": "ipython3",
   "version": "3.8.19"
  }
 },
 "nbformat": 4,
 "nbformat_minor": 2
}
