{
 "cells": [
  {
   "cell_type": "code",
   "execution_count": 2,
   "metadata": {},
   "outputs": [],
   "source": [
    "import pandas as pd\n",
    "import numpy as np\n",
    "import seaborn as sns\n",
    "import matplotlib.pyplot as plt\n",
    "from sklearn.metrics import confusion_matrix"
   ]
  },
  {
   "cell_type": "code",
   "execution_count": 3,
   "metadata": {},
   "outputs": [],
   "source": [
    "base_rate = pd.read_csv(\"C:/Users/SesacPython/Desktop/dataset/금리예측프로젝트/base_rate.csv\")\n",
    "\n",
    "# confusion matrix\n",
    "# cm1 - 뉴스 기준\n",
    "# cm2 - 의사록 기준\n",
    "y_true = list(base_rate.polarity)\n",
    "y_pred_by_news = list(base_rate.pred)\n",
    "y_pred_by_mpc = list(base_rate.mpc_pol_pred)\n",
    "cm1 = confusion_matrix(y_true, y_pred_by_news)\n",
    "cm2 = confusion_matrix(y_true, y_pred_by_mpc)"
   ]
  },
  {
   "cell_type": "code",
   "execution_count": 4,
   "metadata": {},
   "outputs": [
    {
     "data": {
      "text/plain": [
       "array([[70, 64, 26],\n",
       "       [ 0, 25,  0],\n",
       "       [ 1,  0, 16]], dtype=int64)"
      ]
     },
     "execution_count": 4,
     "metadata": {},
     "output_type": "execute_result"
    }
   ],
   "source": [
    "cm1"
   ]
  },
  {
   "cell_type": "code",
   "execution_count": 4,
   "metadata": {},
   "outputs": [
    {
     "data": {
      "text/plain": [
       "array([[61, 77, 22],\n",
       "       [ 4, 21,  0],\n",
       "       [ 9,  0,  8]], dtype=int64)"
      ]
     },
     "execution_count": 4,
     "metadata": {},
     "output_type": "execute_result"
    }
   ],
   "source": [
    "cm2"
   ]
  },
  {
   "cell_type": "code",
   "execution_count": 13,
   "metadata": {},
   "outputs": [],
   "source": [
    "# accuracy, precision, recall, f1 score 계산\n",
    "cm1_accuracy = sum([cm1[i][i] for i in range(3)]) / sum(sum(cm1))\n",
    "cm2_accuracy = sum([cm2[i][i] for i in range(3)]) / sum(sum(cm2))\n",
    "\n",
    "cm1_precision_0 = cm1[0][0] / sum([cm1[i][0] for i in range(3)])\n",
    "cm1_precision_1 = cm1[1][1] / sum([cm1[i][1] for i in range(3)])\n",
    "cm1_precision_2 = cm1[2][2] / sum([cm1[i][2] for i in range(3)])\n",
    "\n",
    "\n",
    "cm2_precision_0 = cm2[0][0] / sum([cm2[i][0] for i in range(3)])\n",
    "cm2_precision_1 = cm2[1][1] / sum([cm2[i][1] for i in range(3)])\n",
    "cm2_precision_2 = cm2[2][2] / sum([cm2[i][2] for i in range(3)])\n",
    "\n",
    "\n",
    "cm1_recall_0 = cm1[0][0] / sum(cm1[0])\n",
    "cm1_recall_1 = cm1[1][1] / sum(cm1[1])\n",
    "cm1_recall_2 = cm1[2][2] / sum(cm1[2])\n",
    "\n",
    "\n",
    "cm2_recall_0 = cm2[0][0] / sum(cm2[0])\n",
    "cm2_recall_1 = cm2[1][1] / sum(cm2[1])\n",
    "cm2_recall_2 = cm2[2][2] / sum(cm2[2])\n",
    "\n",
    "cm1_f1_0 = 2*cm1_precision_0*cm1_recall_0 / (cm1_precision_0 + cm1_recall_0)\n",
    "cm1_f1_1 = 2*cm1_precision_1*cm1_recall_1 / (cm1_precision_1 + cm1_recall_1)\n",
    "cm1_f1_2 = 2*cm1_precision_2*cm1_recall_2 / (cm1_precision_2 + cm1_recall_2)\n",
    "\n",
    "cm2_f1_0 = 2*cm2_precision_0*cm2_recall_0 / (cm2_precision_0 + cm2_recall_0)\n",
    "cm2_f1_1 = 2*cm2_precision_1*cm2_recall_1 / (cm2_precision_1 + cm2_recall_1)\n",
    "cm2_f1_2 = 2*cm2_precision_2*cm2_recall_2 / (cm2_precision_2 + cm2_recall_2)"
   ]
  },
  {
   "cell_type": "code",
   "execution_count": 8,
   "metadata": {},
   "outputs": [
    {
     "data": {
      "text/plain": [
       "array([[70, 64, 26],\n",
       "       [ 0, 25,  0],\n",
       "       [ 1,  0, 16]], dtype=int64)"
      ]
     },
     "execution_count": 8,
     "metadata": {},
     "output_type": "execute_result"
    }
   ],
   "source": [
    "cm1"
   ]
  },
  {
   "cell_type": "code",
   "execution_count": 12,
   "metadata": {},
   "outputs": [
    {
     "data": {
      "text/plain": [
       "(0.6060606060606061, 0.4385964912280702, 0.5423728813559321)"
      ]
     },
     "execution_count": 12,
     "metadata": {},
     "output_type": "execute_result"
    }
   ],
   "source": [
    "cm1_f1_0, cm1_f1_1, cm1_f1_2"
   ]
  },
  {
   "cell_type": "code",
   "execution_count": 14,
   "metadata": {},
   "outputs": [
    {
     "name": "stdout",
     "output_type": "stream",
     "text": [
      "              precision    recall  f1-score   support\n",
      "\n",
      "           0       0.99      0.44      0.61       160\n",
      "           1       0.28      1.00      0.44        25\n",
      "           2       0.38      0.94      0.54        17\n",
      "\n",
      "    accuracy                           0.55       202\n",
      "   macro avg       0.55      0.79      0.53       202\n",
      "weighted avg       0.85      0.55      0.58       202\n",
      "\n"
     ]
    }
   ],
   "source": [
    "# sklearn 비교(cm1)\n",
    "from sklearn.metrics import classification_report\n",
    "print(classification_report(y_true, y_pred_by_news))"
   ]
  },
  {
   "cell_type": "code",
   "execution_count": 15,
   "metadata": {},
   "outputs": [],
   "source": [
    "li_0 = cm1_precision_0, cm1_recall_0, cm1_f1_0\n",
    "li_1 = cm1_precision_1, cm1_recall_1, cm1_f1_1\n",
    "li_2 = cm1_precision_2, cm1_recall_2, cm1_f1_2"
   ]
  },
  {
   "cell_type": "code",
   "execution_count": 16,
   "metadata": {},
   "outputs": [
    {
     "name": "stdout",
     "output_type": "stream",
     "text": [
      "(0.9859154929577465, 0.4375, 0.6060606060606061)\n",
      "(0.2808988764044944, 1.0, 0.4385964912280702)\n",
      "(0.38095238095238093, 0.9411764705882353, 0.5423728813559321)\n",
      "0.5495049504950495\n"
     ]
    }
   ],
   "source": [
    "print(li_0)\n",
    "print(li_1)\n",
    "print(li_2)\n",
    "print(cm1_accuracy)"
   ]
  },
  {
   "cell_type": "code",
   "execution_count": 17,
   "metadata": {},
   "outputs": [
    {
     "name": "stdout",
     "output_type": "stream",
     "text": [
      "              precision    recall  f1-score   support\n",
      "\n",
      "           0       0.82      0.38      0.52       160\n",
      "           1       0.21      0.84      0.34        25\n",
      "           2       0.27      0.47      0.34        17\n",
      "\n",
      "    accuracy                           0.45       202\n",
      "   macro avg       0.44      0.56      0.40       202\n",
      "weighted avg       0.70      0.45      0.48       202\n",
      "\n"
     ]
    }
   ],
   "source": [
    "# sklearn 비교(cm2)\n",
    "from sklearn.metrics import classification_report\n",
    "print(classification_report(y_true, y_pred_by_mpc))"
   ]
  },
  {
   "cell_type": "code",
   "execution_count": 18,
   "metadata": {},
   "outputs": [],
   "source": [
    "cm2_li_0 = cm2_precision_0, cm2_recall_0, cm2_f1_0\n",
    "cm2_li_1 = cm2_precision_1, cm2_recall_1, cm2_f1_1\n",
    "cm2_li_2 = cm2_precision_2, cm2_recall_2, cm2_f1_2"
   ]
  },
  {
   "cell_type": "code",
   "execution_count": 19,
   "metadata": {},
   "outputs": [
    {
     "name": "stdout",
     "output_type": "stream",
     "text": [
      "(0.8243243243243243, 0.38125, 0.5213675213675214)\n",
      "(0.21428571428571427, 0.84, 0.3414634146341463)\n",
      "(0.26666666666666666, 0.47058823529411764, 0.3404255319148936)\n",
      "0.44554455445544555\n"
     ]
    }
   ],
   "source": [
    "print(cm2_li_0)\n",
    "print(cm2_li_1)\n",
    "print(cm2_li_2)\n",
    "print(cm2_accuracy)"
   ]
  },
  {
   "cell_type": "code",
   "execution_count": null,
   "metadata": {},
   "outputs": [],
   "source": []
  }
 ],
 "metadata": {
  "kernelspec": {
   "display_name": "nlp",
   "language": "python",
   "name": "python3"
  },
  "language_info": {
   "codemirror_mode": {
    "name": "ipython",
    "version": 3
   },
   "file_extension": ".py",
   "mimetype": "text/x-python",
   "name": "python",
   "nbconvert_exporter": "python",
   "pygments_lexer": "ipython3",
   "version": "3.8.19"
  }
 },
 "nbformat": 4,
 "nbformat_minor": 2
}
